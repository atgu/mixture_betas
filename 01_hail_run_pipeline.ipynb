{
 "cells": [
  {
   "cell_type": "code",
   "execution_count": null,
   "id": "498b8690-24c5-458b-b09d-bd5c70ad442b",
   "metadata": {
    "scrolled": true,
    "tags": []
   },
   "outputs": [],
   "source": [
    "import hail\n",
    "\n",
    "import hailtop.batch as hb\n",
    "\n",
    "\n",
    "\n",
    "import pandas as pd"
   ]
  },
  {
   "cell_type": "code",
   "execution_count": null,
   "id": "dfe25a29-9ba9-416d-8bc1-bad0b96dbd07",
   "metadata": {},
   "outputs": [],
   "source": []
  },
  {
   "cell_type": "markdown",
   "id": "1429ec03-17ae-41d4-99ae-a2317ea9498c",
   "metadata": {
    "tags": []
   },
   "source": [
    "Explaination of script\n",
    "--\n",
    "This script creates a hail batch object that is able to send a job to a hail cluster. \n",
    "\n",
    "The jobs that we will be sending is the empirical bayes pipeline. \n",
    "\n",
    "\n",
    "\n"
   ]
  },
  {
   "cell_type": "code",
   "execution_count": 4,
   "id": "0204836d-94a7-4737-bd25-6be03e41840d",
   "metadata": {
    "tags": []
   },
   "outputs": [],
   "source": [
    "\n",
    "\n",
    "alt_splice_sites=pd.read_csv(data_directory+'alt_splice_sites_filtered_for_popPSI.csv.gz', compression='gzip')\n",
    "\n",
    "\n",
    "\n",
    "\n",
    "\n",
    "gtex_tissue_list=sorted(list(set(alt_splice_sites.tissue)))"
   ]
  },
  {
   "cell_type": "code",
   "execution_count": null,
   "id": "ffaaa806-2639-4e30-b5e9-b8bc64d4b97e",
   "metadata": {},
   "outputs": [],
   "source": []
  },
  {
   "cell_type": "code",
   "execution_count": 2,
   "id": "3645fa2f-d525-4a4e-8c22-f2540a1b2f99",
   "metadata": {
    "scrolled": true
   },
   "outputs": [
    {
     "data": {
      "text/html": [
       "<pre style=\"white-space:pre;overflow-x:auto;line-height:normal;font-family:Menlo,'DejaVu Sans Mono',consolas,'Courier New',monospace\"></pre>\n"
      ],
      "text/plain": [
       "\u001b[?25l"
      ]
     },
     "metadata": {},
     "output_type": "display_data"
    },
    {
     "data": {
      "application/vnd.jupyter.widget-view+json": {
       "model_id": "3f937ec93572477a83c1c3219066675c",
       "version_major": 2,
       "version_minor": 0
      },
      "text/plain": [
       "Output()"
      ]
     },
     "metadata": {},
     "output_type": "display_data"
    },
    {
     "data": {
      "text/html": [
       "<pre style=\"white-space:pre;overflow-x:auto;line-height:normal;font-family:Menlo,'DejaVu Sans Mono',consolas,'Courier New',monospace\">\n",
       "</pre>\n"
      ],
      "text/plain": [
       "\n",
       "\u001b[?25h"
      ]
     },
     "metadata": {},
     "output_type": "display_data"
    },
    {
     "data": {
      "text/html": [
       "<pre style=\"white-space:pre;overflow-x:auto;line-height:normal;font-family:Menlo,'DejaVu Sans Mono',consolas,'Courier New',monospace\"></pre>\n"
      ],
      "text/plain": [
       "\u001b[?25l"
      ]
     },
     "metadata": {},
     "output_type": "display_data"
    },
    {
     "data": {
      "application/vnd.jupyter.widget-view+json": {
       "model_id": "f5be8c39040c4f06a15862914d0061d2",
       "version_major": 2,
       "version_minor": 0
      },
      "text/plain": [
       "Output()"
      ]
     },
     "metadata": {},
     "output_type": "display_data"
    },
    {
     "data": {
      "text/html": [
       "<pre style=\"white-space:pre;overflow-x:auto;line-height:normal;font-family:Menlo,'DejaVu Sans Mono',consolas,'Courier New',monospace\">\r",
       "\u001b[2K\n",
       "KeyboardInterrupt\n",
       "<a href=\"https://batch.hail.is/batches/8241673\" target=\"_blank\">8241673</a> <span style=\"color: #729c1f; text-decoration-color: #729c1f\">━━━━━╸</span><span style=\"color: #3a3a3a; text-decoration-color: #3a3a3a\">━━━━━━━━━━━━━━━━━━━━━━━━━━━━━━━━━━</span> <span style=\"color: #800080; text-decoration-color: #800080\"> 15%</span> <span style=\"color: #008000; text-decoration-color: #008000\"> 68/468</span> <span style=\"color: #008080; text-decoration-color: #008080\">0:03:22</span> <span style=\"color: #808000; text-decoration-color: #808000\">0:05:11</span></pre>\n"
      ],
      "text/plain": [
       "\r",
       "\u001b[2K\n",
       "KeyboardInterrupt\n",
       "\u001b]8;id=306908;https://batch.hail.is/batches/8241673\u001b\\8241673\u001b]8;;\u001b\\ \u001b[38;2;114;156;31m━━━━━\u001b[0m\u001b[38;2;114;156;31m╸\u001b[0m\u001b[38;5;237m━━━━━━━━━━━━━━━━━━━━━━━━━━━━━━━━━━\u001b[0m \u001b[35m 15%\u001b[0m \u001b[32m 68/468\u001b[0m \u001b[36m0:03:22\u001b[0m \u001b[33m0:05:11\u001b[0m"
      ]
     },
     "metadata": {},
     "output_type": "display_data"
    },
    {
     "data": {
      "text/html": [
       "<pre style=\"white-space:pre;overflow-x:auto;line-height:normal;font-family:Menlo,'DejaVu Sans Mono',consolas,'Courier New',monospace\">\r",
       "\u001b[2K\n",
       "<a href=\"https://batch.hail.is/batches/8241673\" target=\"_blank\">8241673</a> <span style=\"color: #729c1f; text-decoration-color: #729c1f\">━━━━━╸</span><span style=\"color: #3a3a3a; text-decoration-color: #3a3a3a\">━━━━━━━━━━━━━━━━━━━━━━━━━━━━━━━━━━</span> <span style=\"color: #800080; text-decoration-color: #800080\"> 15%</span> <span style=\"color: #008000; text-decoration-color: #008000\"> 68/468</span> <span style=\"color: #008080; text-decoration-color: #008080\">0:03:22</span> <span style=\"color: #808000; text-decoration-color: #808000\">0:05:11</span></pre>\n"
      ],
      "text/plain": [
       "\r",
       "\u001b[2K\n",
       "\u001b]8;id=532779;https://batch.hail.is/batches/8241673\u001b\\8241673\u001b]8;;\u001b\\ \u001b[38;2;114;156;31m━━━━━\u001b[0m\u001b[38;2;114;156;31m╸\u001b[0m\u001b[38;5;237m━━━━━━━━━━━━━━━━━━━━━━━━━━━━━━━━━━\u001b[0m \u001b[35m 15%\u001b[0m \u001b[32m 68/468\u001b[0m \u001b[36m0:03:22\u001b[0m \u001b[33m0:05:11\u001b[0m"
      ]
     },
     "metadata": {},
     "output_type": "display_data"
    }
   ],
   "source": [
    "b = hb.Batch(backend=backend, name='emp_bayes')\n",
    "num_jobs = 25 #samples every 100 index\n",
    "\n",
    "\n",
    "\n",
    "#scale to all lists of simulations\n",
    "simulation_type=['single_1',\n",
    "                'single_2',\n",
    "                'double_1','double_2',\n",
    "                 'triple_1', 'triple_2']\n",
    "data_amt=['low', 'mid', 'high']\n",
    "i=0\n",
    "k=0\n",
    "for i in range(len(simulation_type)):\n",
    "\n",
    "    for k in range(len(data_amt)):\n",
    "        l = b.new_job(name='all_data_ammounts')\n",
    "        l.memory('20Gi')\n",
    "        l.image('us-central1-docker.pkg.dev/finucane-splicing-hj/testing/testing_beta_binom:v4')\n",
    "        tissue='test_tissue'\n",
    "    #localizing the files\n",
    "        input_script = \"/home/run_optimizer_alt_ss_w_mixed_effects.py\"    \n",
    "        \n",
    "        input_file_tissue = b.read_input(\"gs://sqtl_gtex/files/testing/mixture_testing/inputs_simulations/\"+data_amt[k]+\"_NVE_\"+simulation_type[i]+\"_counts.csv.gz\")\n",
    "        \n",
    "        input_file_to_filter_events = b.read_input(\"gs://sqtl_gtex/files/testing/mixture_testing/inputs_simulations/filtering_exons_in_test_sample.csv.gz\")\n",
    "            \n",
    "        \n",
    "        for job_index in range(num_jobs):\n",
    "            \n",
    "            j = b.new_job(name='run_emp_bayes_test_')\n",
    "            j.memory('20Gi')\n",
    "            j.image('us-central1-docker.pkg.dev/finucane-splicing-hj/testing/testing_beta_binom:v4')\n",
    "        \n",
    "            j.command(f'python3 {input_script} \\\n",
    "                            --tissue {tissue} \\\n",
    "                                --filter_file {input_file_to_filter_events} \\\n",
    "                                --tissue_file {input_file_tissue} \\\n",
    "                                --output_file {j.output} \\\n",
    "                                --num_jobs {num_jobs} \\\n",
    "                                --job_index {job_index}')\n",
    "        \n",
    "            b.write_output(j.output, f'gs://sqtl_gtex/files/testing/mixture_testing/outputs_simulations_new_pipeline/{data_amt[k]}_{simulation_type[i]}_EF_FPR_5_alphas_betas-{job_index}.csv')\n",
    "        \n",
    "            \n",
    "b.run()\n",
    "\n",
    "\n",
    "\n",
    "    "
   ]
  },
  {
   "cell_type": "code",
   "execution_count": 22,
   "id": "f112c53f-ea59-4b93-9c7d-8561be376091",
   "metadata": {},
   "outputs": [
    {
     "name": "stdout",
     "output_type": "stream",
     "text": [
      "[__RESOURCE_FILE__1345, __RESOURCE_FILE__1346, __RESOURCE_FILE__1347, __RESOURCE_FILE__1348, __RESOURCE_FILE__1349, __RESOURCE_FILE__1350, __RESOURCE_FILE__1351, __RESOURCE_FILE__1352, __RESOURCE_FILE__1353, __RESOURCE_FILE__1354]\n",
      "[__RESOURCE_FILE__1397, __RESOURCE_FILE__1398, __RESOURCE_FILE__1399, __RESOURCE_FILE__1400, __RESOURCE_FILE__1401, __RESOURCE_FILE__1402, __RESOURCE_FILE__1403, __RESOURCE_FILE__1404, __RESOURCE_FILE__1405, __RESOURCE_FILE__1406]\n",
      "[__RESOURCE_FILE__1449, __RESOURCE_FILE__1450, __RESOURCE_FILE__1451, __RESOURCE_FILE__1452, __RESOURCE_FILE__1453, __RESOURCE_FILE__1454, __RESOURCE_FILE__1455, __RESOURCE_FILE__1456, __RESOURCE_FILE__1457, __RESOURCE_FILE__1458]\n",
      "[__RESOURCE_FILE__1501, __RESOURCE_FILE__1502, __RESOURCE_FILE__1503, __RESOURCE_FILE__1504, __RESOURCE_FILE__1505, __RESOURCE_FILE__1506, __RESOURCE_FILE__1507, __RESOURCE_FILE__1508, __RESOURCE_FILE__1509, __RESOURCE_FILE__1510]\n",
      "[__RESOURCE_FILE__1553, __RESOURCE_FILE__1554, __RESOURCE_FILE__1555, __RESOURCE_FILE__1556, __RESOURCE_FILE__1557, __RESOURCE_FILE__1558, __RESOURCE_FILE__1559, __RESOURCE_FILE__1560, __RESOURCE_FILE__1561, __RESOURCE_FILE__1562]\n",
      "[__RESOURCE_FILE__1605, __RESOURCE_FILE__1606, __RESOURCE_FILE__1607, __RESOURCE_FILE__1608, __RESOURCE_FILE__1609, __RESOURCE_FILE__1610, __RESOURCE_FILE__1611, __RESOURCE_FILE__1612, __RESOURCE_FILE__1613, __RESOURCE_FILE__1614]\n",
      "[__RESOURCE_FILE__1657, __RESOURCE_FILE__1658, __RESOURCE_FILE__1659, __RESOURCE_FILE__1660, __RESOURCE_FILE__1661, __RESOURCE_FILE__1662, __RESOURCE_FILE__1663, __RESOURCE_FILE__1664, __RESOURCE_FILE__1665, __RESOURCE_FILE__1666]\n",
      "[__RESOURCE_FILE__1709, __RESOURCE_FILE__1710, __RESOURCE_FILE__1711, __RESOURCE_FILE__1712, __RESOURCE_FILE__1713, __RESOURCE_FILE__1714, __RESOURCE_FILE__1715, __RESOURCE_FILE__1716, __RESOURCE_FILE__1717, __RESOURCE_FILE__1718]\n",
      "[__RESOURCE_FILE__1761, __RESOURCE_FILE__1762, __RESOURCE_FILE__1763, __RESOURCE_FILE__1764, __RESOURCE_FILE__1765, __RESOURCE_FILE__1766, __RESOURCE_FILE__1767, __RESOURCE_FILE__1768, __RESOURCE_FILE__1769, __RESOURCE_FILE__1770]\n",
      "[__RESOURCE_FILE__1813, __RESOURCE_FILE__1814, __RESOURCE_FILE__1815, __RESOURCE_FILE__1816, __RESOURCE_FILE__1817, __RESOURCE_FILE__1818, __RESOURCE_FILE__1819, __RESOURCE_FILE__1820, __RESOURCE_FILE__1821, __RESOURCE_FILE__1822]\n",
      "[__RESOURCE_FILE__1865, __RESOURCE_FILE__1866, __RESOURCE_FILE__1867, __RESOURCE_FILE__1868, __RESOURCE_FILE__1869, __RESOURCE_FILE__1870, __RESOURCE_FILE__1871, __RESOURCE_FILE__1872, __RESOURCE_FILE__1873, __RESOURCE_FILE__1874]\n",
      "[__RESOURCE_FILE__1917, __RESOURCE_FILE__1918, __RESOURCE_FILE__1919, __RESOURCE_FILE__1920, __RESOURCE_FILE__1921, __RESOURCE_FILE__1922, __RESOURCE_FILE__1923, __RESOURCE_FILE__1924, __RESOURCE_FILE__1925, __RESOURCE_FILE__1926]\n",
      "[__RESOURCE_FILE__1969, __RESOURCE_FILE__1970, __RESOURCE_FILE__1971, __RESOURCE_FILE__1972, __RESOURCE_FILE__1973, __RESOURCE_FILE__1974, __RESOURCE_FILE__1975, __RESOURCE_FILE__1976, __RESOURCE_FILE__1977, __RESOURCE_FILE__1978]\n",
      "[__RESOURCE_FILE__2021, __RESOURCE_FILE__2022, __RESOURCE_FILE__2023, __RESOURCE_FILE__2024, __RESOURCE_FILE__2025, __RESOURCE_FILE__2026, __RESOURCE_FILE__2027, __RESOURCE_FILE__2028, __RESOURCE_FILE__2029, __RESOURCE_FILE__2030]\n",
      "[__RESOURCE_FILE__2073, __RESOURCE_FILE__2074, __RESOURCE_FILE__2075, __RESOURCE_FILE__2076, __RESOURCE_FILE__2077, __RESOURCE_FILE__2078, __RESOURCE_FILE__2079, __RESOURCE_FILE__2080, __RESOURCE_FILE__2081, __RESOURCE_FILE__2082]\n",
      "[__RESOURCE_FILE__2125, __RESOURCE_FILE__2126, __RESOURCE_FILE__2127, __RESOURCE_FILE__2128, __RESOURCE_FILE__2129, __RESOURCE_FILE__2130, __RESOURCE_FILE__2131, __RESOURCE_FILE__2132, __RESOURCE_FILE__2133, __RESOURCE_FILE__2134]\n",
      "[__RESOURCE_FILE__2177, __RESOURCE_FILE__2178, __RESOURCE_FILE__2179, __RESOURCE_FILE__2180, __RESOURCE_FILE__2181, __RESOURCE_FILE__2182, __RESOURCE_FILE__2183, __RESOURCE_FILE__2184, __RESOURCE_FILE__2185, __RESOURCE_FILE__2186]\n",
      "[__RESOURCE_FILE__2229, __RESOURCE_FILE__2230, __RESOURCE_FILE__2231, __RESOURCE_FILE__2232, __RESOURCE_FILE__2233, __RESOURCE_FILE__2234, __RESOURCE_FILE__2235, __RESOURCE_FILE__2236, __RESOURCE_FILE__2237, __RESOURCE_FILE__2238]\n"
     ]
    },
    {
     "data": {
      "text/html": [
       "<pre style=\"white-space:pre;overflow-x:auto;line-height:normal;font-family:Menlo,'DejaVu Sans Mono',consolas,'Courier New',monospace\"></pre>\n"
      ],
      "text/plain": [
       "\u001b[?25l"
      ]
     },
     "metadata": {},
     "output_type": "display_data"
    },
    {
     "data": {
      "application/vnd.jupyter.widget-view+json": {
       "model_id": "2ce804ed6c2141a9ba696b145a5e5191",
       "version_major": 2,
       "version_minor": 0
      },
      "text/plain": [
       "Output()"
      ]
     },
     "metadata": {},
     "output_type": "display_data"
    },
    {
     "data": {
      "text/html": [
       "<pre style=\"white-space:pre;overflow-x:auto;line-height:normal;font-family:Menlo,'DejaVu Sans Mono',consolas,'Courier New',monospace\">\n",
       "</pre>\n"
      ],
      "text/plain": [
       "\n",
       "\u001b[?25h"
      ]
     },
     "metadata": {},
     "output_type": "display_data"
    },
    {
     "data": {
      "text/html": [
       "<pre style=\"white-space:pre;overflow-x:auto;line-height:normal;font-family:Menlo,'DejaVu Sans Mono',consolas,'Courier New',monospace\"></pre>\n"
      ],
      "text/plain": [
       "\u001b[?25l"
      ]
     },
     "metadata": {},
     "output_type": "display_data"
    },
    {
     "data": {
      "application/vnd.jupyter.widget-view+json": {
       "model_id": "1bab0b00e3934205b1621bbd71940f5f",
       "version_major": 2,
       "version_minor": 0
      },
      "text/plain": [
       "Output()"
      ]
     },
     "metadata": {},
     "output_type": "display_data"
    },
    {
     "data": {
      "text/html": [
       "<pre style=\"white-space:pre;overflow-x:auto;line-height:normal;font-family:Menlo,'DejaVu Sans Mono',consolas,'Courier New',monospace\">\n",
       "</pre>\n"
      ],
      "text/plain": [
       "\n",
       "\u001b[?25h"
      ]
     },
     "metadata": {},
     "output_type": "display_data"
    },
    {
     "name": "stdout",
     "output_type": "stream",
     "text": [
      "batch 8241677 complete: success\n"
     ]
    },
    {
     "data": {
      "text/plain": [
       "<hailtop.batch_client.client.Batch at 0x1400f1d10>"
      ]
     },
     "execution_count": 22,
     "metadata": {},
     "output_type": "execute_result"
    }
   ],
   "source": [
    "b = hb.Batch(backend=backend, name='emp_bayes')\n",
    "directory='gs://sqtl_gtex/files/testing/mixture_testing/outputs_simulations_new_pipeline/'\n",
    "\n",
    "j = b.new_job(name='run_emp_bayes_test_')\n",
    "j.memory('20Gi')\n",
    "j.image('us-central1-docker.pkg.dev/finucane-splicing-hj/testing/testing_beta_binom:v4')\n",
    "for i in range(len(simulation_type)):\n",
    "    for k in range(len(data_amt)):\n",
    "        files_given_sim=[]\n",
    "        \n",
    "        for job_index in range(num_jobs):\n",
    "    \n",
    "            file=data_amt[k]+'_'+simulation_type[i]+'_EF_FPR_5_alphas_betas-'+str(job_index)+'.csv'\n",
    "            \n",
    "            o_file=b.read_input(directory+file)\n",
    "\n",
    "            files_given_sim.append(o_file)\n",
    "            new_file_name=data_amt[k]+'_'+simulation_type[i]+'_EF_FPR_5_alphas_betas.csv'\n",
    "        print(files_given_sim[0:10])\n",
    "        ofile = hb.concatenate(b, files_given_sim, branching_factor=2)\n",
    "        b.write_output(ofile, f'gs://sqtl_gtex/files/testing/mixture_testing/outputs_simulations_new_pipeline/all_{new_file_name}') \n",
    "b.run()"
   ]
  },
  {
   "cell_type": "code",
   "execution_count": null,
   "id": "0ac0826c-b418-4767-a40f-358486c107e1",
   "metadata": {},
   "outputs": [],
   "source": []
  },
  {
   "cell_type": "markdown",
   "id": "b53eaa38-bf13-445d-a179-6a3cfa74453d",
   "metadata": {},
   "source": [
    "# run new pipeline on all tissues\n",
    "\n",
    "\n"
   ]
  },
  {
   "cell_type": "markdown",
   "id": "4bac7a60-2a2f-4c7b-8b87-f20fe38013cb",
   "metadata": {},
   "source": [
    "# 1. alt ss\n",
    "--"
   ]
  },
  {
   "cell_type": "code",
   "execution_count": 4,
   "id": "fb61b8d4-ac5c-4825-987b-b0d3eaad38d5",
   "metadata": {},
   "outputs": [],
   "source": [
    "data_directory='/Users/hannahjacobs/Dropbox (MIT)/GradSchool/Finucane/splicing_variation_in_humans_2022/data/00_data/emp_bayes_input/'\n",
    "\n",
    "\n",
    "alt_splice_sites=pd.read_csv(data_directory+'alt_splice_sites_filtered_for_popPSI.csv.gz', compression='gzip')\n",
    "\n",
    "\n",
    "\n",
    "\n",
    "\n",
    "gtex_tissue_list=list(set(alt_splice_sites.tissue))"
   ]
  },
  {
   "cell_type": "code",
   "execution_count": null,
   "id": "93b2e5a1-4517-4180-b520-7fb67f4a570a",
   "metadata": {},
   "outputs": [
    {
     "data": {
      "text/html": [
       "<pre style=\"white-space:pre;overflow-x:auto;line-height:normal;font-family:Menlo,'DejaVu Sans Mono',consolas,'Courier New',monospace\"></pre>\n"
      ],
      "text/plain": [
       "\u001b[?25l"
      ]
     },
     "metadata": {},
     "output_type": "display_data"
    },
    {
     "data": {
      "application/vnd.jupyter.widget-view+json": {
       "model_id": "6fa36442dbb84359b10bfb9befb175b5",
       "version_major": 2,
       "version_minor": 0
      },
      "text/plain": [
       "Output()"
      ]
     },
     "metadata": {},
     "output_type": "display_data"
    },
    {
     "data": {
      "text/html": [
       "<pre style=\"white-space:pre;overflow-x:auto;line-height:normal;font-family:Menlo,'DejaVu Sans Mono',consolas,'Courier New',monospace\">\n",
       "</pre>\n"
      ],
      "text/plain": [
       "\n",
       "\u001b[?25h"
      ]
     },
     "metadata": {},
     "output_type": "display_data"
    },
    {
     "data": {
      "text/html": [
       "<pre style=\"white-space:pre;overflow-x:auto;line-height:normal;font-family:Menlo,'DejaVu Sans Mono',consolas,'Courier New',monospace\"></pre>\n"
      ],
      "text/plain": [
       "\u001b[?25l"
      ]
     },
     "metadata": {},
     "output_type": "display_data"
    },
    {
     "data": {
      "application/vnd.jupyter.widget-view+json": {
       "model_id": "84cfd7265f4e469ea3b5c1912808ac14",
       "version_major": 2,
       "version_minor": 0
      },
      "text/plain": [
       "Output()"
      ]
     },
     "metadata": {},
     "output_type": "display_data"
    },
    {
     "data": {
      "text/html": [
       "<pre style=\"white-space:pre;overflow-x:auto;line-height:normal;font-family:Menlo,'DejaVu Sans Mono',consolas,'Courier New',monospace\">\n",
       "</pre>\n"
      ],
      "text/plain": [
       "\n",
       "\u001b[?25h"
      ]
     },
     "metadata": {},
     "output_type": "display_data"
    },
    {
     "data": {
      "text/html": [
       "<pre style=\"white-space:pre;overflow-x:auto;line-height:normal;font-family:Menlo,'DejaVu Sans Mono',consolas,'Courier New',monospace\"></pre>\n"
      ],
      "text/plain": [
       "\u001b[?25l"
      ]
     },
     "metadata": {},
     "output_type": "display_data"
    },
    {
     "data": {
      "application/vnd.jupyter.widget-view+json": {
       "model_id": "e30e361c16414df690db936e297c38ad",
       "version_major": 2,
       "version_minor": 0
      },
      "text/plain": [
       "Output()"
      ]
     },
     "metadata": {},
     "output_type": "display_data"
    },
    {
     "data": {
      "text/html": [
       "<pre style=\"white-space:pre;overflow-x:auto;line-height:normal;font-family:Menlo,'DejaVu Sans Mono',consolas,'Courier New',monospace\">\n",
       "</pre>\n"
      ],
      "text/plain": [
       "\n",
       "\u001b[?25h"
      ]
     },
     "metadata": {},
     "output_type": "display_data"
    },
    {
     "data": {
      "text/html": [
       "<pre style=\"white-space:pre;overflow-x:auto;line-height:normal;font-family:Menlo,'DejaVu Sans Mono',consolas,'Courier New',monospace\"></pre>\n"
      ],
      "text/plain": [
       "\u001b[?25l"
      ]
     },
     "metadata": {},
     "output_type": "display_data"
    },
    {
     "data": {
      "application/vnd.jupyter.widget-view+json": {
       "model_id": "89a77d198c8f42f299f4099a0f712a2d",
       "version_major": 2,
       "version_minor": 0
      },
      "text/plain": [
       "Output()"
      ]
     },
     "metadata": {},
     "output_type": "display_data"
    }
   ],
   "source": [
    "b = hb.Batch(backend=backend, name='emp_bayes')\n",
    "num_jobs = 1000\n",
    "\n",
    "#list_of_tissues=['Whole_Blood','Adipose_Subcutaneous']\n",
    "\n",
    "list_of_tissues=gtex_tissue_list\n",
    "\n",
    "b = hb.Batch(backend=backend, name='emp_bayes')\n",
    "\n",
    "for tissue in list_of_tissues:\n",
    "    \n",
    "    \n",
    "  \n",
    "    for job_index in range(num_jobs):\n",
    "    \n",
    "        j = b.new_job(name='run_emp_bayes_'+tissue)\n",
    "        j.memory('20Gi')\n",
    "       \n",
    "        #localizing the files\n",
    "        \n",
    "        j.image('us-central1-docker.pkg.dev/finucane-splicing-hj/testing/testing_beta_binom:v4')\n",
    "            \n",
    "        input_script = \"/home/run_optimizer_alt_ss_w_mixed_effects.py\"\n",
    "\n",
    "        input_file_tissue = b.read_input(\"gs://sqtl_gtex/exon_exon_counts_gtex/\"+tissue+'_perind_numers.counts.gz')\n",
    "    \n",
    "        input_file_to_filter_events = b.read_input(\"gs://sqtl_gtex/files/EF_inputs/alt_ss_for_EF_algorithm.csv.gz\")\n",
    "        \n",
    "        j.command(f'python3 {input_script} \\\n",
    "                            --tissue {tissue} \\\n",
    "                                --filter_file {input_file_to_filter_events} \\\n",
    "                                --tissue_file {input_file_tissue} \\\n",
    "                                --output_file {j.output} \\\n",
    "                                --num_jobs {num_jobs} \\\n",
    "                                --job_index {job_index}')\n",
    "        \n",
    "        b.write_output(j.output, 'gs://sqtl_gtex/files/testing/mixture_testing/real_data_outputs/' + tissue + '_alt_ss_EF_5_FPR_5_' + str(job_index) + '_alphas_betas.csv')\n",
    "\n",
    "      \n",
    "b.run() \n",
    "    "
   ]
  },
  {
   "cell_type": "markdown",
   "id": "095052b7-97ee-4ec3-911a-b6c63cfc8a3d",
   "metadata": {},
   "source": []
  },
  {
   "cell_type": "code",
   "execution_count": null,
   "id": "37fd8e0e-2eba-4331-8daa-1d48a9ed7576",
   "metadata": {},
   "outputs": [],
   "source": [
    "\n",
    "\n",
    "\n",
    "\n",
    "skipped_exons_w_gene_names_and_assigned_abc_introns=pd.read_csv(data_dir+'00_data/skipped_exons_w_gene_names_and_assigned_abc_introns.csv.gz', compression='gzip',low_memory=False)\n",
    "\n",
    "\n",
    "\n",
    "\n",
    "\n"
   ]
  },
  {
   "cell_type": "markdown",
   "id": "ba5886cf-5d11-49b5-8abd-57e870e05239",
   "metadata": {},
   "source": [
    "# 2. all skipped exons\n",
    "--"
   ]
  },
  {
   "cell_type": "code",
   "execution_count": null,
   "id": "7bf6fc42-29b3-4198-8d58-49f76f64fd53",
   "metadata": {},
   "outputs": [],
   "source": [
    "num_jobs = 1000\n",
    "\n",
    "b = hb.Batch(backend=backend, name='emp_bayes')\n",
    "\n",
    "for tissue in gtex_tissue_list:\n",
    "    \n",
    "    \n",
    "    for job_index in range(num_jobs):\n",
    "        \n",
    "        j = b.new_job(name='run_emp_bayes_'+tissue)\n",
    "        j.memory('20Gi')\n",
    "           \n",
    "        #localizing the files\n",
    "            \n",
    "        j.image('us-central1-docker.pkg.dev/finucane-splicing-hj/testing/testing_beta_binom:v4')\n",
    "        #if job_index<500:\n",
    "        input_script = \"/home/run_optimizer_SE_w_mixed_effects_unskipped_1.py\"\n",
    "\n",
    "        input_file_tissue = b.read_input(\"gs://sqtl_gtex/exon_exon_counts_gtex/\"+tissue+'_perind_numers.counts.gz')\n",
    "        \n",
    "        input_file_to_filter_events = b.read_input(\"gs://sqtl_gtex/files/EF_inputs/skipped_exons_w_gene_names_and_assigned_abc_introns.csv.gz\")\n",
    "           \n",
    "        j.command(f'python3 {input_script} \\\n",
    "                                --tissue {tissue} \\\n",
    "                                    --filter_file {input_file_to_filter_events} \\\n",
    "                                    --tissue_file {input_file_tissue} \\\n",
    "                                    --output_file {j.output} \\\n",
    "                                    --num_jobs {num_jobs} \\\n",
    "                                    --job_index {job_index}')\n",
    "            \n",
    "        b.write_output(j.output, 'gs://sqtl_gtex/files/EF_outputs/mixture_model/SE/optimizer_results/final/' + tissue + '_SE_EF_5_FPR_5_' + str(job_index) +'_alphas_betas.csv')\n",
    "\n",
    "    \n",
    "b.run() \n",
    "    "
   ]
  },
  {
   "cell_type": "markdown",
   "id": "b7c70d34-110b-4379-a69a-538c309f5cc1",
   "metadata": {},
   "source": [
    "\n",
    "\n",
    "\n",
    "\n",
    "# 3. run assign EF on all SEs and alt ss\n"
   ]
  },
  {
   "cell_type": "code",
   "execution_count": 4,
   "id": "a3bc788a-99e3-4af8-b9db-574c2246ba0d",
   "metadata": {},
   "outputs": [
    {
     "data": {
      "text/html": [
       "<pre style=\"white-space:pre;overflow-x:auto;line-height:normal;font-family:Menlo,'DejaVu Sans Mono',consolas,'Courier New',monospace\"></pre>\n"
      ],
      "text/plain": [
       "\u001b[?25l"
      ]
     },
     "metadata": {},
     "output_type": "display_data"
    },
    {
     "data": {
      "application/vnd.jupyter.widget-view+json": {
       "model_id": "7bd14f72257347f1b7590c59e3d29ba9",
       "version_major": 2,
       "version_minor": 0
      },
      "text/plain": [
       "Output()"
      ]
     },
     "metadata": {},
     "output_type": "display_data"
    },
    {
     "data": {
      "text/html": [
       "<pre style=\"white-space:pre;overflow-x:auto;line-height:normal;font-family:Menlo,'DejaVu Sans Mono',consolas,'Courier New',monospace\">\n",
       "</pre>\n"
      ],
      "text/plain": [
       "\n",
       "\u001b[?25h"
      ]
     },
     "metadata": {},
     "output_type": "display_data"
    },
    {
     "data": {
      "text/html": [
       "<pre style=\"white-space:pre;overflow-x:auto;line-height:normal;font-family:Menlo,'DejaVu Sans Mono',consolas,'Courier New',monospace\"></pre>\n"
      ],
      "text/plain": [
       "\u001b[?25l"
      ]
     },
     "metadata": {},
     "output_type": "display_data"
    },
    {
     "data": {
      "application/vnd.jupyter.widget-view+json": {
       "model_id": "b4c982d3ff4c4978979bf40644c3529d",
       "version_major": 2,
       "version_minor": 0
      },
      "text/plain": [
       "Output()"
      ]
     },
     "metadata": {},
     "output_type": "display_data"
    },
    {
     "data": {
      "text/html": [
       "<pre style=\"white-space:pre;overflow-x:auto;line-height:normal;font-family:Menlo,'DejaVu Sans Mono',consolas,'Courier New',monospace\">\n",
       "</pre>\n"
      ],
      "text/plain": [
       "\n",
       "\u001b[?25h"
      ]
     },
     "metadata": {},
     "output_type": "display_data"
    },
    {
     "name": "stdout",
     "output_type": "stream",
     "text": [
      "batch 8246048 complete: success\n"
     ]
    },
    {
     "data": {
      "text/plain": [
       "<hailtop.batch_client.client.Batch at 0x14a3d6350>"
      ]
     },
     "execution_count": 4,
     "metadata": {},
     "output_type": "execute_result"
    }
   ],
   "source": [
    "b = hb.Batch(backend=backend, name='assign_EF')\n",
    "\n",
    "\n",
    "    \n",
    "for tissue in gtex_tissue_list:    \n",
    "    j = b.new_job(name='run_assign_EF'+tissue)\n",
    "    j.memory('20Gi')\n",
    "    input_script = \"/home/assign_EF.py\"\n",
    "\n",
    "\n",
    "    input_directory=\"gs://sqtl_gtex/files/EF_outputs/mixture_model/all_params_fitted/\"\n",
    "    j.image('us-central1-docker.pkg.dev/finucane-splicing-hj/testing/testing_beta_binom:v4')\n",
    "\n",
    "    j.command(f'python3 {input_script} \\\n",
    "                --input_directory {input_directory} \\\n",
    "                --tissue_name {tissue} \\\n",
    "                --output_file {j.output}')\n",
    "\n",
    "    b.write_output(j.output, 'gs://sqtl_gtex/files/EF_outputs/mixture_model/EFs_assigned/'+tissue+'_alt_ss_and_SEs_EF_5_FPR_5_values.csv.gz')\n",
    "\n",
    "b.run() \n",
    "    "
   ]
  },
  {
   "cell_type": "code",
   "execution_count": null,
   "id": "7b35b551-5614-40f7-abe3-04627e0aac6d",
   "metadata": {},
   "outputs": [],
   "source": [
    "\n",
    "\n",
    "\n",
    "\n",
    "\n",
    "\n",
    "\n",
    "\n",
    "\n"
   ]
  }
 ],
 "metadata": {
  "kernelspec": {
   "display_name": "Python 3 (ipykernel)",
   "language": "python",
   "name": "python3"
  },
  "language_info": {
   "codemirror_mode": {
    "name": "ipython",
    "version": 3
   },
   "file_extension": ".py",
   "mimetype": "text/x-python",
   "name": "python",
   "nbconvert_exporter": "python",
   "pygments_lexer": "ipython3",
   "version": "3.12.3"
  }
 },
 "nbformat": 4,
 "nbformat_minor": 5
}
