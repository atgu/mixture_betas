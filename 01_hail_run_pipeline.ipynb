{
 "cells": [
  {
   "cell_type": "code",
   "execution_count": 3,
   "id": "498b8690-24c5-458b-b09d-bd5c70ad442b",
   "metadata": {
    "scrolled": true,
    "tags": []
   },
   "outputs": [],
   "source": [
    "import hail\n",
    "\n",
    "import hailtop.batch as hb\n",
    "\n",
    "backend = hb.ServiceBackend(billing_project = 'finucane-splicing-hj',\n",
    "                            remote_tmpdir = 'gs://sqtl_gtex')\n",
    "\n",
    "import pandas as pd"
   ]
  },
  {
   "cell_type": "code",
   "execution_count": null,
   "id": "a87e2f51-37b6-4ac7-945e-ee18d3545764",
   "metadata": {},
   "outputs": [],
   "source": []
  },
  {
   "cell_type": "markdown",
   "id": "1429ec03-17ae-41d4-99ae-a2317ea9498c",
   "metadata": {
    "tags": []
   },
   "source": [
    "Explaination of script last updates 2 17 2024\n",
    "--\n",
    "This script creates a hail batch object that is able to send a job to a hail cluster. \n",
    "\n",
    "The jobs that we will be sending is the empirical bayes pipeline. \n",
    "\n",
    "\n",
    "\n"
   ]
  },
  {
   "cell_type": "code",
   "execution_count": 11,
   "id": "0204836d-94a7-4737-bd25-6be03e41840d",
   "metadata": {
    "tags": []
   },
   "outputs": [],
   "source": []
  },
  {
   "cell_type": "markdown",
   "id": "d79360ad-e3cb-4b97-acf6-63cd88a3e8ea",
   "metadata": {},
   "source": [
    "run on simulations\n",
    "--"
   ]
  },
  {
   "cell_type": "code",
   "execution_count": null,
   "id": "ffaaa806-2639-4e30-b5e9-b8bc64d4b97e",
   "metadata": {},
   "outputs": [],
   "source": []
  },
  {
   "cell_type": "code",
   "execution_count": 4,
   "id": "3645fa2f-d525-4a4e-8c22-f2540a1b2f99",
   "metadata": {
    "scrolled": true
   },
   "outputs": [
    {
     "data": {
      "text/html": [
       "<pre style=\"white-space:pre;overflow-x:auto;line-height:normal;font-family:Menlo,'DejaVu Sans Mono',consolas,'Courier New',monospace\"></pre>\n"
      ],
      "text/plain": [
       "\u001b[?25l"
      ]
     },
     "metadata": {},
     "output_type": "display_data"
    },
    {
     "data": {
      "application/vnd.jupyter.widget-view+json": {
       "model_id": "4225286495d34bd194cfc1e4627dffc3",
       "version_major": 2,
       "version_minor": 0
      },
      "text/plain": [
       "Output()"
      ]
     },
     "metadata": {},
     "output_type": "display_data"
    },
    {
     "data": {
      "text/html": [
       "<pre style=\"white-space:pre;overflow-x:auto;line-height:normal;font-family:Menlo,'DejaVu Sans Mono',consolas,'Courier New',monospace\">\n",
       "</pre>\n"
      ],
      "text/plain": [
       "\n",
       "\u001b[?25h"
      ]
     },
     "metadata": {},
     "output_type": "display_data"
    },
    {
     "data": {
      "text/html": [
       "<pre style=\"white-space:pre;overflow-x:auto;line-height:normal;font-family:Menlo,'DejaVu Sans Mono',consolas,'Courier New',monospace\"></pre>\n"
      ],
      "text/plain": [
       "\u001b[?25l"
      ]
     },
     "metadata": {},
     "output_type": "display_data"
    },
    {
     "data": {
      "application/vnd.jupyter.widget-view+json": {
       "model_id": "0cc590066d144330a06c8cb21574745b",
       "version_major": 2,
       "version_minor": 0
      },
      "text/plain": [
       "Output()"
      ]
     },
     "metadata": {},
     "output_type": "display_data"
    },
    {
     "data": {
      "text/html": [
       "<pre style=\"white-space:pre;overflow-x:auto;line-height:normal;font-family:Menlo,'DejaVu Sans Mono',consolas,'Courier New',monospace\">\n",
       "</pre>\n"
      ],
      "text/plain": [
       "\n",
       "\u001b[?25h"
      ]
     },
     "metadata": {},
     "output_type": "display_data"
    },
    {
     "name": "stdout",
     "output_type": "stream",
     "text": [
      "batch 8239045 complete: success\n"
     ]
    },
    {
     "data": {
      "text/plain": [
       "<hailtop.batch_client.client.Batch at 0x140b769d0>"
      ]
     },
     "execution_count": 4,
     "metadata": {},
     "output_type": "execute_result"
    }
   ],
   "source": [
    "b = hb.Batch(backend=backend, name='emp_bayes')\n",
    "num_jobs = 25 #samples every 100 index\n",
    "\n",
    "\n",
    "\n",
    "#scale to all lists of simulations\n",
    "simulation_type=['single_1',\n",
    "                'single_2',\n",
    "                'double_1','double_2',\n",
    "                 'triple_1', 'triple_2']\n",
    "data_amt=['low', 'mid', 'high']\n",
    "i=0\n",
    "k=0\n",
    "for i in range(len(simulation_type)):\n",
    "\n",
    "    for k in range(len(data_amt)):\n",
    "        l = b.new_job(name='all_data_ammounts')\n",
    "        l.memory('20Gi')\n",
    "        l.image('us-central1-docker.pkg.dev/finucane-splicing-hj/testing/testing_beta_binom:v4')\n",
    "        tissue='test_tissue'\n",
    "    #localizing the files\n",
    "        input_script = \"/home/run_optimizer_alt_ss_w_mixed_effects.py\"    \n",
    "        \n",
    "        input_file_tissue = b.read_input(\"gs://sqtl_gtex/files/testing/mixture_testing/inputs_simulations/\"+data_amt[k]+\"_NVE_\"+simulation_type[i]+\"_counts.csv.gz\")\n",
    "        \n",
    "        input_file_to_filter_events = b.read_input(\"gs://sqtl_gtex/files/testing/mixture_testing/inputs_simulations/filtering_exons_in_test_sample.csv.gz\")\n",
    "            \n",
    "        \n",
    "        for job_index in range(num_jobs):\n",
    "            \n",
    "            j = b.new_job(name='run_emp_bayes_test_')\n",
    "            j.memory('20Gi')\n",
    "            j.image('us-central1-docker.pkg.dev/finucane-splicing-hj/testing/testing_beta_binom:v4')\n",
    "        \n",
    "            j.command(f'python3 {input_script} \\\n",
    "                            --tissue {tissue} \\\n",
    "                                --filter_file {input_file_to_filter_events} \\\n",
    "                                --tissue_file {input_file_tissue} \\\n",
    "                                --output_file {j.output} \\\n",
    "                                --num_jobs {num_jobs} \\\n",
    "                                --job_index {job_index}')\n",
    "        \n",
    "            b.write_output(j.output, f'gs://sqtl_gtex/files/testing/mixture_testing/outputs_simulations_new_pipeline/{data_amt[k]}_{simulation_type[i]}_EF_FPR_5_alphas_betas-{job_index}.csv')\n",
    "        \n",
    "            \n",
    "b.run()\n",
    "\n",
    "\n",
    "\n",
    "    "
   ]
  },
  {
   "cell_type": "markdown",
   "id": "b53eaa38-bf13-445d-a179-6a3cfa74453d",
   "metadata": {},
   "source": [
    "try running new pipeline in a tissue\n",
    "--"
   ]
  },
  {
   "cell_type": "code",
   "execution_count": null,
   "id": "93b2e5a1-4517-4180-b520-7fb67f4a570a",
   "metadata": {},
   "outputs": [
    {
     "data": {
      "text/html": [
       "<pre style=\"white-space:pre;overflow-x:auto;line-height:normal;font-family:Menlo,'DejaVu Sans Mono',consolas,'Courier New',monospace\"></pre>\n"
      ],
      "text/plain": [
       "\u001b[?25l"
      ]
     },
     "metadata": {},
     "output_type": "display_data"
    },
    {
     "data": {
      "application/vnd.jupyter.widget-view+json": {
       "model_id": "f0e16132cbbc405e8e3c7318ae842941",
       "version_major": 2,
       "version_minor": 0
      },
      "text/plain": [
       "Output()"
      ]
     },
     "metadata": {},
     "output_type": "display_data"
    },
    {
     "data": {
      "text/html": [
       "<pre style=\"white-space:pre;overflow-x:auto;line-height:normal;font-family:Menlo,'DejaVu Sans Mono',consolas,'Courier New',monospace\">\n",
       "</pre>\n"
      ],
      "text/plain": [
       "\n",
       "\u001b[?25h"
      ]
     },
     "metadata": {},
     "output_type": "display_data"
    },
    {
     "data": {
      "text/html": [
       "<pre style=\"white-space:pre;overflow-x:auto;line-height:normal;font-family:Menlo,'DejaVu Sans Mono',consolas,'Courier New',monospace\"></pre>\n"
      ],
      "text/plain": [
       "\u001b[?25l"
      ]
     },
     "metadata": {},
     "output_type": "display_data"
    },
    {
     "data": {
      "application/vnd.jupyter.widget-view+json": {
       "model_id": "e3197c25ee6945558b211a1b7c4a9d1b",
       "version_major": 2,
       "version_minor": 0
      },
      "text/plain": [
       "Output()"
      ]
     },
     "metadata": {},
     "output_type": "display_data"
    }
   ],
   "source": [
    "b = hb.Batch(backend=backend, name='emp_bayes')\n",
    "num_jobs = 100\n",
    "\n",
    "#list_of_tissues=['Whole_Blood','Adipose_Subcutaneous']\n",
    "\n",
    "list_of_tissues=['Esophagus_Mucosa','Thyroid']\n",
    "\n",
    "b = hb.Batch(backend=backend, name='emp_bayes')\n",
    "\n",
    "for tissue in list_of_tissues:\n",
    "    \n",
    "    \n",
    "  \n",
    "    for job_index in range(num_jobs):\n",
    "    \n",
    "        j = b.new_job(name='run_emp_bayes_'+tissue)\n",
    "        j.memory('20Gi')\n",
    "       \n",
    "        #localizing the files\n",
    "        \n",
    "        j.image('us-central1-docker.pkg.dev/finucane-splicing-hj/testing/testing_beta_binom:v4')\n",
    "            \n",
    "        input_script = \"/home/run_optimizer_alt_ss_w_mixed_effects.py\"\n",
    "    \n",
    "        input_file_tissue = b.read_input(\"gs://sqtl_gtex/exon_exon_counts_gtex/\"+tissue+'_perind_numers.counts.gz')\n",
    "    \n",
    "        input_file_to_filter_events = b.read_input(\"gs://sqtl_gtex/files/EF_inputs/alt_ss_for_EF_algorithm.csv.gz\")\n",
    "        \n",
    "        j.command(f'python3 {input_script} \\\n",
    "                            --tissue {tissue} \\\n",
    "                                --filter_file {input_file_to_filter_events} \\\n",
    "                                --tissue_file {input_file_tissue} \\\n",
    "                                --output_file {j.output} \\\n",
    "                                --num_jobs {num_jobs} \\\n",
    "                                --job_index {job_index}')\n",
    "        \n",
    "        b.write_output(j.output, 'gs://sqtl_gtex/files/testing/mixture_testing/real_data_outputs/' + tissue + '_alt_ss_EF_5_FPR_5_' + str(job_index) + '_alphas_betas.csv')\n",
    "\n",
    "      # b.write_output(j.output, 'gs://sqtl_gtex/files/EF_outputs/mixture_model/alt_ss/optimizer_results/' + tissue + '_alt_ss_EF_5_FPR_5_' + str(job_index) +'_alphas_betas.csv')\n",
    "    \n",
    "b.run() \n",
    "    "
   ]
  },
  {
   "cell_type": "code",
   "execution_count": 18,
   "id": "8f1680a2-b352-482d-97a4-f3d4e6667554",
   "metadata": {},
   "outputs": [],
   "source": []
  },
  {
   "cell_type": "markdown",
   "id": "0db1f8a8-8811-443a-b19f-82e40eca94d2",
   "metadata": {
    "jp-MarkdownHeadingCollapsed": true
   },
   "source": [
    "other code\n",
    "--"
   ]
  },
  {
   "cell_type": "code",
   "execution_count": 29,
   "id": "d48db808-988b-4569-a29c-ae67f0cade98",
   "metadata": {},
   "outputs": [
    {
     "data": {
      "text/html": [
       "<pre style=\"white-space:pre;overflow-x:auto;line-height:normal;font-family:Menlo,'DejaVu Sans Mono',consolas,'Courier New',monospace\"></pre>\n"
      ],
      "text/plain": [
       "\u001b[?25l"
      ]
     },
     "metadata": {},
     "output_type": "display_data"
    },
    {
     "data": {
      "application/vnd.jupyter.widget-view+json": {
       "model_id": "856459d931664068aba206cdf8352049",
       "version_major": 2,
       "version_minor": 0
      },
      "text/plain": [
       "Output()"
      ]
     },
     "metadata": {},
     "output_type": "display_data"
    },
    {
     "data": {
      "text/html": [
       "<pre style=\"white-space:pre;overflow-x:auto;line-height:normal;font-family:Menlo,'DejaVu Sans Mono',consolas,'Courier New',monospace\">\n",
       "</pre>\n"
      ],
      "text/plain": [
       "\n",
       "\u001b[?25h"
      ]
     },
     "metadata": {},
     "output_type": "display_data"
    },
    {
     "data": {
      "text/html": [
       "<pre style=\"white-space:pre;overflow-x:auto;line-height:normal;font-family:Menlo,'DejaVu Sans Mono',consolas,'Courier New',monospace\"></pre>\n"
      ],
      "text/plain": [
       "\u001b[?25l"
      ]
     },
     "metadata": {},
     "output_type": "display_data"
    },
    {
     "data": {
      "application/vnd.jupyter.widget-view+json": {
       "model_id": "88982e5c7d8c49d88b5670d5f47ea220",
       "version_major": 2,
       "version_minor": 0
      },
      "text/plain": [
       "Output()"
      ]
     },
     "metadata": {},
     "output_type": "display_data"
    },
    {
     "data": {
      "text/html": [
       "<pre style=\"white-space:pre;overflow-x:auto;line-height:normal;font-family:Menlo,'DejaVu Sans Mono',consolas,'Courier New',monospace\">\n",
       "</pre>\n"
      ],
      "text/plain": [
       "\n",
       "\u001b[?25h"
      ]
     },
     "metadata": {},
     "output_type": "display_data"
    },
    {
     "name": "stdout",
     "output_type": "stream",
     "text": [
      "batch 8236401 complete: failure\n"
     ]
    }
   ],
   "source": [
    "b = hb.Batch(backend=backend, name='emp_bayes')\n",
    "num_jobs = 500 \n",
    "\n",
    "j.memory('20Gi')\n",
    "\n",
    "tissue=['Esophagus_Mucosa']\n",
    "\n",
    "b = hb.Batch(backend=backend, name='emp_bayes')\n",
    "for tissue in ['Esophagus_Mucosa']:\n",
    "    \n",
    "    \n",
    "    for job_index in range(5):\n",
    "        j = b.new_job(name='run_emp_bayes_'+tissue)\n",
    "        j.memory('20Gi')\n",
    "       \n",
    "        #localizing the files\n",
    "        \n",
    "        j.image('us-central1-docker.pkg.dev/finucane-splicing-hj/testing/testing_beta_binom:v4')\n",
    "            \n",
    "        input_script = \"/home/run_optimizer_SE_w_mixed_effects.py\"\n",
    "    \n",
    "        input_file_tissue = b.read_input(\"gs://sqtl_gtex/exon_exon_counts_gtex/\"+tissue+'_perind_numers.counts.gz')\n",
    "    \n",
    "        input_file_to_filter_events = b.read_input(\"gs://sqtl_gtex/files/EF_inputs/skipped_exons_w_gene_names_and_assigned_abc_introns.csv.gz\")\n",
    "        \n",
    "        j.command(f'python3 {input_script} \\\n",
    "                            --tissue {tissue} \\\n",
    "                                --filter_file {input_file_to_filter_events} \\\n",
    "                                --tissue_file {input_file_tissue} \\\n",
    "                                --output_file {j.output} \\\n",
    "                                --num_jobs {num_jobs} \\\n",
    "                                --job_index {job_index}')\n",
    "    \n",
    "        b.write_output(j.output, 'gs://sqtl_gtex/files/EF_outputs/mixture_model/SE/optimizer_results/' + tissue + '_SE_EF_5_FPR_5_' + str(job_index) +'alphas_betas.csv')\n",
    "    b.run() "
   ]
  },
  {
   "cell_type": "code",
   "execution_count": 7,
   "id": "d7f320b5-69a3-4be0-8042-d3fdd4b25643",
   "metadata": {},
   "outputs": [],
   "source": [
    "output_directory='/Users/hannahjacobs/MIT Dropbox/Hannah Jacobs/GradSchool/Finucane/splicing_variation_in_humans_2022/scripts/01_analysis_pipeline/00_run_emprical_bayes/emp_bayes_in_hail_pipeline-testing/data/mixture_implementation_testing/'\n",
    "\n",
    "import pandas as pd"
   ]
  },
  {
   "cell_type": "code",
   "execution_count": 75,
   "id": "9cc43524-d14d-40d8-bff4-b50d394785c6",
   "metadata": {},
   "outputs": [
    {
     "ename": "SyntaxError",
     "evalue": "incomplete input (2429794027.py, line 1)",
     "output_type": "error",
     "traceback": [
      "\u001b[0;36m  Cell \u001b[0;32mIn[75], line 1\u001b[0;36m\u001b[0m\n\u001b[0;31m    pd.read_csv(output_directory+'Whole_Blood_alt_ss_EF_5_FPR_5_alphas_betas-0_100_iters.csv').params.iloc[0\u001b[0m\n\u001b[0m                                                                                                            ^\u001b[0m\n\u001b[0;31mSyntaxError\u001b[0m\u001b[0;31m:\u001b[0m incomplete input\n"
     ]
    }
   ],
   "source": [
    "pd.read_csv(output_directory+'Whole_Blood_alt_ss_EF_5_FPR_5_alphas_betas-0_100_iters.csv').params.iloc[0"
   ]
  },
  {
   "cell_type": "code",
   "execution_count": 60,
   "id": "874d4732-dfe0-479f-a45d-6daba6ccb8d6",
   "metadata": {},
   "outputs": [],
   "source": [
    "cluster_name=pd.read_csv(output_directory+'Whole_Blood_alt_ss_EF_5_FPR_5_alphas_betas-0_100_iters.csv').cluster_name.iloc[0]\n",
    "#intron_2=pd.read_csv(output_directory+'Whole_Blood_alt_ss_EF_5_FPR_5_alphas_betas-0_300_iters.csv').intron_2.iloc[0]"
   ]
  },
  {
   "cell_type": "code",
   "execution_count": 61,
   "id": "211e2f8d-0dd6-4564-be30-38a2e4f33a8a",
   "metadata": {},
   "outputs": [
    {
     "data": {
      "text/plain": [
       "'[6.57158227e-05 1.41314264e+00 5.43324086e+01 7.75423011e+00\\n 5.99606529e-02 9.40039347e-01]'"
      ]
     },
     "execution_count": 61,
     "metadata": {},
     "output_type": "execute_result"
    }
   ],
   "source": [
    "pd.read_csv(output_directory+'Whole_Blood_alt_ss_EF_5_FPR_5_alphas_betas-0_100_iters.csv').params.iloc[0]"
   ]
  },
  {
   "cell_type": "code",
   "execution_count": 62,
   "id": "405fd9bd-a783-4ddb-906e-bdab5fb51b28",
   "metadata": {},
   "outputs": [],
   "source": [
    "#pd.read_csv(output_directory+'Whole_Blood_alt_ss_EF_5_FPR_5_alphas_betas-0_300_iters_again.csv')"
   ]
  },
  {
   "cell_type": "code",
   "execution_count": 63,
   "id": "42e91d09-7626-4cda-8340-c00eddd9ad19",
   "metadata": {},
   "outputs": [],
   "source": [
    "\n",
    "\n",
    "whole_blood = pd.read_csv('/Users/hannahjacobs/MIT Dropbox/Hannah Jacobs/GradSchool/Finucane/splicing_variation_in_humans_2022/GTEX sQTLs/GTEx_Analysis_v8_sQTL_leafcutter_counts/Whole_Blood_perind_numers.counts.gz',\n",
    "                         low_memory=False,compression='gzip',\n",
    "                          sep=' ', index_col=0)\n",
    "\n"
   ]
  },
  {
   "cell_type": "code",
   "execution_count": 64,
   "id": "6d222286-2262-4fdd-a600-f20f7702271c",
   "metadata": {},
   "outputs": [
    {
     "data": {
      "text/plain": [
       "'chr10:114160266:114162637:clu_9616_chr10:114157680:114162637:clu_9616'"
      ]
     },
     "execution_count": 64,
     "metadata": {},
     "output_type": "execute_result"
    }
   ],
   "source": [
    "cluster_name"
   ]
  },
  {
   "cell_type": "code",
   "execution_count": 65,
   "id": "fbbdcd37-7a40-4627-968d-8d25ccd7e388",
   "metadata": {},
   "outputs": [],
   "source": [
    "k=whole_blood[whole_blood.index.isin(['chr10:114160266:114162637:clu_9616'])].values\n",
    "\n",
    "N_minus_k=whole_blood[whole_blood.index.isin(['chr10:114157680:114162637:clu_9616'])].values"
   ]
  },
  {
   "cell_type": "code",
   "execution_count": 66,
   "id": "54031cbe-f854-4eea-abc4-18e5b1f4910d",
   "metadata": {},
   "outputs": [],
   "source": [
    "n=N_minus_k+k"
   ]
  },
  {
   "cell_type": "code",
   "execution_count": null,
   "id": "decb4972-649e-496e-91b9-4515cf240f22",
   "metadata": {},
   "outputs": [],
   "source": []
  },
  {
   "cell_type": "code",
   "execution_count": null,
   "id": "51ffabae-4455-425b-ae1d-fb37d8d29783",
   "metadata": {},
   "outputs": [],
   "source": [
    "pd.DataFrame({'k':k[0], 'n': n[0]}).to_csv(output_directory+'K_N_of_confusing_exon.csv')"
   ]
  },
  {
   "cell_type": "code",
   "execution_count": null,
   "id": "cdef962f-1c3b-4f16-9b88-a5174f431061",
   "metadata": {},
   "outputs": [],
   "source": [
    "import seaborn as sns"
   ]
  },
  {
   "cell_type": "code",
   "execution_count": null,
   "id": "ff97ea9f-5bfd-493f-a853-63526800bffe",
   "metadata": {},
   "outputs": [],
   "source": [
    "psi=(k[0][n[0]>0])/(n[0][n[0]>0])"
   ]
  },
  {
   "cell_type": "code",
   "execution_count": null,
   "id": "c75ff634-1057-4517-bbb3-0b98b3213e7c",
   "metadata": {},
   "outputs": [],
   "source": [
    "sns.histplot(psi, bins=100)"
   ]
  },
  {
   "cell_type": "code",
   "execution_count": 69,
   "id": "fd8def36-3335-49d5-b4ac-b064c9c97401",
   "metadata": {},
   "outputs": [],
   "source": [
    "#pd.read_csv(output_directory+'Whole_Blood_alt_ss_EF_5_FPR_5_alphas_betas-0_300_iters_again.csv')"
   ]
  },
  {
   "cell_type": "code",
   "execution_count": 25,
   "id": "50fe2c97-5a38-4fa7-9874-c3332961b727",
   "metadata": {},
   "outputs": [],
   "source": [
    "list_of_LLs=pd.read_csv(output_directory+'Whole_Blood_alt_ss_EF_5_FPR_5_alphas_betas-0.csv').LogLikelihood.iloc[0]\n"
   ]
  },
  {
   "cell_type": "code",
   "execution_count": null,
   "id": "deebb67f-633b-4c1f-8bf8-81104bd7052e",
   "metadata": {},
   "outputs": [],
   "source": []
  },
  {
   "cell_type": "code",
   "execution_count": 41,
   "id": "9f215aef-2acb-492c-a613-4a790056f1d8",
   "metadata": {},
   "outputs": [
    {
     "data": {
      "text/plain": [
       "'[3.46069345 0.35122382 3.07442231 1.61101392 0.06508526 0.93491474]'"
      ]
     },
     "execution_count": 41,
     "metadata": {},
     "output_type": "execute_result"
    }
   ],
   "source": [
    "pd.read_csv(output_directory+'Whole_Blood_alt_ss_EF_5_FPR_5_alphas_betas-0.csv').params_mixture.iloc[0]"
   ]
  },
  {
   "cell_type": "code",
   "execution_count": 47,
   "id": "cab5efaf-4ed2-4861-8dd5-0d3598b2706b",
   "metadata": {},
   "outputs": [],
   "source": [
    "#pd.read_csv(output_directory+'Whole_Blood_alt_ss_EF_5_FPR_5_alphas_betas-0.csv').function_output_emp_bayes.iloc[0]"
   ]
  },
  {
   "cell_type": "code",
   "execution_count": 42,
   "id": "097a0590-6bb5-4466-8ec2-96ac8f9501b0",
   "metadata": {},
   "outputs": [
    {
     "data": {
      "text/plain": [
       "'[-3002.1720710837444, -2731.773383662098, -2538.6194928874347, -2390.5870888872328, -2280.321107548892, -2208.7826811545706, -2181.457484176121, -2206.0948774713147, -2288.63247450775, -2428.6541246310517, -2619.1632426226433, -2858.467098694068, -3162.9555404440057, -3120.8830152957617, 32488.088088996625, -1319.9322287124648, -1326.5721579693982, -1331.2542226285916, -1336.3720316471515, -1341.7573062022402, -1347.3213130799513, -1352.9899590235873, -1358.6796889816976, -1364.3975360593226, -1370.0643366553609, -1375.6975865529475, -1381.2541132267913, -1386.7155203681295, -1392.0719108828644, -1397.306336904589, -1402.4062429848645, -1407.3666677550764, -1412.1911695567514, -1416.867342853135, -1421.3988230770979, -1425.7883691477805, -1430.0400439347252, -1434.1592503681277, -1438.1478477073952, -1442.0082498191514, -1445.7451159166158, -1449.3598263964536, -1452.8543092286895, -1456.2325591779672, -1459.5244671598512, -1462.7240503195137, -1465.8361247791076, -1468.8670320694364, -1471.8255189892202, -1474.7158159839155, -1477.543601506502, -1480.3176640734396, -1483.0402965397502, -1485.7082996847587, -1488.3300876051355, -1490.8780706447715, -1493.4305582676184, -1495.9257876887577, -1498.3982336451063, -1500.8454154477336, -1503.2629796415044, -1505.6516407437118, -1508.0112267488737, -1510.3519618929013, -1512.6736411933682, -1514.9681572348975, -1517.2361520230443, -1519.4629840840407, -1521.6926991403188, -1523.9043826211448, -1526.0692850673413, -1528.2081685643525, -1530.3252919365505, -1532.42173290336, -1534.507552245309, -1536.6187659886439, -1538.7134595849539, -1540.7926859987488, -1542.8520326116186, -1544.8918686563322, -1546.913070381909, -1548.9168990592398, -1550.9058735514436, -1552.8779808591626, -1554.834207693622, -1556.774237199847, -1558.7005556064091, -1560.610467464438, -1562.5059540147095, -1564.3834876419132, -1566.2485519692523, -1568.0986836104585, -1569.9333589723224, -1571.7546237467236, -1573.5597974873995, -1575.348839099585, -1577.12700168317, -1578.8878805529444, -1580.634067015864, -1582.3662940825684]'"
      ]
     },
     "execution_count": 42,
     "metadata": {},
     "output_type": "execute_result"
    }
   ],
   "source": [
    "pd.read_csv(output_directory+'Whole_Blood_alt_ss_EF_5_FPR_5_alphas_betas-0.csv')"
   ]
  },
  {
   "cell_type": "code",
   "execution_count": 2,
   "id": "a563b427-9601-4e85-9578-861b03000824",
   "metadata": {
    "tags": []
   },
   "outputs": [],
   "source": []
  },
  {
   "cell_type": "code",
   "execution_count": 4,
   "id": "6789e691-0885-4fd8-9c67-1212dcd560d6",
   "metadata": {
    "tags": []
   },
   "outputs": [
    {
     "data": {
      "text/html": [
       "<pre style=\"white-space:pre;overflow-x:auto;line-height:normal;font-family:Menlo,'DejaVu Sans Mono',consolas,'Courier New',monospace\"></pre>\n"
      ],
      "text/plain": [
       "\u001b[?25l"
      ]
     },
     "metadata": {},
     "output_type": "display_data"
    },
    {
     "data": {
      "text/html": [
       "<pre style=\"white-space:pre;overflow-x:auto;line-height:normal;font-family:Menlo,'DejaVu Sans Mono',consolas,'Courier New',monospace\">/opt/anaconda3/envs/running_hail_env/lib/python3.11/site-packages/rich/live.py:229: UserWarning:\n",
       "\n",
       "install \"ipywidgets\" for Jupyter support\n",
       "\n",
       "</pre>\n"
      ],
      "text/plain": [
       "/opt/anaconda3/envs/running_hail_env/lib/python3.11/site-packages/rich/live.py:229: UserWarning:\n",
       "\n",
       "install \"ipywidgets\" for Jupyter support\n",
       "\n"
      ]
     },
     "metadata": {},
     "output_type": "display_data"
    },
    {
     "data": {
      "text/html": [
       "<pre style=\"white-space:pre;overflow-x:auto;line-height:normal;font-family:Menlo,'DejaVu Sans Mono',consolas,'Courier New',monospace\">\n",
       "</pre>\n"
      ],
      "text/plain": [
       "\n",
       "\u001b[?25h"
      ]
     },
     "metadata": {},
     "output_type": "display_data"
    },
    {
     "data": {
      "text/html": [
       "<pre style=\"white-space:pre;overflow-x:auto;line-height:normal;font-family:Menlo,'DejaVu Sans Mono',consolas,'Courier New',monospace\"></pre>\n"
      ],
      "text/plain": [
       "\u001b[?25l"
      ]
     },
     "metadata": {},
     "output_type": "display_data"
    },
    {
     "data": {
      "text/html": [
       "<pre style=\"white-space:pre;overflow-x:auto;line-height:normal;font-family:Menlo,'DejaVu Sans Mono',consolas,'Courier New',monospace\">\n",
       "</pre>\n"
      ],
      "text/plain": [
       "\n",
       "\u001b[?25h"
      ]
     },
     "metadata": {},
     "output_type": "display_data"
    },
    {
     "name": "stdout",
     "output_type": "stream",
     "text": [
      "batch 8225675 complete: success\n"
     ]
    },
    {
     "data": {
      "text/plain": [
       "<hailtop.batch_client.client.Batch at 0x1440c3210>"
      ]
     },
     "execution_count": 4,
     "metadata": {},
     "output_type": "execute_result"
    }
   ],
   "source": [
    "b = hb.Batch(backend=backend, name='emp_bayes_alt_ss')\n",
    "for tissue in gtex_tissue_list:\n",
    "    \n",
    "    \n",
    "    \n",
    "    j = b.new_job(name='run_emp_bayes_'+tissue)\n",
    "    j.memory('10Gi')\n",
    "   \n",
    "    #localizing the files\n",
    "    \n",
    "\n",
    "    \n",
    "    \n",
    "        \n",
    "    input_script = \"/home/run_optimizer_alt_ss.py\"\n",
    "\n",
    "    input_file_tissue = b.read_input(\"gs://sqtl_gtex/exon_exon_counts_gtex/\"+tissue+'_perind_numers.counts.gz')\n",
    "\n",
    "    input_file_to_filter_events = b.read_input(\"gs://sqtl_gtex/files/EF_inputs/alt_ss_for_EF_algorithm.csv.gz\")\n",
    "    \n",
    "    j.image('us-central1-docker.pkg.dev/finucane-splicing-hj/testing/testing_beta_binom:v1')\n",
    "\n",
    "    j.command(f'python3 {input_script} \\\n",
    "                --tissue {tissue} \\\n",
    "                --filter_file {input_file_to_filter_events} \\\n",
    "                --tissue_file {input_file_tissue} \\\n",
    "                --output_file {j.output}')\n",
    "\n",
    "    b.write_output(j.output, 'gs://sqtl_gtex/files/testing/EF_ouputs/alt_ss/optimizer_results/removed_prior/'+tissue+'_alt_ss_EF_5_FPR_5_alphas_betas.csv')\n",
    "\n",
    "b.run() "
   ]
  },
  {
   "cell_type": "code",
   "execution_count": 6,
   "id": "928d7a25-719b-4809-93c9-2363844ad672",
   "metadata": {},
   "outputs": [
    {
     "data": {
      "text/html": [
       "<pre style=\"white-space:pre;overflow-x:auto;line-height:normal;font-family:Menlo,'DejaVu Sans Mono',consolas,'Courier New',monospace\"></pre>\n"
      ],
      "text/plain": [
       "\u001b[?25l"
      ]
     },
     "metadata": {},
     "output_type": "display_data"
    },
    {
     "data": {
      "application/vnd.jupyter.widget-view+json": {
       "model_id": "e37c4c32411242a0b8d080077dd72987",
       "version_major": 2,
       "version_minor": 0
      },
      "text/plain": [
       "Output()"
      ]
     },
     "metadata": {},
     "output_type": "display_data"
    },
    {
     "data": {
      "text/html": [
       "<pre style=\"white-space:pre;overflow-x:auto;line-height:normal;font-family:Menlo,'DejaVu Sans Mono',consolas,'Courier New',monospace\">\n",
       "</pre>\n"
      ],
      "text/plain": [
       "\n",
       "\u001b[?25h"
      ]
     },
     "metadata": {},
     "output_type": "display_data"
    },
    {
     "name": "stdout",
     "output_type": "stream",
     "text": [
      "batch 7689646 complete: success\n"
     ]
    },
    {
     "data": {
      "text/plain": [
       "<hailtop.batch_client.client.Batch at 0x7f7bd92c8310>"
      ]
     },
     "execution_count": 6,
     "metadata": {},
     "output_type": "execute_result"
    }
   ],
   "source": [
    "b = hb.Batch(backend=backend, name='assign_EF_alt_ss')\n",
    "for tissue in gtex_tissue_list:\n",
    "    \n",
    "    j = b.new_job(name='assign_EF_'+tissue)\n",
    "    j.memory('7Gi')\n",
    "   \n",
    "    #localizing the files\n",
    "    \n",
    "    input_script = \"/home/assign_EF.py\"\n",
    "\n",
    "    input_file_tissue = b.read_input(\"gs://sqtl_gtex/files/EF_outputs/alt_ss/optimizer_results/\"+tissue+\"_alt_ss_alphas_betas.csv\")\n",
    "\n",
    "    j.image('gcr.io/finucane-splicing-hj/python-11-image-hj:v1')\n",
    "\n",
    "    j.command(f'python3 {input_script} \\\n",
    "                --tissue_file {input_file_tissue} \\\n",
    "                --output_file {j.output}')\n",
    "\n",
    "    b.write_output(j.output, 'gs://sqtl_gtex/files/EF_outputs/alt_ss/assigned_EFs/'+tissue+'_EFs_alt_ss.csv')\n",
    "\n",
    "b.run() "
   ]
  },
  {
   "cell_type": "code",
   "execution_count": null,
   "id": "db66be2b-97f5-4e4d-aac6-c26524aeb98c",
   "metadata": {},
   "outputs": [],
   "source": [
    "b = hb.Batch(backend=backend, name='concat_EFs')\n",
    "for tissue in gtex_tissue_list:\n",
    "    \n",
    "    j = b.new_job(name='concat_EFs'+tissue)\n",
    "    j.memory('7Gi')\n",
    "   \n",
    "    #localizing the files\n",
    "    \n",
    "\n",
    "    input_file_tissue = b.read_input(\"gs://sqtl_gtex/files/EF_outputs/alt_ss/assigned_EFs/\"+tissue+\"_EFs_alt_ss.csv\")\n",
    "\n",
    "    j.image('gcr.io/finucane-splicing-hj/python-11-image-hj:v1')\n",
    "\n",
    "    j.command(f'python3 dfs = list() \\\n",
    "            for i, f in enumerate{tissue}: \\\n",
    "                data = pd.read_csv({tissue_file}) \\\n",
    "                data=data.assign(tissue={tissue}) \\\n",
    "                dfs.append(data)\n",
    "\n",
    "                df = pd.concat(dfs, ignore_index=True)\n",
    "                \n",
    "                df.to_csv({j.output}')\n",
    "\n",
    "    b.write_output(j.output, 'gs://sqtl_gtex/files/EF_outputs/alt_ss/all_splicing_events.csv.gz')\n",
    "\n"
   ]
  },
  {
   "cell_type": "code",
   "execution_count": 37,
   "id": "3659f91c-2ff1-4f0c-83bb-2e7d172dd685",
   "metadata": {
    "tags": []
   },
   "outputs": [
    {
     "data": {
      "text/html": [
       "<pre style=\"white-space:pre;overflow-x:auto;line-height:normal;font-family:Menlo,'DejaVu Sans Mono',consolas,'Courier New',monospace\"></pre>\n"
      ],
      "text/plain": [
       "\u001b[?25l"
      ]
     },
     "metadata": {},
     "output_type": "display_data"
    },
    {
     "data": {
      "application/vnd.jupyter.widget-view+json": {
       "model_id": "324e9d0a81be4cf4b0cf4e794acee90d",
       "version_major": 2,
       "version_minor": 0
      },
      "text/plain": [
       "Output()"
      ]
     },
     "metadata": {},
     "output_type": "display_data"
    },
    {
     "data": {
      "text/html": [
       "<pre style=\"white-space:pre;overflow-x:auto;line-height:normal;font-family:Menlo,'DejaVu Sans Mono',consolas,'Courier New',monospace\">\n",
       "</pre>\n"
      ],
      "text/plain": [
       "\n",
       "\u001b[?25h"
      ]
     },
     "metadata": {},
     "output_type": "display_data"
    },
    {
     "name": "stdout",
     "output_type": "stream",
     "text": [
      "batch 8101537 complete: success\n"
     ]
    },
    {
     "data": {
      "text/plain": [
       "<hailtop.batch_client.client.Batch at 0x7ff57357d100>"
      ]
     },
     "execution_count": 37,
     "metadata": {},
     "output_type": "execute_result"
    }
   ],
   "source": [
    "b = hb.Batch(backend=backend, name='assign_EF_SE')\n",
    "for tissue in gtex_tissue_list:\n",
    "    \n",
    "    j = b.new_job(name='assign_EF_'+tissue)\n",
    "    j.memory('10Gi')\n",
    "   \n",
    "    #localizing the files\n",
    "    \n",
    "    input_script = \"/home/assign_EF.py\"\n",
    "\n",
    "    input_file_tissue = b.read_input(\"gs://sqtl_gtex/files/EF_outputs/skipped_exons/optimizer_results/\"+tissue+\"_SE_alphas_betas.csv\")\n",
    "\n",
    "    j.image('gcr.io/finucane-splicing-hj/python-11-image-hj:v1')\n",
    "\n",
    "    j.command(f'python3 {input_script} \\\n",
    "                --tissue_file {input_file_tissue} \\\n",
    "                --output_file {j.output}')\n",
    "\n",
    "    b.write_output(j.output, 'gs://sqtl_gtex/files/EF_outputs/skipped_exons/assigned_EFs/'+tissue+'_EFs_SE.csv')\n",
    "\n",
    "b.run() "
   ]
  },
  {
   "cell_type": "markdown",
   "id": "a0723154-bcc5-4178-a60d-d93a824ecf5f",
   "metadata": {
    "jp-MarkdownHeadingCollapsed": true,
    "tags": []
   },
   "source": [
    " 0. test/debug with a single tissue\n"
   ]
  },
  {
   "cell_type": "code",
   "execution_count": null,
   "id": "16575ca9-2d6e-434e-906c-32166e47233b",
   "metadata": {},
   "outputs": [],
   "source": []
  },
  {
   "cell_type": "code",
   "execution_count": 5,
   "id": "3b1e866d-3c83-4a90-919b-bd008149779f",
   "metadata": {
    "tags": []
   },
   "outputs": [
    {
     "data": {
      "text/html": [
       "<pre style=\"white-space:pre;overflow-x:auto;line-height:normal;font-family:Menlo,'DejaVu Sans Mono',consolas,'Courier New',monospace\"></pre>\n"
      ],
      "text/plain": [
       "\u001b[?25l"
      ]
     },
     "metadata": {},
     "output_type": "display_data"
    },
    {
     "data": {
      "application/vnd.jupyter.widget-view+json": {
       "model_id": "d5ad51d4b91042999419b580a4deac13",
       "version_major": 2,
       "version_minor": 0
      },
      "text/plain": [
       "Output()"
      ]
     },
     "metadata": {},
     "output_type": "display_data"
    },
    {
     "data": {
      "text/html": [
       "<pre style=\"white-space:pre;overflow-x:auto;line-height:normal;font-family:Menlo,'DejaVu Sans Mono',consolas,'Courier New',monospace\">\n",
       "</pre>\n"
      ],
      "text/plain": [
       "\n",
       "\u001b[?25h"
      ]
     },
     "metadata": {},
     "output_type": "display_data"
    },
    {
     "name": "stderr",
     "output_type": "stream",
     "text": [
      "\n",
      "KeyboardInterrupt\n",
      "\n"
     ]
    }
   ],
   "source": [
    "b = hb.Batch(backend=backend, name='emp_bayes')\n",
    "for tissue in ['Whole_Blood']:\n",
    "    \n",
    "    \n",
    "    \n",
    "    j = b.new_job(name='run_emp_bayes_'+tissue)\n",
    "    j.memory('7Gi')\n",
    "   \n",
    "    #localizing the files\n",
    "    \n",
    "\n",
    "    \n",
    "    \n",
    "    \n",
    "    \n",
    "    input_script = \"/home/run_EF.py\"\n",
    "\n",
    "    input_file_tissue = b.read_input(\"gs://sqtl_gtex/exon_exon_counts_gtex/\"+tissue+'_perind_numers.counts.gz')\n",
    "\n",
    "    input_file_to_filter_events = b.read_input(\"gs://sqtl_gtex/files/EF_inputs/alt_ss_for_EF_algorithm.csv.gz\")\n",
    "    \n",
    "    j.image('gcr.io/finucane-splicing-hj/python-11-image-hj:v1')\n",
    "\n",
    "    j.command(f'python3 {input_script} \\\n",
    "                --tissue {tissue} \\\n",
    "                --filter_file {input_file_to_filter_events} \\\n",
    "                --tissue_file {input_file_tissue} \\\n",
    "                --lower_bound {5} \\\n",
    "                --FPR {0.05} \\\n",
    "                --output_file {j.output}')\n",
    "\n",
    "    b.write_output(j.output, 'gs://sqtl_gtex/files/EF_outputs/alt_ss/EF_5_percent_FPR_5_percent/'+tissue+'_alt_ss_EF_5_FPR_5_values.csv')\n",
    "\n",
    "b.run() \n",
    "    "
   ]
  },
  {
   "cell_type": "markdown",
   "id": "6d991721-8984-4543-92f3-7156ca2151fc",
   "metadata": {
    "jp-MarkdownHeadingCollapsed": true
   },
   "source": [
    "1. Run across all tissues"
   ]
  },
  {
   "cell_type": "code",
   "execution_count": 7,
   "id": "7e5d6d52-cc47-43cb-8715-eea6c32125fb",
   "metadata": {},
   "outputs": [],
   "source": [
    "data_directory='/Users/hnjacobs/Dropbox (MIT)/GradSchool/Finuance/splicing_variation_in_humans_2022/data/00_data/emp_bayes_input/'\n",
    "\n",
    "\n",
    "alt_splice_sites=pd.read_csv(data_directory+'alt_splice_sites_filtered_for_popPSI.csv.gz', compression='gzip')\n",
    "\n",
    "\n",
    "\n",
    "\n",
    "\n",
    "gtex_tissue_list=list(set(alt_splice_sites.tissue))"
   ]
  },
  {
   "cell_type": "markdown",
   "id": "1c1528c3-806b-4477-8ee5-5e2fd94dfe86",
   "metadata": {},
   "source": [
    "gtex_tissue_list"
   ]
  },
  {
   "cell_type": "code",
   "execution_count": 17,
   "id": "700f1467-6975-4ef7-9443-d3e1776b303b",
   "metadata": {},
   "outputs": [],
   "source": [
    "#psi_directory='/Users/hnjacobs/Dropbox (MIT)/GradSchool/Finuance/GTEx sQTLs/GTEx_Analysis_v8_sQTL_leafcutter_counts/'\n"
   ]
  },
  {
   "cell_type": "code",
   "execution_count": null,
   "id": "a156d022-30ba-40f7-982e-328eda7da4b2",
   "metadata": {},
   "outputs": [],
   "source": []
  },
  {
   "cell_type": "markdown",
   "id": "ebe00824-557a-488c-875a-dc2d9fa38a81",
   "metadata": {},
   "source": [
    "run on all tissues EF 5%\n",
    "-"
   ]
  },
  {
   "cell_type": "code",
   "execution_count": 21,
   "id": "a3bc788a-99e3-4af8-b9db-574c2246ba0d",
   "metadata": {},
   "outputs": [
    {
     "data": {
      "text/html": [
       "<pre style=\"white-space:pre;overflow-x:auto;line-height:normal;font-family:Menlo,'DejaVu Sans Mono',consolas,'Courier New',monospace\">\n",
       "</pre>\n"
      ],
      "text/plain": [
       "\n"
      ]
     },
     "metadata": {},
     "output_type": "display_data"
    },
    {
     "data": {
      "text/html": [
       "<pre style=\"white-space:pre;overflow-x:auto;line-height:normal;font-family:Menlo,'DejaVu Sans Mono',consolas,'Courier New',monospace\">\n",
       "</pre>\n"
      ],
      "text/plain": [
       "\n"
      ]
     },
     "metadata": {},
     "output_type": "display_data"
    },
    {
     "data": {
      "text/html": [
       "<pre style=\"white-space:pre;overflow-x:auto;line-height:normal;font-family:Menlo,'DejaVu Sans Mono',consolas,'Courier New',monospace\">\n",
       "</pre>\n"
      ],
      "text/plain": [
       "\n"
      ]
     },
     "metadata": {},
     "output_type": "display_data"
    },
    {
     "data": {
      "application/vnd.jupyter.widget-view+json": {
       "model_id": "0de266d6025345e38942d72c1e0f8ec2",
       "version_major": 2,
       "version_minor": 0
      },
      "text/plain": [
       "Output()"
      ]
     },
     "metadata": {},
     "output_type": "display_data"
    },
    {
     "data": {
      "text/html": [
       "<pre style=\"white-space:pre;overflow-x:auto;line-height:normal;font-family:Menlo,'DejaVu Sans Mono',consolas,'Courier New',monospace\">A transient error occured. We will automatically retry. Do not be alarmed. We have thus far seen 2 transient errors\n",
       "(current delay: 0.2). The most recent error was &lt;class 'asyncio.exceptions.TimeoutError'&gt; . \n",
       "</pre>\n"
      ],
      "text/plain": [
       "A transient error occured. We will automatically retry. Do not be alarmed. We have thus far seen 2 transient errors\n",
       "(current delay: 0.2). The most recent error was <class 'asyncio.exceptions.TimeoutError'> . \n"
      ]
     },
     "metadata": {},
     "output_type": "display_data"
    },
    {
     "data": {
      "text/html": [
       "<pre style=\"white-space:pre;overflow-x:auto;line-height:normal;font-family:Menlo,'DejaVu Sans Mono',consolas,'Courier New',monospace\"></pre>\n"
      ],
      "text/plain": []
     },
     "metadata": {},
     "output_type": "display_data"
    },
    {
     "data": {
      "text/html": [
       "<pre style=\"white-space:pre;overflow-x:auto;line-height:normal;font-family:Menlo,'DejaVu Sans Mono',consolas,'Courier New',monospace\">\n",
       "</pre>\n"
      ],
      "text/plain": [
       "\n"
      ]
     },
     "metadata": {},
     "output_type": "display_data"
    },
    {
     "name": "stdout",
     "output_type": "stream",
     "text": [
      "batch 7597050 complete: cancelled\n"
     ]
    },
    {
     "data": {
      "text/plain": [
       "<hailtop.batch_client.client.Batch at 0x7fcc12763f40>"
      ]
     },
     "execution_count": 21,
     "metadata": {},
     "output_type": "execute_result"
    }
   ],
   "source": [
    "b = hb.Batch(backend=backend, name='emp_bayes')\n",
    "for tissue in gtex_tissue_list:\n",
    "    \n",
    "    \n",
    "    \n",
    "    j = b.new_job(name='run_emp_bayes_'+tissue)\n",
    "    j.memory('7Gi')\n",
    "   \n",
    "    #localizing the files\n",
    "    \n",
    "\n",
    "    \n",
    "    \n",
    "    \n",
    "    \n",
    "    input_script = \"/home/run_EF.py\"\n",
    "\n",
    "    input_file_tissue = b.read_input(\"gs://sqtl_gtex/exon_exon_counts_gtex/\"+tissue+'_perind_numers.counts.gz')\n",
    "\n",
    "    input_file_to_filter_events = b.read_input(\"gs://sqtl_gtex/files/EF_inputs/alt_ss_for_EF_algorithm.csv.gz\")\n",
    "    \n",
    "    j.image('gcr.io/finucane-splicing-hj/python-11-image-hj:v1')\n",
    "\n",
    "    j.command(f'python3 {input_script} \\\n",
    "                --tissue {tissue} \\\n",
    "                --filter_file {input_file_to_filter_events} \\\n",
    "                --tissue_file {input_file_tissue} \\\n",
    "                --lower_bound {0.05} \\\n",
    "                --FPR {0.05} \\\n",
    "                --output_file {j.output}')\n",
    "\n",
    "    b.write_output(j.output, 'gs://sqtl_gtex/files/EF_outputs/alt_ss/EF_5_percent_FPR_5_percent/'+tissue+'_alt_ss_EF_5_FPR_5_values.csv')\n",
    "\n",
    "b.run() \n",
    "    "
   ]
  },
  {
   "cell_type": "code",
   "execution_count": 8,
   "id": "c0165b5d-739c-47d6-84b3-9e55ec914b7d",
   "metadata": {},
   "outputs": [
    {
     "data": {
      "text/html": [
       "<pre style=\"white-space:pre;overflow-x:auto;line-height:normal;font-family:Menlo,'DejaVu Sans Mono',consolas,'Courier New',monospace\">\n",
       "</pre>\n"
      ],
      "text/plain": [
       "\n"
      ]
     },
     "metadata": {},
     "output_type": "display_data"
    },
    {
     "data": {
      "text/html": [
       "<pre style=\"white-space:pre;overflow-x:auto;line-height:normal;font-family:Menlo,'DejaVu Sans Mono',consolas,'Courier New',monospace\">\n",
       "</pre>\n"
      ],
      "text/plain": [
       "\n"
      ]
     },
     "metadata": {},
     "output_type": "display_data"
    },
    {
     "data": {
      "text/html": [
       "<pre style=\"white-space:pre;overflow-x:auto;line-height:normal;font-family:Menlo,'DejaVu Sans Mono',consolas,'Courier New',monospace\">\n",
       "</pre>\n"
      ],
      "text/plain": [
       "\n"
      ]
     },
     "metadata": {},
     "output_type": "display_data"
    },
    {
     "data": {
      "application/vnd.jupyter.widget-view+json": {
       "model_id": "e1130467ab924817a244e1a619a17a82",
       "version_major": 2,
       "version_minor": 0
      },
      "text/plain": [
       "Output()"
      ]
     },
     "metadata": {},
     "output_type": "display_data"
    },
    {
     "data": {
      "text/html": [
       "<pre style=\"white-space:pre;overflow-x:auto;line-height:normal;font-family:Menlo,'DejaVu Sans Mono',consolas,'Courier New',monospace\"></pre>\n"
      ],
      "text/plain": []
     },
     "metadata": {},
     "output_type": "display_data"
    },
    {
     "data": {
      "text/html": [
       "<pre style=\"white-space:pre;overflow-x:auto;line-height:normal;font-family:Menlo,'DejaVu Sans Mono',consolas,'Courier New',monospace\">\n",
       "</pre>\n"
      ],
      "text/plain": [
       "\n"
      ]
     },
     "metadata": {},
     "output_type": "display_data"
    },
    {
     "name": "stdout",
     "output_type": "stream",
     "text": [
      "batch 7624031 complete: cancelled\n"
     ]
    },
    {
     "data": {
      "text/plain": [
       "<hailtop.batch_client.client.Batch at 0x7fa42560bfd0>"
      ]
     },
     "execution_count": 8,
     "metadata": {},
     "output_type": "execute_result"
    }
   ],
   "source": [
    "b = hb.Batch(backend=backend, name='emp_bayes')\n",
    "for tissue in gtex_tissue_list:\n",
    "    \n",
    "    \n",
    "    \n",
    "    j = b.new_job(name='run_emp_bayes_'+tissue)\n",
    "    j.memory('7Gi')\n",
    "   \n",
    "    #localizing the files\n",
    "    \n",
    "\n",
    "    \n",
    "    \n",
    "    \n",
    "    \n",
    "    input_script = \"/home/run_EF.py\"\n",
    "\n",
    "    input_file_tissue = b.read_input(\"gs://sqtl_gtex/exon_exon_counts_gtex/\"+tissue+'_perind_numers.counts.gz')\n",
    "\n",
    "    input_file_to_filter_events = b.read_input(\"gs://sqtl_gtex/files/EF_inputs/alt_ss_for_EF_algorithm.csv.gz\")\n",
    "    \n",
    "    j.image('gcr.io/finucane-splicing-hj/python-11-image-hj:v1')\n",
    "\n",
    "    j.command(f'python3 {input_script} \\\n",
    "                --tissue {tissue} \\\n",
    "                --filter_file {input_file_to_filter_events} \\\n",
    "                --tissue_file {input_file_tissue} \\\n",
    "                --lower_bound {0.20} \\\n",
    "                --FPR {0.05} \\\n",
    "                --output_file {j.output}')\n",
    "\n",
    "    b.write_output(j.output, 'gs://sqtl_gtex/files/EF_outputs/alt_ss/EF_20_percent/'+tissue+'_alt_ss_EF_20_FPR_5_values.csv')\n",
    "\n",
    "b.run() \n",
    "    "
   ]
  },
  {
   "cell_type": "code",
   "execution_count": null,
   "id": "8680a32c-4298-490d-9cfb-df2114fde221",
   "metadata": {},
   "outputs": [],
   "source": [
    "python3 run_EF.py \\\n",
    "                --tissue 'Adipose_Subcutaneous' \\\n",
    "                --tissue_file '/Users/hnjacobs/Dropbox (MIT)/GradSchool/Finuance/GTEX sQTLs/GTEx_Analysis_v8_sQTL_leafcutter_counts/Adipose_Subcutaneous_perind_numers.counts.gz' \\\n",
    "                --filter_file '/Users/hnjacobs/Dropbox (MIT)//GradSchool/Finuance/splicing_variation_in_humans_2022/data/alt_splice_sites_filtered_for_popPSI.csv.gz' \\\n",
    "                --output_file Adipose_output.csv.gz\n",
    "    \n",
    "    "
   ]
  },
  {
   "cell_type": "code",
   "execution_count": 8,
   "id": "1e3b5935-8969-465e-a4ff-7546f414cbf0",
   "metadata": {},
   "outputs": [],
   "source": [
    "\n"
   ]
  },
  {
   "cell_type": "code",
   "execution_count": null,
   "id": "934d5610-396f-4e17-beee-2cf0f2d57689",
   "metadata": {},
   "outputs": [],
   "source": [
    "b = (backend=backend, name='emp_bayes')\n",
    "for tissue in ['Adipose_Subcutaneous']:\n",
    "    \n",
    "    \n",
    "    \n",
    "    j = b.new_job(name='run_emp_bayes_'+tissue)\n",
    "    j.memory('7Gi')\n",
    "   \n",
    "    #localizing the files\n",
    "    \n",
    "\n",
    "    \n",
    "    \n",
    "    \n",
    "    \n",
    "    input_script = \"/home/run_EF.py\"\n",
    "\n",
    "    input_file_tissue = b.read_input(\"gs://sqtl_gtex/exon_exon_counts_gtex/\"+tissue+'_perind_numers.counts.gz')\n",
    "\n",
    "    input_file_to_filter_events = b.read_input(\"gs://sqtl_gtex/files/EF_inputs/alt_splice_sites_filtered_for_popPSI.csv.gz\")\n",
    "\n",
    "    j.image('gcr.io/finucane-splicing-hj/python-11-image-hj:v1')\n",
    "\n",
    "    j.command(f'python3 {input_script} \\\n",
    "                --tissue {tissue} \\\n",
    "                --filter_file {input_file_to_filter_events} \\\n",
    "                --tissue_file {input_file_tissue} \\\n",
    "                --output_file {j.output}')\n",
    "\n",
    "    b.write_output(j.output, 'gs://sqtl_gtex/files/EF_outputs/'+tissue+'_EF_values.csv')\n",
    "\n",
    "b.run() \n",
    "    "
   ]
  },
  {
   "cell_type": "code",
   "execution_count": null,
   "id": "0cbebedd-d84a-4852-a5ba-190be8334697",
   "metadata": {},
   "outputs": [],
   "source": []
  },
  {
   "cell_type": "code",
   "execution_count": null,
   "id": "184ae801-1153-4289-a486-cb01a1c645ed",
   "metadata": {},
   "outputs": [],
   "source": []
  },
  {
   "cell_type": "code",
   "execution_count": null,
   "id": "2dafee02-2674-454e-b30c-c15e480a3f92",
   "metadata": {},
   "outputs": [],
   "source": []
  }
 ],
 "metadata": {
  "kernelspec": {
   "display_name": "Python 3 (ipykernel)",
   "language": "python",
   "name": "python3"
  },
  "language_info": {
   "codemirror_mode": {
    "name": "ipython",
    "version": 3
   },
   "file_extension": ".py",
   "mimetype": "text/x-python",
   "name": "python",
   "nbconvert_exporter": "python",
   "pygments_lexer": "ipython3",
   "version": "3.11.10"
  }
 },
 "nbformat": 4,
 "nbformat_minor": 5
}
