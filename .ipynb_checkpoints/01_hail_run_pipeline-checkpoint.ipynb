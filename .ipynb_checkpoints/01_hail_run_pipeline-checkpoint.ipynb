{
 "cells": [
  {
   "cell_type": "code",
   "execution_count": 2,
   "id": "498b8690-24c5-458b-b09d-bd5c70ad442b",
   "metadata": {
    "scrolled": true,
    "tags": []
   },
   "outputs": [
    {
     "data": {
      "text/html": [
       "    <style>\n",
       "        .bk-notebook-logo {\n",
       "            display: block;\n",
       "            width: 20px;\n",
       "            height: 20px;\n",
       "            background-image: url(data:image/png;base64,iVBORw0KGgoAAAANSUhEUgAAABQAAAAUCAYAAACNiR0NAAAABHNCSVQICAgIfAhkiAAAAAlwSFlzAAALEgAACxIB0t1+/AAAABx0RVh0U29mdHdhcmUAQWRvYmUgRmlyZXdvcmtzIENTNui8sowAAAOkSURBVDiNjZRtaJVlGMd/1/08zzln5zjP1LWcU9N0NkN8m2CYjpgQYQXqSs0I84OLIC0hkEKoPtiH3gmKoiJDU7QpLgoLjLIQCpEsNJ1vqUOdO7ppbuec5+V+rj4ctwzd8IIbbi6u+8f1539dt3A78eXC7QizUF7gyV1fD1Yqg4JWz84yffhm0qkFqBogB9rM8tZdtwVsPUhWhGcFJngGeWrPzHm5oaMmkfEg1usvLFyc8jLRqDOMru7AyC8saQr7GG7f5fvDeH7Ej8CM66nIF+8yngt6HWaKh7k49Soy9nXurCi1o3qUbS3zWfrYeQDTB/Qj6kX6Ybhw4B+bOYoLKCC9H3Nu/leUTZ1JdRWkkn2ldcCamzrcf47KKXdAJllSlxAOkRgyHsGC/zRday5Qld9DyoM4/q/rUoy/CXh3jzOu3bHUVZeU+DEn8FInkPBFlu3+nW3Nw0mk6vCDiWg8CeJaxEwuHS3+z5RgY+YBR6V1Z1nxSOfoaPa4LASWxxdNp+VWTk7+4vzaou8v8PN+xo+KY2xsw6une2frhw05CTYOmQvsEhjhWjn0bmXPjpE1+kplmmkP3suftwTubK9Vq22qKmrBhpY4jvd5afdRA3wGjFAgcnTK2s4hY0/GPNIb0nErGMCRxWOOX64Z8RAC4oCXdklmEvcL8o0BfkNK4lUg9HTl+oPlQxdNo3Mg4Nv175e/1LDGzZen30MEjRUtmXSfiTVu1kK8W4txyV6BMKlbgk3lMwYCiusNy9fVfvvwMxv8Ynl6vxoByANLTWplvuj/nF9m2+PDtt1eiHPBr1oIfhCChQMBw6Aw0UulqTKZdfVvfG7VcfIqLG9bcldL/+pdWTLxLUy8Qq38heUIjh4XlzZxzQm19lLFlr8vdQ97rjZVOLf8nclzckbcD4wxXMidpX30sFd37Fv/GtwwhzhxGVAprjbg0gCAEeIgwCZyTV2Z1REEW8O4py0wsjeloKoMr6iCY6dP92H6Vw/oTyICIthibxjm/DfN9lVz8IqtqKYLUXfoKVMVQVVJOElGjrnnUt9T9wbgp8AyYKaGlqingHZU/uG2NTZSVqwHQTWkx9hxjkpWDaCg6Ckj5qebgBVbT3V3NNXMSiWSDdGV3hrtzla7J+duwPOToIg42ChPQOQjspnSlp1V+Gjdged7+8UN5CRAV7a5EdFNwCjEaBR27b3W890TE7g24NAP/mMDXRWrGoFPQI9ls/MWO2dWFAar/xcOIImbbpA3zgAAAABJRU5ErkJggg==);\n",
       "        }\n",
       "    </style>\n",
       "    <div>\n",
       "        <a href=\"https://bokeh.org\" target=\"_blank\" class=\"bk-notebook-logo\"></a>\n",
       "        <span id=\"b4a4719e-8021-4736-9136-08db1d39ecee\">Loading BokehJS ...</span>\n",
       "    </div>\n"
      ]
     },
     "metadata": {},
     "output_type": "display_data"
    },
    {
     "data": {
      "application/javascript": [
       "(function(root) {\n",
       "  function now() {\n",
       "    return new Date();\n",
       "  }\n",
       "\n",
       "  const force = true;\n",
       "\n",
       "  if (typeof root._bokeh_onload_callbacks === \"undefined\" || force === true) {\n",
       "    root._bokeh_onload_callbacks = [];\n",
       "    root._bokeh_is_loading = undefined;\n",
       "  }\n",
       "\n",
       "const JS_MIME_TYPE = 'application/javascript';\n",
       "  const HTML_MIME_TYPE = 'text/html';\n",
       "  const EXEC_MIME_TYPE = 'application/vnd.bokehjs_exec.v0+json';\n",
       "  const CLASS_NAME = 'output_bokeh rendered_html';\n",
       "\n",
       "  /**\n",
       "   * Render data to the DOM node\n",
       "   */\n",
       "  function render(props, node) {\n",
       "    const script = document.createElement(\"script\");\n",
       "    node.appendChild(script);\n",
       "  }\n",
       "\n",
       "  /**\n",
       "   * Handle when an output is cleared or removed\n",
       "   */\n",
       "  function handleClearOutput(event, handle) {\n",
       "    function drop(id) {\n",
       "      const view = Bokeh.index.get_by_id(id)\n",
       "      if (view != null) {\n",
       "        view.model.document.clear()\n",
       "        Bokeh.index.delete(view)\n",
       "      }\n",
       "    }\n",
       "\n",
       "    const cell = handle.cell;\n",
       "\n",
       "    const id = cell.output_area._bokeh_element_id;\n",
       "    const server_id = cell.output_area._bokeh_server_id;\n",
       "\n",
       "    // Clean up Bokeh references\n",
       "    if (id != null) {\n",
       "      drop(id)\n",
       "    }\n",
       "\n",
       "    if (server_id !== undefined) {\n",
       "      // Clean up Bokeh references\n",
       "      const cmd_clean = \"from bokeh.io.state import curstate; print(curstate().uuid_to_server['\" + server_id + \"'].get_sessions()[0].document.roots[0]._id)\";\n",
       "      cell.notebook.kernel.execute(cmd_clean, {\n",
       "        iopub: {\n",
       "          output: function(msg) {\n",
       "            const id = msg.content.text.trim()\n",
       "            drop(id)\n",
       "          }\n",
       "        }\n",
       "      });\n",
       "      // Destroy server and session\n",
       "      const cmd_destroy = \"import bokeh.io.notebook as ion; ion.destroy_server('\" + server_id + \"')\";\n",
       "      cell.notebook.kernel.execute(cmd_destroy);\n",
       "    }\n",
       "  }\n",
       "\n",
       "  /**\n",
       "   * Handle when a new output is added\n",
       "   */\n",
       "  function handleAddOutput(event, handle) {\n",
       "    const output_area = handle.output_area;\n",
       "    const output = handle.output;\n",
       "\n",
       "    // limit handleAddOutput to display_data with EXEC_MIME_TYPE content only\n",
       "    if ((output.output_type != \"display_data\") || (!Object.prototype.hasOwnProperty.call(output.data, EXEC_MIME_TYPE))) {\n",
       "      return\n",
       "    }\n",
       "\n",
       "    const toinsert = output_area.element.find(\".\" + CLASS_NAME.split(' ')[0]);\n",
       "\n",
       "    if (output.metadata[EXEC_MIME_TYPE][\"id\"] !== undefined) {\n",
       "      toinsert[toinsert.length - 1].firstChild.textContent = output.data[JS_MIME_TYPE];\n",
       "      // store reference to embed id on output_area\n",
       "      output_area._bokeh_element_id = output.metadata[EXEC_MIME_TYPE][\"id\"];\n",
       "    }\n",
       "    if (output.metadata[EXEC_MIME_TYPE][\"server_id\"] !== undefined) {\n",
       "      const bk_div = document.createElement(\"div\");\n",
       "      bk_div.innerHTML = output.data[HTML_MIME_TYPE];\n",
       "      const script_attrs = bk_div.children[0].attributes;\n",
       "      for (let i = 0; i < script_attrs.length; i++) {\n",
       "        toinsert[toinsert.length - 1].firstChild.setAttribute(script_attrs[i].name, script_attrs[i].value);\n",
       "        toinsert[toinsert.length - 1].firstChild.textContent = bk_div.children[0].textContent\n",
       "      }\n",
       "      // store reference to server id on output_area\n",
       "      output_area._bokeh_server_id = output.metadata[EXEC_MIME_TYPE][\"server_id\"];\n",
       "    }\n",
       "  }\n",
       "\n",
       "  function register_renderer(events, OutputArea) {\n",
       "\n",
       "    function append_mime(data, metadata, element) {\n",
       "      // create a DOM node to render to\n",
       "      const toinsert = this.create_output_subarea(\n",
       "        metadata,\n",
       "        CLASS_NAME,\n",
       "        EXEC_MIME_TYPE\n",
       "      );\n",
       "      this.keyboard_manager.register_events(toinsert);\n",
       "      // Render to node\n",
       "      const props = {data: data, metadata: metadata[EXEC_MIME_TYPE]};\n",
       "      render(props, toinsert[toinsert.length - 1]);\n",
       "      element.append(toinsert);\n",
       "      return toinsert\n",
       "    }\n",
       "\n",
       "    /* Handle when an output is cleared or removed */\n",
       "    events.on('clear_output.CodeCell', handleClearOutput);\n",
       "    events.on('delete.Cell', handleClearOutput);\n",
       "\n",
       "    /* Handle when a new output is added */\n",
       "    events.on('output_added.OutputArea', handleAddOutput);\n",
       "\n",
       "    /**\n",
       "     * Register the mime type and append_mime function with output_area\n",
       "     */\n",
       "    OutputArea.prototype.register_mime_type(EXEC_MIME_TYPE, append_mime, {\n",
       "      /* Is output safe? */\n",
       "      safe: true,\n",
       "      /* Index of renderer in `output_area.display_order` */\n",
       "      index: 0\n",
       "    });\n",
       "  }\n",
       "\n",
       "  // register the mime type if in Jupyter Notebook environment and previously unregistered\n",
       "  if (root.Jupyter !== undefined) {\n",
       "    const events = require('base/js/events');\n",
       "    const OutputArea = require('notebook/js/outputarea').OutputArea;\n",
       "\n",
       "    if (OutputArea.prototype.mime_types().indexOf(EXEC_MIME_TYPE) == -1) {\n",
       "      register_renderer(events, OutputArea);\n",
       "    }\n",
       "  }\n",
       "  if (typeof (root._bokeh_timeout) === \"undefined\" || force === true) {\n",
       "    root._bokeh_timeout = Date.now() + 5000;\n",
       "    root._bokeh_failed_load = false;\n",
       "  }\n",
       "\n",
       "  const NB_LOAD_WARNING = {'data': {'text/html':\n",
       "     \"<div style='background-color: #fdd'>\\n\"+\n",
       "     \"<p>\\n\"+\n",
       "     \"BokehJS does not appear to have successfully loaded. If loading BokehJS from CDN, this \\n\"+\n",
       "     \"may be due to a slow or bad network connection. Possible fixes:\\n\"+\n",
       "     \"</p>\\n\"+\n",
       "     \"<ul>\\n\"+\n",
       "     \"<li>re-rerun `output_notebook()` to attempt to load from CDN again, or</li>\\n\"+\n",
       "     \"<li>use INLINE resources instead, as so:</li>\\n\"+\n",
       "     \"</ul>\\n\"+\n",
       "     \"<code>\\n\"+\n",
       "     \"from bokeh.resources import INLINE\\n\"+\n",
       "     \"output_notebook(resources=INLINE)\\n\"+\n",
       "     \"</code>\\n\"+\n",
       "     \"</div>\"}};\n",
       "\n",
       "  function display_loaded() {\n",
       "    const el = document.getElementById(\"b4a4719e-8021-4736-9136-08db1d39ecee\");\n",
       "    if (el != null) {\n",
       "      el.textContent = \"BokehJS is loading...\";\n",
       "    }\n",
       "    if (root.Bokeh !== undefined) {\n",
       "      if (el != null) {\n",
       "        el.textContent = \"BokehJS \" + root.Bokeh.version + \" successfully loaded.\";\n",
       "      }\n",
       "    } else if (Date.now() < root._bokeh_timeout) {\n",
       "      setTimeout(display_loaded, 100)\n",
       "    }\n",
       "  }\n",
       "\n",
       "  function run_callbacks() {\n",
       "    try {\n",
       "      root._bokeh_onload_callbacks.forEach(function(callback) {\n",
       "        if (callback != null)\n",
       "          callback();\n",
       "      });\n",
       "    } finally {\n",
       "      delete root._bokeh_onload_callbacks\n",
       "    }\n",
       "    console.debug(\"Bokeh: all callbacks have finished\");\n",
       "  }\n",
       "\n",
       "  function load_libs(css_urls, js_urls, callback) {\n",
       "    if (css_urls == null) css_urls = [];\n",
       "    if (js_urls == null) js_urls = [];\n",
       "\n",
       "    root._bokeh_onload_callbacks.push(callback);\n",
       "    if (root._bokeh_is_loading > 0) {\n",
       "      console.debug(\"Bokeh: BokehJS is being loaded, scheduling callback at\", now());\n",
       "      return null;\n",
       "    }\n",
       "    if (js_urls == null || js_urls.length === 0) {\n",
       "      run_callbacks();\n",
       "      return null;\n",
       "    }\n",
       "    console.debug(\"Bokeh: BokehJS not loaded, scheduling load and callback at\", now());\n",
       "    root._bokeh_is_loading = css_urls.length + js_urls.length;\n",
       "\n",
       "    function on_load() {\n",
       "      root._bokeh_is_loading--;\n",
       "      if (root._bokeh_is_loading === 0) {\n",
       "        console.debug(\"Bokeh: all BokehJS libraries/stylesheets loaded\");\n",
       "        run_callbacks()\n",
       "      }\n",
       "    }\n",
       "\n",
       "    function on_error(url) {\n",
       "      console.error(\"failed to load \" + url);\n",
       "    }\n",
       "\n",
       "    for (let i = 0; i < css_urls.length; i++) {\n",
       "      const url = css_urls[i];\n",
       "      const element = document.createElement(\"link\");\n",
       "      element.onload = on_load;\n",
       "      element.onerror = on_error.bind(null, url);\n",
       "      element.rel = \"stylesheet\";\n",
       "      element.type = \"text/css\";\n",
       "      element.href = url;\n",
       "      console.debug(\"Bokeh: injecting link tag for BokehJS stylesheet: \", url);\n",
       "      document.body.appendChild(element);\n",
       "    }\n",
       "\n",
       "    for (let i = 0; i < js_urls.length; i++) {\n",
       "      const url = js_urls[i];\n",
       "      const element = document.createElement('script');\n",
       "      element.onload = on_load;\n",
       "      element.onerror = on_error.bind(null, url);\n",
       "      element.async = false;\n",
       "      element.src = url;\n",
       "      console.debug(\"Bokeh: injecting script tag for BokehJS library: \", url);\n",
       "      document.head.appendChild(element);\n",
       "    }\n",
       "  };\n",
       "\n",
       "  function inject_raw_css(css) {\n",
       "    const element = document.createElement(\"style\");\n",
       "    element.appendChild(document.createTextNode(css));\n",
       "    document.body.appendChild(element);\n",
       "  }\n",
       "\n",
       "  const js_urls = [\"https://cdn.bokeh.org/bokeh/release/bokeh-3.3.4.min.js\", \"https://cdn.bokeh.org/bokeh/release/bokeh-gl-3.3.4.min.js\", \"https://cdn.bokeh.org/bokeh/release/bokeh-widgets-3.3.4.min.js\", \"https://cdn.bokeh.org/bokeh/release/bokeh-tables-3.3.4.min.js\", \"https://cdn.bokeh.org/bokeh/release/bokeh-mathjax-3.3.4.min.js\"];\n",
       "  const css_urls = [];\n",
       "\n",
       "  const inline_js = [    function(Bokeh) {\n",
       "      Bokeh.set_log_level(\"info\");\n",
       "    },\n",
       "function(Bokeh) {\n",
       "    }\n",
       "  ];\n",
       "\n",
       "  function run_inline_js() {\n",
       "    if (root.Bokeh !== undefined || force === true) {\n",
       "          for (let i = 0; i < inline_js.length; i++) {\n",
       "      inline_js[i].call(root, root.Bokeh);\n",
       "    }\n",
       "if (force === true) {\n",
       "        display_loaded();\n",
       "      }} else if (Date.now() < root._bokeh_timeout) {\n",
       "      setTimeout(run_inline_js, 100);\n",
       "    } else if (!root._bokeh_failed_load) {\n",
       "      console.log(\"Bokeh: BokehJS failed to load within specified timeout.\");\n",
       "      root._bokeh_failed_load = true;\n",
       "    } else if (force !== true) {\n",
       "      const cell = $(document.getElementById(\"b4a4719e-8021-4736-9136-08db1d39ecee\")).parents('.cell').data().cell;\n",
       "      cell.output_area.append_execute_result(NB_LOAD_WARNING)\n",
       "    }\n",
       "  }\n",
       "\n",
       "  if (root._bokeh_is_loading === 0) {\n",
       "    console.debug(\"Bokeh: BokehJS loaded, going straight to plotting\");\n",
       "    run_inline_js();\n",
       "  } else {\n",
       "    load_libs(css_urls, js_urls, function() {\n",
       "      console.debug(\"Bokeh: BokehJS plotting callback run at\", now());\n",
       "      run_inline_js();\n",
       "    });\n",
       "  }\n",
       "}(window));"
      ],
      "application/vnd.bokehjs_load.v0+json": "(function(root) {\n  function now() {\n    return new Date();\n  }\n\n  const force = true;\n\n  if (typeof root._bokeh_onload_callbacks === \"undefined\" || force === true) {\n    root._bokeh_onload_callbacks = [];\n    root._bokeh_is_loading = undefined;\n  }\n\n\n  if (typeof (root._bokeh_timeout) === \"undefined\" || force === true) {\n    root._bokeh_timeout = Date.now() + 5000;\n    root._bokeh_failed_load = false;\n  }\n\n  const NB_LOAD_WARNING = {'data': {'text/html':\n     \"<div style='background-color: #fdd'>\\n\"+\n     \"<p>\\n\"+\n     \"BokehJS does not appear to have successfully loaded. If loading BokehJS from CDN, this \\n\"+\n     \"may be due to a slow or bad network connection. Possible fixes:\\n\"+\n     \"</p>\\n\"+\n     \"<ul>\\n\"+\n     \"<li>re-rerun `output_notebook()` to attempt to load from CDN again, or</li>\\n\"+\n     \"<li>use INLINE resources instead, as so:</li>\\n\"+\n     \"</ul>\\n\"+\n     \"<code>\\n\"+\n     \"from bokeh.resources import INLINE\\n\"+\n     \"output_notebook(resources=INLINE)\\n\"+\n     \"</code>\\n\"+\n     \"</div>\"}};\n\n  function display_loaded() {\n    const el = document.getElementById(\"b4a4719e-8021-4736-9136-08db1d39ecee\");\n    if (el != null) {\n      el.textContent = \"BokehJS is loading...\";\n    }\n    if (root.Bokeh !== undefined) {\n      if (el != null) {\n        el.textContent = \"BokehJS \" + root.Bokeh.version + \" successfully loaded.\";\n      }\n    } else if (Date.now() < root._bokeh_timeout) {\n      setTimeout(display_loaded, 100)\n    }\n  }\n\n  function run_callbacks() {\n    try {\n      root._bokeh_onload_callbacks.forEach(function(callback) {\n        if (callback != null)\n          callback();\n      });\n    } finally {\n      delete root._bokeh_onload_callbacks\n    }\n    console.debug(\"Bokeh: all callbacks have finished\");\n  }\n\n  function load_libs(css_urls, js_urls, callback) {\n    if (css_urls == null) css_urls = [];\n    if (js_urls == null) js_urls = [];\n\n    root._bokeh_onload_callbacks.push(callback);\n    if (root._bokeh_is_loading > 0) {\n      console.debug(\"Bokeh: BokehJS is being loaded, scheduling callback at\", now());\n      return null;\n    }\n    if (js_urls == null || js_urls.length === 0) {\n      run_callbacks();\n      return null;\n    }\n    console.debug(\"Bokeh: BokehJS not loaded, scheduling load and callback at\", now());\n    root._bokeh_is_loading = css_urls.length + js_urls.length;\n\n    function on_load() {\n      root._bokeh_is_loading--;\n      if (root._bokeh_is_loading === 0) {\n        console.debug(\"Bokeh: all BokehJS libraries/stylesheets loaded\");\n        run_callbacks()\n      }\n    }\n\n    function on_error(url) {\n      console.error(\"failed to load \" + url);\n    }\n\n    for (let i = 0; i < css_urls.length; i++) {\n      const url = css_urls[i];\n      const element = document.createElement(\"link\");\n      element.onload = on_load;\n      element.onerror = on_error.bind(null, url);\n      element.rel = \"stylesheet\";\n      element.type = \"text/css\";\n      element.href = url;\n      console.debug(\"Bokeh: injecting link tag for BokehJS stylesheet: \", url);\n      document.body.appendChild(element);\n    }\n\n    for (let i = 0; i < js_urls.length; i++) {\n      const url = js_urls[i];\n      const element = document.createElement('script');\n      element.onload = on_load;\n      element.onerror = on_error.bind(null, url);\n      element.async = false;\n      element.src = url;\n      console.debug(\"Bokeh: injecting script tag for BokehJS library: \", url);\n      document.head.appendChild(element);\n    }\n  };\n\n  function inject_raw_css(css) {\n    const element = document.createElement(\"style\");\n    element.appendChild(document.createTextNode(css));\n    document.body.appendChild(element);\n  }\n\n  const js_urls = [\"https://cdn.bokeh.org/bokeh/release/bokeh-3.3.4.min.js\", \"https://cdn.bokeh.org/bokeh/release/bokeh-gl-3.3.4.min.js\", \"https://cdn.bokeh.org/bokeh/release/bokeh-widgets-3.3.4.min.js\", \"https://cdn.bokeh.org/bokeh/release/bokeh-tables-3.3.4.min.js\", \"https://cdn.bokeh.org/bokeh/release/bokeh-mathjax-3.3.4.min.js\"];\n  const css_urls = [];\n\n  const inline_js = [    function(Bokeh) {\n      Bokeh.set_log_level(\"info\");\n    },\nfunction(Bokeh) {\n    }\n  ];\n\n  function run_inline_js() {\n    if (root.Bokeh !== undefined || force === true) {\n          for (let i = 0; i < inline_js.length; i++) {\n      inline_js[i].call(root, root.Bokeh);\n    }\nif (force === true) {\n        display_loaded();\n      }} else if (Date.now() < root._bokeh_timeout) {\n      setTimeout(run_inline_js, 100);\n    } else if (!root._bokeh_failed_load) {\n      console.log(\"Bokeh: BokehJS failed to load within specified timeout.\");\n      root._bokeh_failed_load = true;\n    } else if (force !== true) {\n      const cell = $(document.getElementById(\"b4a4719e-8021-4736-9136-08db1d39ecee\")).parents('.cell').data().cell;\n      cell.output_area.append_execute_result(NB_LOAD_WARNING)\n    }\n  }\n\n  if (root._bokeh_is_loading === 0) {\n    console.debug(\"Bokeh: BokehJS loaded, going straight to plotting\");\n    run_inline_js();\n  } else {\n    load_libs(css_urls, js_urls, function() {\n      console.debug(\"Bokeh: BokehJS plotting callback run at\", now());\n      run_inline_js();\n    });\n  }\n}(window));"
     },
     "metadata": {},
     "output_type": "display_data"
    }
   ],
   "source": [
    "import hail\n",
    "\n",
    "import hailtop.batch as hb\n",
    "\n",
    "backend = hb.ServiceBackend(billing_project = 'finucane-splicing-hj',\n",
    "                            remote_tmpdir = 'gs://sqtl_gtex')\n",
    "\n",
    "import pandas as pd"
   ]
  },
  {
   "cell_type": "code",
   "execution_count": null,
   "id": "a87e2f51-37b6-4ac7-945e-ee18d3545764",
   "metadata": {},
   "outputs": [],
   "source": []
  },
  {
   "cell_type": "markdown",
   "id": "1429ec03-17ae-41d4-99ae-a2317ea9498c",
   "metadata": {
    "tags": []
   },
   "source": [
    "Explaination of script last updates 2 17 2024\n",
    "--\n",
    "This script creates a hail batch object that is able to send a job to a hail cluster. \n",
    "\n",
    "The jobs that we will be sending is the empirical bayes pipeline. \n",
    "\n",
    "\n",
    "\n"
   ]
  },
  {
   "cell_type": "code",
   "execution_count": 11,
   "id": "0204836d-94a7-4737-bd25-6be03e41840d",
   "metadata": {
    "tags": []
   },
   "outputs": [],
   "source": []
  },
  {
   "cell_type": "markdown",
   "id": "d79360ad-e3cb-4b97-acf6-63cd88a3e8ea",
   "metadata": {
    "jp-MarkdownHeadingCollapsed": true
   },
   "source": [
    "run on simulations\n",
    "--"
   ]
  },
  {
   "cell_type": "code",
   "execution_count": null,
   "id": "ffaaa806-2639-4e30-b5e9-b8bc64d4b97e",
   "metadata": {},
   "outputs": [],
   "source": []
  },
  {
   "cell_type": "code",
   "execution_count": 2,
   "id": "3645fa2f-d525-4a4e-8c22-f2540a1b2f99",
   "metadata": {
    "scrolled": true
   },
   "outputs": [
    {
     "data": {
      "text/html": [
       "<pre style=\"white-space:pre;overflow-x:auto;line-height:normal;font-family:Menlo,'DejaVu Sans Mono',consolas,'Courier New',monospace\"></pre>\n"
      ],
      "text/plain": [
       "\u001b[?25l"
      ]
     },
     "metadata": {},
     "output_type": "display_data"
    },
    {
     "data": {
      "application/vnd.jupyter.widget-view+json": {
       "model_id": "3f937ec93572477a83c1c3219066675c",
       "version_major": 2,
       "version_minor": 0
      },
      "text/plain": [
       "Output()"
      ]
     },
     "metadata": {},
     "output_type": "display_data"
    },
    {
     "data": {
      "text/html": [
       "<pre style=\"white-space:pre;overflow-x:auto;line-height:normal;font-family:Menlo,'DejaVu Sans Mono',consolas,'Courier New',monospace\">\n",
       "</pre>\n"
      ],
      "text/plain": [
       "\n",
       "\u001b[?25h"
      ]
     },
     "metadata": {},
     "output_type": "display_data"
    },
    {
     "data": {
      "text/html": [
       "<pre style=\"white-space:pre;overflow-x:auto;line-height:normal;font-family:Menlo,'DejaVu Sans Mono',consolas,'Courier New',monospace\"></pre>\n"
      ],
      "text/plain": [
       "\u001b[?25l"
      ]
     },
     "metadata": {},
     "output_type": "display_data"
    },
    {
     "data": {
      "application/vnd.jupyter.widget-view+json": {
       "model_id": "f5be8c39040c4f06a15862914d0061d2",
       "version_major": 2,
       "version_minor": 0
      },
      "text/plain": [
       "Output()"
      ]
     },
     "metadata": {},
     "output_type": "display_data"
    },
    {
     "data": {
      "text/html": [
       "<pre style=\"white-space:pre;overflow-x:auto;line-height:normal;font-family:Menlo,'DejaVu Sans Mono',consolas,'Courier New',monospace\">\r",
       "\u001b[2K\n",
       "KeyboardInterrupt\n",
       "<a href=\"https://batch.hail.is/batches/8241673\" target=\"_blank\">8241673</a> <span style=\"color: #729c1f; text-decoration-color: #729c1f\">━━━━━╸</span><span style=\"color: #3a3a3a; text-decoration-color: #3a3a3a\">━━━━━━━━━━━━━━━━━━━━━━━━━━━━━━━━━━</span> <span style=\"color: #800080; text-decoration-color: #800080\"> 15%</span> <span style=\"color: #008000; text-decoration-color: #008000\"> 68/468</span> <span style=\"color: #008080; text-decoration-color: #008080\">0:03:22</span> <span style=\"color: #808000; text-decoration-color: #808000\">0:05:11</span></pre>\n"
      ],
      "text/plain": [
       "\r",
       "\u001b[2K\n",
       "KeyboardInterrupt\n",
       "\u001b]8;id=306908;https://batch.hail.is/batches/8241673\u001b\\8241673\u001b]8;;\u001b\\ \u001b[38;2;114;156;31m━━━━━\u001b[0m\u001b[38;2;114;156;31m╸\u001b[0m\u001b[38;5;237m━━━━━━━━━━━━━━━━━━━━━━━━━━━━━━━━━━\u001b[0m \u001b[35m 15%\u001b[0m \u001b[32m 68/468\u001b[0m \u001b[36m0:03:22\u001b[0m \u001b[33m0:05:11\u001b[0m"
      ]
     },
     "metadata": {},
     "output_type": "display_data"
    },
    {
     "data": {
      "text/html": [
       "<pre style=\"white-space:pre;overflow-x:auto;line-height:normal;font-family:Menlo,'DejaVu Sans Mono',consolas,'Courier New',monospace\">\r",
       "\u001b[2K\n",
       "<a href=\"https://batch.hail.is/batches/8241673\" target=\"_blank\">8241673</a> <span style=\"color: #729c1f; text-decoration-color: #729c1f\">━━━━━╸</span><span style=\"color: #3a3a3a; text-decoration-color: #3a3a3a\">━━━━━━━━━━━━━━━━━━━━━━━━━━━━━━━━━━</span> <span style=\"color: #800080; text-decoration-color: #800080\"> 15%</span> <span style=\"color: #008000; text-decoration-color: #008000\"> 68/468</span> <span style=\"color: #008080; text-decoration-color: #008080\">0:03:22</span> <span style=\"color: #808000; text-decoration-color: #808000\">0:05:11</span></pre>\n"
      ],
      "text/plain": [
       "\r",
       "\u001b[2K\n",
       "\u001b]8;id=532779;https://batch.hail.is/batches/8241673\u001b\\8241673\u001b]8;;\u001b\\ \u001b[38;2;114;156;31m━━━━━\u001b[0m\u001b[38;2;114;156;31m╸\u001b[0m\u001b[38;5;237m━━━━━━━━━━━━━━━━━━━━━━━━━━━━━━━━━━\u001b[0m \u001b[35m 15%\u001b[0m \u001b[32m 68/468\u001b[0m \u001b[36m0:03:22\u001b[0m \u001b[33m0:05:11\u001b[0m"
      ]
     },
     "metadata": {},
     "output_type": "display_data"
    }
   ],
   "source": [
    "b = hb.Batch(backend=backend, name='emp_bayes')\n",
    "num_jobs = 25 #samples every 100 index\n",
    "\n",
    "\n",
    "\n",
    "#scale to all lists of simulations\n",
    "simulation_type=['single_1',\n",
    "                'single_2',\n",
    "                'double_1','double_2',\n",
    "                 'triple_1', 'triple_2']\n",
    "data_amt=['low', 'mid', 'high']\n",
    "i=0\n",
    "k=0\n",
    "for i in range(len(simulation_type)):\n",
    "\n",
    "    for k in range(len(data_amt)):\n",
    "        l = b.new_job(name='all_data_ammounts')\n",
    "        l.memory('20Gi')\n",
    "        l.image('us-central1-docker.pkg.dev/finucane-splicing-hj/testing/testing_beta_binom:v4')\n",
    "        tissue='test_tissue'\n",
    "    #localizing the files\n",
    "        input_script = \"/home/run_optimizer_alt_ss_w_mixed_effects.py\"    \n",
    "        \n",
    "        input_file_tissue = b.read_input(\"gs://sqtl_gtex/files/testing/mixture_testing/inputs_simulations/\"+data_amt[k]+\"_NVE_\"+simulation_type[i]+\"_counts.csv.gz\")\n",
    "        \n",
    "        input_file_to_filter_events = b.read_input(\"gs://sqtl_gtex/files/testing/mixture_testing/inputs_simulations/filtering_exons_in_test_sample.csv.gz\")\n",
    "            \n",
    "        \n",
    "        for job_index in range(num_jobs):\n",
    "            \n",
    "            j = b.new_job(name='run_emp_bayes_test_')\n",
    "            j.memory('20Gi')\n",
    "            j.image('us-central1-docker.pkg.dev/finucane-splicing-hj/testing/testing_beta_binom:v4')\n",
    "        \n",
    "            j.command(f'python3 {input_script} \\\n",
    "                            --tissue {tissue} \\\n",
    "                                --filter_file {input_file_to_filter_events} \\\n",
    "                                --tissue_file {input_file_tissue} \\\n",
    "                                --output_file {j.output} \\\n",
    "                                --num_jobs {num_jobs} \\\n",
    "                                --job_index {job_index}')\n",
    "        \n",
    "            b.write_output(j.output, f'gs://sqtl_gtex/files/testing/mixture_testing/outputs_simulations_new_pipeline/{data_amt[k]}_{simulation_type[i]}_EF_FPR_5_alphas_betas-{job_index}.csv')\n",
    "        \n",
    "            \n",
    "b.run()\n",
    "\n",
    "\n",
    "\n",
    "    "
   ]
  },
  {
   "cell_type": "code",
   "execution_count": 22,
   "id": "f112c53f-ea59-4b93-9c7d-8561be376091",
   "metadata": {},
   "outputs": [
    {
     "name": "stdout",
     "output_type": "stream",
     "text": [
      "[__RESOURCE_FILE__1345, __RESOURCE_FILE__1346, __RESOURCE_FILE__1347, __RESOURCE_FILE__1348, __RESOURCE_FILE__1349, __RESOURCE_FILE__1350, __RESOURCE_FILE__1351, __RESOURCE_FILE__1352, __RESOURCE_FILE__1353, __RESOURCE_FILE__1354]\n",
      "[__RESOURCE_FILE__1397, __RESOURCE_FILE__1398, __RESOURCE_FILE__1399, __RESOURCE_FILE__1400, __RESOURCE_FILE__1401, __RESOURCE_FILE__1402, __RESOURCE_FILE__1403, __RESOURCE_FILE__1404, __RESOURCE_FILE__1405, __RESOURCE_FILE__1406]\n",
      "[__RESOURCE_FILE__1449, __RESOURCE_FILE__1450, __RESOURCE_FILE__1451, __RESOURCE_FILE__1452, __RESOURCE_FILE__1453, __RESOURCE_FILE__1454, __RESOURCE_FILE__1455, __RESOURCE_FILE__1456, __RESOURCE_FILE__1457, __RESOURCE_FILE__1458]\n",
      "[__RESOURCE_FILE__1501, __RESOURCE_FILE__1502, __RESOURCE_FILE__1503, __RESOURCE_FILE__1504, __RESOURCE_FILE__1505, __RESOURCE_FILE__1506, __RESOURCE_FILE__1507, __RESOURCE_FILE__1508, __RESOURCE_FILE__1509, __RESOURCE_FILE__1510]\n",
      "[__RESOURCE_FILE__1553, __RESOURCE_FILE__1554, __RESOURCE_FILE__1555, __RESOURCE_FILE__1556, __RESOURCE_FILE__1557, __RESOURCE_FILE__1558, __RESOURCE_FILE__1559, __RESOURCE_FILE__1560, __RESOURCE_FILE__1561, __RESOURCE_FILE__1562]\n",
      "[__RESOURCE_FILE__1605, __RESOURCE_FILE__1606, __RESOURCE_FILE__1607, __RESOURCE_FILE__1608, __RESOURCE_FILE__1609, __RESOURCE_FILE__1610, __RESOURCE_FILE__1611, __RESOURCE_FILE__1612, __RESOURCE_FILE__1613, __RESOURCE_FILE__1614]\n",
      "[__RESOURCE_FILE__1657, __RESOURCE_FILE__1658, __RESOURCE_FILE__1659, __RESOURCE_FILE__1660, __RESOURCE_FILE__1661, __RESOURCE_FILE__1662, __RESOURCE_FILE__1663, __RESOURCE_FILE__1664, __RESOURCE_FILE__1665, __RESOURCE_FILE__1666]\n",
      "[__RESOURCE_FILE__1709, __RESOURCE_FILE__1710, __RESOURCE_FILE__1711, __RESOURCE_FILE__1712, __RESOURCE_FILE__1713, __RESOURCE_FILE__1714, __RESOURCE_FILE__1715, __RESOURCE_FILE__1716, __RESOURCE_FILE__1717, __RESOURCE_FILE__1718]\n",
      "[__RESOURCE_FILE__1761, __RESOURCE_FILE__1762, __RESOURCE_FILE__1763, __RESOURCE_FILE__1764, __RESOURCE_FILE__1765, __RESOURCE_FILE__1766, __RESOURCE_FILE__1767, __RESOURCE_FILE__1768, __RESOURCE_FILE__1769, __RESOURCE_FILE__1770]\n",
      "[__RESOURCE_FILE__1813, __RESOURCE_FILE__1814, __RESOURCE_FILE__1815, __RESOURCE_FILE__1816, __RESOURCE_FILE__1817, __RESOURCE_FILE__1818, __RESOURCE_FILE__1819, __RESOURCE_FILE__1820, __RESOURCE_FILE__1821, __RESOURCE_FILE__1822]\n",
      "[__RESOURCE_FILE__1865, __RESOURCE_FILE__1866, __RESOURCE_FILE__1867, __RESOURCE_FILE__1868, __RESOURCE_FILE__1869, __RESOURCE_FILE__1870, __RESOURCE_FILE__1871, __RESOURCE_FILE__1872, __RESOURCE_FILE__1873, __RESOURCE_FILE__1874]\n",
      "[__RESOURCE_FILE__1917, __RESOURCE_FILE__1918, __RESOURCE_FILE__1919, __RESOURCE_FILE__1920, __RESOURCE_FILE__1921, __RESOURCE_FILE__1922, __RESOURCE_FILE__1923, __RESOURCE_FILE__1924, __RESOURCE_FILE__1925, __RESOURCE_FILE__1926]\n",
      "[__RESOURCE_FILE__1969, __RESOURCE_FILE__1970, __RESOURCE_FILE__1971, __RESOURCE_FILE__1972, __RESOURCE_FILE__1973, __RESOURCE_FILE__1974, __RESOURCE_FILE__1975, __RESOURCE_FILE__1976, __RESOURCE_FILE__1977, __RESOURCE_FILE__1978]\n",
      "[__RESOURCE_FILE__2021, __RESOURCE_FILE__2022, __RESOURCE_FILE__2023, __RESOURCE_FILE__2024, __RESOURCE_FILE__2025, __RESOURCE_FILE__2026, __RESOURCE_FILE__2027, __RESOURCE_FILE__2028, __RESOURCE_FILE__2029, __RESOURCE_FILE__2030]\n",
      "[__RESOURCE_FILE__2073, __RESOURCE_FILE__2074, __RESOURCE_FILE__2075, __RESOURCE_FILE__2076, __RESOURCE_FILE__2077, __RESOURCE_FILE__2078, __RESOURCE_FILE__2079, __RESOURCE_FILE__2080, __RESOURCE_FILE__2081, __RESOURCE_FILE__2082]\n",
      "[__RESOURCE_FILE__2125, __RESOURCE_FILE__2126, __RESOURCE_FILE__2127, __RESOURCE_FILE__2128, __RESOURCE_FILE__2129, __RESOURCE_FILE__2130, __RESOURCE_FILE__2131, __RESOURCE_FILE__2132, __RESOURCE_FILE__2133, __RESOURCE_FILE__2134]\n",
      "[__RESOURCE_FILE__2177, __RESOURCE_FILE__2178, __RESOURCE_FILE__2179, __RESOURCE_FILE__2180, __RESOURCE_FILE__2181, __RESOURCE_FILE__2182, __RESOURCE_FILE__2183, __RESOURCE_FILE__2184, __RESOURCE_FILE__2185, __RESOURCE_FILE__2186]\n",
      "[__RESOURCE_FILE__2229, __RESOURCE_FILE__2230, __RESOURCE_FILE__2231, __RESOURCE_FILE__2232, __RESOURCE_FILE__2233, __RESOURCE_FILE__2234, __RESOURCE_FILE__2235, __RESOURCE_FILE__2236, __RESOURCE_FILE__2237, __RESOURCE_FILE__2238]\n"
     ]
    },
    {
     "data": {
      "text/html": [
       "<pre style=\"white-space:pre;overflow-x:auto;line-height:normal;font-family:Menlo,'DejaVu Sans Mono',consolas,'Courier New',monospace\"></pre>\n"
      ],
      "text/plain": [
       "\u001b[?25l"
      ]
     },
     "metadata": {},
     "output_type": "display_data"
    },
    {
     "data": {
      "application/vnd.jupyter.widget-view+json": {
       "model_id": "2ce804ed6c2141a9ba696b145a5e5191",
       "version_major": 2,
       "version_minor": 0
      },
      "text/plain": [
       "Output()"
      ]
     },
     "metadata": {},
     "output_type": "display_data"
    },
    {
     "data": {
      "text/html": [
       "<pre style=\"white-space:pre;overflow-x:auto;line-height:normal;font-family:Menlo,'DejaVu Sans Mono',consolas,'Courier New',monospace\">\n",
       "</pre>\n"
      ],
      "text/plain": [
       "\n",
       "\u001b[?25h"
      ]
     },
     "metadata": {},
     "output_type": "display_data"
    },
    {
     "data": {
      "text/html": [
       "<pre style=\"white-space:pre;overflow-x:auto;line-height:normal;font-family:Menlo,'DejaVu Sans Mono',consolas,'Courier New',monospace\"></pre>\n"
      ],
      "text/plain": [
       "\u001b[?25l"
      ]
     },
     "metadata": {},
     "output_type": "display_data"
    },
    {
     "data": {
      "application/vnd.jupyter.widget-view+json": {
       "model_id": "1bab0b00e3934205b1621bbd71940f5f",
       "version_major": 2,
       "version_minor": 0
      },
      "text/plain": [
       "Output()"
      ]
     },
     "metadata": {},
     "output_type": "display_data"
    },
    {
     "data": {
      "text/html": [
       "<pre style=\"white-space:pre;overflow-x:auto;line-height:normal;font-family:Menlo,'DejaVu Sans Mono',consolas,'Courier New',monospace\">\n",
       "</pre>\n"
      ],
      "text/plain": [
       "\n",
       "\u001b[?25h"
      ]
     },
     "metadata": {},
     "output_type": "display_data"
    },
    {
     "name": "stdout",
     "output_type": "stream",
     "text": [
      "batch 8241677 complete: success\n"
     ]
    },
    {
     "data": {
      "text/plain": [
       "<hailtop.batch_client.client.Batch at 0x1400f1d10>"
      ]
     },
     "execution_count": 22,
     "metadata": {},
     "output_type": "execute_result"
    }
   ],
   "source": [
    "b = hb.Batch(backend=backend, name='emp_bayes')\n",
    "directory='gs://sqtl_gtex/files/testing/mixture_testing/outputs_simulations_new_pipeline/'\n",
    "\n",
    "j = b.new_job(name='run_emp_bayes_test_')\n",
    "j.memory('20Gi')\n",
    "j.image('us-central1-docker.pkg.dev/finucane-splicing-hj/testing/testing_beta_binom:v4')\n",
    "for i in range(len(simulation_type)):\n",
    "    for k in range(len(data_amt)):\n",
    "        files_given_sim=[]\n",
    "        \n",
    "        for job_index in range(num_jobs):\n",
    "    \n",
    "            file=data_amt[k]+'_'+simulation_type[i]+'_EF_FPR_5_alphas_betas-'+str(job_index)+'.csv'\n",
    "            \n",
    "            o_file=b.read_input(directory+file)\n",
    "\n",
    "            files_given_sim.append(o_file)\n",
    "            new_file_name=data_amt[k]+'_'+simulation_type[i]+'_EF_FPR_5_alphas_betas.csv'\n",
    "        print(files_given_sim[0:10])\n",
    "        ofile = hb.concatenate(b, files_given_sim, branching_factor=2)\n",
    "        b.write_output(ofile, f'gs://sqtl_gtex/files/testing/mixture_testing/outputs_simulations_new_pipeline/all_{new_file_name}') \n",
    "b.run()"
   ]
  },
  {
   "cell_type": "code",
   "execution_count": null,
   "id": "0ac0826c-b418-4767-a40f-358486c107e1",
   "metadata": {},
   "outputs": [],
   "source": []
  },
  {
   "cell_type": "markdown",
   "id": "b53eaa38-bf13-445d-a179-6a3cfa74453d",
   "metadata": {},
   "source": [
    "# run new pipeline on all tissues\n",
    "\n",
    "\n"
   ]
  },
  {
   "cell_type": "markdown",
   "id": "4bac7a60-2a2f-4c7b-8b87-f20fe38013cb",
   "metadata": {},
   "source": [
    "alt ss\n",
    "--"
   ]
  },
  {
   "cell_type": "code",
   "execution_count": 4,
   "id": "fb61b8d4-ac5c-4825-987b-b0d3eaad38d5",
   "metadata": {},
   "outputs": [],
   "source": [
    "data_directory='/Users/hannahjacobs/Dropbox (MIT)/GradSchool/Finucane/splicing_variation_in_humans_2022/data/00_data/emp_bayes_input/'\n",
    "\n",
    "\n",
    "alt_splice_sites=pd.read_csv(data_directory+'alt_splice_sites_filtered_for_popPSI.csv.gz', compression='gzip')\n",
    "\n",
    "\n",
    "\n",
    "\n",
    "\n",
    "gtex_tissue_list=list(set(alt_splice_sites.tissue))"
   ]
  },
  {
   "cell_type": "code",
   "execution_count": null,
   "id": "93b2e5a1-4517-4180-b520-7fb67f4a570a",
   "metadata": {},
   "outputs": [
    {
     "data": {
      "text/html": [
       "<pre style=\"white-space:pre;overflow-x:auto;line-height:normal;font-family:Menlo,'DejaVu Sans Mono',consolas,'Courier New',monospace\"></pre>\n"
      ],
      "text/plain": [
       "\u001b[?25l"
      ]
     },
     "metadata": {},
     "output_type": "display_data"
    },
    {
     "data": {
      "application/vnd.jupyter.widget-view+json": {
       "model_id": "6fa36442dbb84359b10bfb9befb175b5",
       "version_major": 2,
       "version_minor": 0
      },
      "text/plain": [
       "Output()"
      ]
     },
     "metadata": {},
     "output_type": "display_data"
    },
    {
     "data": {
      "text/html": [
       "<pre style=\"white-space:pre;overflow-x:auto;line-height:normal;font-family:Menlo,'DejaVu Sans Mono',consolas,'Courier New',monospace\">\n",
       "</pre>\n"
      ],
      "text/plain": [
       "\n",
       "\u001b[?25h"
      ]
     },
     "metadata": {},
     "output_type": "display_data"
    },
    {
     "data": {
      "text/html": [
       "<pre style=\"white-space:pre;overflow-x:auto;line-height:normal;font-family:Menlo,'DejaVu Sans Mono',consolas,'Courier New',monospace\"></pre>\n"
      ],
      "text/plain": [
       "\u001b[?25l"
      ]
     },
     "metadata": {},
     "output_type": "display_data"
    },
    {
     "data": {
      "application/vnd.jupyter.widget-view+json": {
       "model_id": "84cfd7265f4e469ea3b5c1912808ac14",
       "version_major": 2,
       "version_minor": 0
      },
      "text/plain": [
       "Output()"
      ]
     },
     "metadata": {},
     "output_type": "display_data"
    },
    {
     "data": {
      "text/html": [
       "<pre style=\"white-space:pre;overflow-x:auto;line-height:normal;font-family:Menlo,'DejaVu Sans Mono',consolas,'Courier New',monospace\">\n",
       "</pre>\n"
      ],
      "text/plain": [
       "\n",
       "\u001b[?25h"
      ]
     },
     "metadata": {},
     "output_type": "display_data"
    },
    {
     "data": {
      "text/html": [
       "<pre style=\"white-space:pre;overflow-x:auto;line-height:normal;font-family:Menlo,'DejaVu Sans Mono',consolas,'Courier New',monospace\"></pre>\n"
      ],
      "text/plain": [
       "\u001b[?25l"
      ]
     },
     "metadata": {},
     "output_type": "display_data"
    },
    {
     "data": {
      "application/vnd.jupyter.widget-view+json": {
       "model_id": "e30e361c16414df690db936e297c38ad",
       "version_major": 2,
       "version_minor": 0
      },
      "text/plain": [
       "Output()"
      ]
     },
     "metadata": {},
     "output_type": "display_data"
    },
    {
     "data": {
      "text/html": [
       "<pre style=\"white-space:pre;overflow-x:auto;line-height:normal;font-family:Menlo,'DejaVu Sans Mono',consolas,'Courier New',monospace\">\n",
       "</pre>\n"
      ],
      "text/plain": [
       "\n",
       "\u001b[?25h"
      ]
     },
     "metadata": {},
     "output_type": "display_data"
    },
    {
     "data": {
      "text/html": [
       "<pre style=\"white-space:pre;overflow-x:auto;line-height:normal;font-family:Menlo,'DejaVu Sans Mono',consolas,'Courier New',monospace\"></pre>\n"
      ],
      "text/plain": [
       "\u001b[?25l"
      ]
     },
     "metadata": {},
     "output_type": "display_data"
    },
    {
     "data": {
      "application/vnd.jupyter.widget-view+json": {
       "model_id": "89a77d198c8f42f299f4099a0f712a2d",
       "version_major": 2,
       "version_minor": 0
      },
      "text/plain": [
       "Output()"
      ]
     },
     "metadata": {},
     "output_type": "display_data"
    }
   ],
   "source": [
    "b = hb.Batch(backend=backend, name='emp_bayes')\n",
    "num_jobs = 1000\n",
    "\n",
    "#list_of_tissues=['Whole_Blood','Adipose_Subcutaneous']\n",
    "\n",
    "list_of_tissues=gtex_tissue_list\n",
    "\n",
    "b = hb.Batch(backend=backend, name='emp_bayes')\n",
    "\n",
    "for tissue in list_of_tissues:\n",
    "    \n",
    "    \n",
    "  \n",
    "    for job_index in range(num_jobs):\n",
    "    \n",
    "        j = b.new_job(name='run_emp_bayes_'+tissue)\n",
    "        j.memory('20Gi')\n",
    "       \n",
    "        #localizing the files\n",
    "        \n",
    "        j.image('us-central1-docker.pkg.dev/finucane-splicing-hj/testing/testing_beta_binom:v4')\n",
    "            \n",
    "        input_script = \"/home/run_optimizer_alt_ss_w_mixed_effects.py\"\n",
    "\n",
    "        input_file_tissue = b.read_input(\"gs://sqtl_gtex/exon_exon_counts_gtex/\"+tissue+'_perind_numers.counts.gz')\n",
    "    \n",
    "        input_file_to_filter_events = b.read_input(\"gs://sqtl_gtex/files/EF_inputs/alt_ss_for_EF_algorithm.csv.gz\")\n",
    "        \n",
    "        j.command(f'python3 {input_script} \\\n",
    "                            --tissue {tissue} \\\n",
    "                                --filter_file {input_file_to_filter_events} \\\n",
    "                                --tissue_file {input_file_tissue} \\\n",
    "                                --output_file {j.output} \\\n",
    "                                --num_jobs {num_jobs} \\\n",
    "                                --job_index {job_index}')\n",
    "        \n",
    "        b.write_output(j.output, 'gs://sqtl_gtex/files/testing/mixture_testing/real_data_outputs/' + tissue + '_alt_ss_EF_5_FPR_5_' + str(job_index) + '_alphas_betas.csv')\n",
    "\n",
    "      \n",
    "b.run() \n",
    "    "
   ]
  },
  {
   "cell_type": "code",
   "execution_count": null,
   "id": "2ba9382f-9054-4aaf-a6dc-04f6919ebf97",
   "metadata": {},
   "outputs": [],
   "source": []
  },
  {
   "cell_type": "markdown",
   "id": "f2334595-e19f-4fab-90cc-d27cf4f326f9",
   "metadata": {},
   "source": [
    "all alt ss combine files\n",
    "--\n",
    "\n",
    "\n"
   ]
  },
  {
   "cell_type": "code",
   "execution_count": 6,
   "id": "37f5b4d5-3226-4f6c-9b2f-49871c3dbdc5",
   "metadata": {},
   "outputs": [
    {
     "data": {
      "text/html": [
       "<pre style=\"white-space:pre;overflow-x:auto;line-height:normal;font-family:Menlo,'DejaVu Sans Mono',consolas,'Courier New',monospace\"></pre>\n"
      ],
      "text/plain": [
       "\u001b[?25l"
      ]
     },
     "metadata": {},
     "output_type": "display_data"
    },
    {
     "data": {
      "application/vnd.jupyter.widget-view+json": {
       "model_id": "f010d4b0d6db4fde913cd5cd0e68abe3",
       "version_major": 2,
       "version_minor": 0
      },
      "text/plain": [
       "Output()"
      ]
     },
     "metadata": {},
     "output_type": "display_data"
    },
    {
     "data": {
      "text/html": [
       "<pre style=\"white-space:pre;overflow-x:auto;line-height:normal;font-family:Menlo,'DejaVu Sans Mono',consolas,'Courier New',monospace\">\n",
       "</pre>\n"
      ],
      "text/plain": [
       "\n",
       "\u001b[?25h"
      ]
     },
     "metadata": {},
     "output_type": "display_data"
    },
    {
     "data": {
      "text/html": [
       "<pre style=\"white-space:pre;overflow-x:auto;line-height:normal;font-family:Menlo,'DejaVu Sans Mono',consolas,'Courier New',monospace\"></pre>\n"
      ],
      "text/plain": [
       "\u001b[?25l"
      ]
     },
     "metadata": {},
     "output_type": "display_data"
    },
    {
     "data": {
      "application/vnd.jupyter.widget-view+json": {
       "model_id": "191c23c066914d09b95cbee333c68ace",
       "version_major": 2,
       "version_minor": 0
      },
      "text/plain": [
       "Output()"
      ]
     },
     "metadata": {},
     "output_type": "display_data"
    },
    {
     "data": {
      "text/html": [
       "<pre style=\"white-space:pre;overflow-x:auto;line-height:normal;font-family:Menlo,'DejaVu Sans Mono',consolas,'Courier New',monospace\">\n",
       "</pre>\n"
      ],
      "text/plain": [
       "\n",
       "\u001b[?25h"
      ]
     },
     "metadata": {},
     "output_type": "display_data"
    },
    {
     "name": "stdout",
     "output_type": "stream",
     "text": [
      "batch 8242118 complete: success\n"
     ]
    },
    {
     "data": {
      "text/plain": [
       "<hailtop.batch_client.client.Batch at 0x14acfbc90>"
      ]
     },
     "execution_count": 6,
     "metadata": {},
     "output_type": "execute_result"
    }
   ],
   "source": [
    "b = hb.Batch(backend=backend, name='emp_bayes')\n",
    "directory='gs://sqtl_gtex/files/testing/mixture_testing/real_data_outputs/'\n",
    "num_jobs=1000\n",
    "j = b.new_job(name='run_emp_bayes_test_')\n",
    "j.memory('20Gi')\n",
    "j.image('us-central1-docker.pkg.dev/finucane-splicing-hj/testing/testing_beta_binom:v4')\n",
    "list_of_tissues=gtex_tissue_list\n",
    "for tissue in gtex_tissue_list:\n",
    "    for job_index in range(num_jobs):\n",
    "\n",
    "        files_given_sim=[]\n",
    "            \n",
    "\n",
    "        \n",
    "        file=tissue + '_alt_ss_EF_5_FPR_5_' + str(job_index) + '_alphas_betas.csv'\n",
    "                \n",
    "        o_file=b.read_input(directory+file)\n",
    "    \n",
    "        files_given_sim.append(o_file)\n",
    "        new_file_name = tissue+'_EF_FPR_5_alphas_betas.csv'\n",
    " \n",
    "        ofile = hb.concatenate(b, files_given_sim, branching_factor=2)\n",
    "        b.write_output(ofile, f'gs://sqtl_gtex/files/testing/mixture_testing/real_data_outputs/all_{new_file_name}') \n",
    "b.run()"
   ]
  },
  {
   "cell_type": "code",
   "execution_count": null,
   "id": "004362a0-d6be-4c2d-ba61-c9555a94fc43",
   "metadata": {},
   "outputs": [],
   "source": []
  },
  {
   "cell_type": "code",
   "execution_count": null,
   "id": "d2f621f8-0305-4f9e-b477-6e2f17b12741",
   "metadata": {},
   "outputs": [],
   "source": []
  },
  {
   "cell_type": "markdown",
   "id": "072dcf82-5ae4-499b-bb85-fbf4b83dc7c6",
   "metadata": {},
   "source": [
    "test skipped exons\n",
    "--"
   ]
  },
  {
   "cell_type": "code",
   "execution_count": 17,
   "id": "68fe1cdc-1748-4ae2-8f69-4adf84721991",
   "metadata": {},
   "outputs": [],
   "source": [
    "data_dir='/Users/hannahjacobs/MIT Dropbox/Hannah Jacobs/GradSchool/Finucane/splicing_variation_in_humans_2022/data/'"
   ]
  },
  {
   "cell_type": "code",
   "execution_count": 19,
   "id": "d1d2c683-7b65-4cbe-b348-56f3550b14b3",
   "metadata": {},
   "outputs": [],
   "source": [
    "skipped_exons_w_gene_names_and_assigned_abc_introns=pd.read_csv(data_dir+'00_data/skipped_exons_w_gene_names_and_assigned_abc_introns.csv.gz', compression='gzip',low_memory=False)"
   ]
  },
  {
   "cell_type": "code",
   "execution_count": null,
   "id": "55032dfd-94bf-455b-8a1a-2dfe254a344a",
   "metadata": {},
   "outputs": [],
   "source": []
  },
  {
   "cell_type": "code",
   "execution_count": null,
   "id": "02e7aa8e-ef90-4e92-beea-d94bd34025ec",
   "metadata": {},
   "outputs": [],
   "source": []
  },
  {
   "cell_type": "code",
   "execution_count": 27,
   "id": "8f1680a2-b352-482d-97a4-f3d4e6667554",
   "metadata": {},
   "outputs": [
    {
     "data": {
      "text/html": [
       "<pre style=\"white-space:pre;overflow-x:auto;line-height:normal;font-family:Menlo,'DejaVu Sans Mono',consolas,'Courier New',monospace\"></pre>\n"
      ],
      "text/plain": [
       "\u001b[?25l"
      ]
     },
     "metadata": {},
     "output_type": "display_data"
    },
    {
     "data": {
      "application/vnd.jupyter.widget-view+json": {
       "model_id": "1bcafd6bbea34810a70c4939f1a73b07",
       "version_major": 2,
       "version_minor": 0
      },
      "text/plain": [
       "Output()"
      ]
     },
     "metadata": {},
     "output_type": "display_data"
    },
    {
     "data": {
      "text/html": [
       "<pre style=\"white-space:pre;overflow-x:auto;line-height:normal;font-family:Menlo,'DejaVu Sans Mono',consolas,'Courier New',monospace\">\n",
       "</pre>\n"
      ],
      "text/plain": [
       "\n",
       "\u001b[?25h"
      ]
     },
     "metadata": {},
     "output_type": "display_data"
    },
    {
     "data": {
      "text/html": [
       "<pre style=\"white-space:pre;overflow-x:auto;line-height:normal;font-family:Menlo,'DejaVu Sans Mono',consolas,'Courier New',monospace\"></pre>\n"
      ],
      "text/plain": [
       "\u001b[?25l"
      ]
     },
     "metadata": {},
     "output_type": "display_data"
    },
    {
     "data": {
      "application/vnd.jupyter.widget-view+json": {
       "model_id": "e3107a11580b4a6fbf87f6ed9a937a46",
       "version_major": 2,
       "version_minor": 0
      },
      "text/plain": [
       "Output()"
      ]
     },
     "metadata": {},
     "output_type": "display_data"
    },
    {
     "data": {
      "text/html": [
       "<pre style=\"white-space:pre;overflow-x:auto;line-height:normal;font-family:Menlo,'DejaVu Sans Mono',consolas,'Courier New',monospace\">\n",
       "</pre>\n"
      ],
      "text/plain": [
       "\n",
       "\u001b[?25h"
      ]
     },
     "metadata": {},
     "output_type": "display_data"
    },
    {
     "name": "stdout",
     "output_type": "stream",
     "text": [
      "batch 8242069 complete: success\n"
     ]
    },
    {
     "data": {
      "text/plain": [
       "<hailtop.batch_client.client.Batch at 0x151740e90>"
      ]
     },
     "execution_count": 27,
     "metadata": {},
     "output_type": "execute_result"
    }
   ],
   "source": [
    "b = hb.Batch(backend=backend, name='emp_bayes')\n",
    "num_jobs = 1000\n",
    "\n",
    "#list_of_tissues=['Whole_Blood','Adipose_Subcutaneous']\n",
    "\n",
    "list_of_tissues=['Adipose_Subcutaneous','Whole_Blood']\n",
    "\n",
    "b = hb.Batch(backend=backend, name='emp_bayes')\n",
    "\n",
    "for tissue in list_of_tissues:\n",
    "    #range(num_jobs)\n",
    "    for job_index in range(10):\n",
    "    \n",
    "        j = b.new_job(name='run_emp_bayes_'+tissue)\n",
    "        j.memory('20Gi')\n",
    "       \n",
    "        #localizing the files\n",
    "        \n",
    "        j.image('us-central1-docker.pkg.dev/finucane-splicing-hj/testing/testing_beta_binom:v4')\n",
    "            \n",
    "        input_script = \"/home/run_optimizer_SE_w_mixed_effects.py\"\n",
    "    \n",
    "        input_file_tissue = b.read_input(\"gs://sqtl_gtex/exon_exon_counts_gtex/\"+tissue+'_perind_numers.counts.gz')\n",
    "    \n",
    "        input_file_to_filter_events = b.read_input(\"gs://sqtl_gtex/files/EF_inputs/skipped_exons_w_gene_names_and_assigned_abc_introns.csv.gz\")\n",
    "       \n",
    "        j.command(f'python3 {input_script} \\\n",
    "                            --tissue {tissue} \\\n",
    "                                --filter_file {input_file_to_filter_events} \\\n",
    "                                --tissue_file {input_file_tissue} \\\n",
    "                                --output_file {j.output} \\\n",
    "                                --num_jobs {num_jobs} \\\n",
    "                                --job_index {job_index}')\n",
    "        \n",
    "        b.write_output(j.output, 'gs://sqtl_gtex/files/EF_outputs/mixture_model/SE/optimizer_results/' + tissue + '_SE_EF_5_FPR_5_' + str(job_index) +'alphas_betas.csv')\n",
    "#  b.write_output(j.output, 'gs://sqtl_gtex/files/EF_outputs/mixture_model/alt_ss/optimizer_results/' + tissue + '_alt_ss_EF_5_FPR_5_' + str(job_index) +'_alphas_betas.csv')\n",
    "    \n",
    "b.run() \n",
    "    "
   ]
  },
  {
   "cell_type": "markdown",
   "id": "ba5886cf-5d11-49b5-8abd-57e870e05239",
   "metadata": {},
   "source": [
    "run on all skipped exons\n",
    "--"
   ]
  },
  {
   "cell_type": "code",
   "execution_count": null,
   "id": "e29b6a68-9151-42c4-a0ad-7994abc15d82",
   "metadata": {},
   "outputs": [],
   "source": []
  },
  {
   "cell_type": "code",
   "execution_count": null,
   "id": "7bf6fc42-29b3-4198-8d58-49f76f64fd53",
   "metadata": {},
   "outputs": [
    {
     "data": {
      "text/html": [
       "<pre style=\"white-space:pre;overflow-x:auto;line-height:normal;font-family:Menlo,'DejaVu Sans Mono',consolas,'Courier New',monospace\"></pre>\n"
      ],
      "text/plain": [
       "\u001b[?25l"
      ]
     },
     "metadata": {},
     "output_type": "display_data"
    },
    {
     "data": {
      "application/vnd.jupyter.widget-view+json": {
       "model_id": "39da060fbe584428aa6ced8ab41ffbd2",
       "version_major": 2,
       "version_minor": 0
      },
      "text/plain": [
       "Output()"
      ]
     },
     "metadata": {},
     "output_type": "display_data"
    },
    {
     "data": {
      "text/html": [
       "<pre style=\"white-space:pre;overflow-x:auto;line-height:normal;font-family:Menlo,'DejaVu Sans Mono',consolas,'Courier New',monospace\">\n",
       "</pre>\n"
      ],
      "text/plain": [
       "\n",
       "\u001b[?25h"
      ]
     },
     "metadata": {},
     "output_type": "display_data"
    },
    {
     "data": {
      "text/html": [
       "<pre style=\"white-space:pre;overflow-x:auto;line-height:normal;font-family:Menlo,'DejaVu Sans Mono',consolas,'Courier New',monospace\"></pre>\n"
      ],
      "text/plain": [
       "\u001b[?25l"
      ]
     },
     "metadata": {},
     "output_type": "display_data"
    },
    {
     "data": {
      "application/vnd.jupyter.widget-view+json": {
       "model_id": "3a37b7fba54143c68b65a2c60282d255",
       "version_major": 2,
       "version_minor": 0
      },
      "text/plain": [
       "Output()"
      ]
     },
     "metadata": {},
     "output_type": "display_data"
    },
    {
     "data": {
      "text/html": [
       "<pre style=\"white-space:pre;overflow-x:auto;line-height:normal;font-family:Menlo,'DejaVu Sans Mono',consolas,'Courier New',monospace\">\n",
       "</pre>\n"
      ],
      "text/plain": [
       "\n",
       "\u001b[?25h"
      ]
     },
     "metadata": {},
     "output_type": "display_data"
    },
    {
     "data": {
      "text/html": [
       "<pre style=\"white-space:pre;overflow-x:auto;line-height:normal;font-family:Menlo,'DejaVu Sans Mono',consolas,'Courier New',monospace\"></pre>\n"
      ],
      "text/plain": [
       "\u001b[?25l"
      ]
     },
     "metadata": {},
     "output_type": "display_data"
    },
    {
     "data": {
      "application/vnd.jupyter.widget-view+json": {
       "model_id": "b6f74da6e6e143d2b4a9e94c8ee9e29e",
       "version_major": 2,
       "version_minor": 0
      },
      "text/plain": [
       "Output()"
      ]
     },
     "metadata": {},
     "output_type": "display_data"
    },
    {
     "data": {
      "text/html": [
       "<pre style=\"white-space:pre;overflow-x:auto;line-height:normal;font-family:Menlo,'DejaVu Sans Mono',consolas,'Courier New',monospace\">\n",
       "</pre>\n"
      ],
      "text/plain": [
       "\n",
       "\u001b[?25h"
      ]
     },
     "metadata": {},
     "output_type": "display_data"
    },
    {
     "data": {
      "text/html": [
       "<pre style=\"white-space:pre;overflow-x:auto;line-height:normal;font-family:Menlo,'DejaVu Sans Mono',consolas,'Courier New',monospace\"></pre>\n"
      ],
      "text/plain": [
       "\u001b[?25l"
      ]
     },
     "metadata": {},
     "output_type": "display_data"
    },
    {
     "data": {
      "application/vnd.jupyter.widget-view+json": {
       "model_id": "6cb3a4bdd83a47068bbd3381049079a3",
       "version_major": 2,
       "version_minor": 0
      },
      "text/plain": [
       "Output()"
      ]
     },
     "metadata": {},
     "output_type": "display_data"
    }
   ],
   "source": [
    "\n",
    "num_jobs = 1000\n",
    "\n",
    "\n",
    "b = hb.Batch(backend=backend, name='emp_bayes')\n",
    "\n",
    "for tissue in gtex_tissue_list:\n",
    "    #range(num_jobs)\n",
    "    \n",
    "    for job_index in range(num_jobs):\n",
    "        j = b.new_job(name='run_emp_bayes_'+tissue)\n",
    "        j.memory('20Gi')\n",
    "           \n",
    "            #localizing the files\n",
    "            \n",
    "        j.image('us-central1-docker.pkg.dev/finucane-splicing-hj/testing/testing_beta_binom:v4')\n",
    "                \n",
    "        input_script = \"/home/run_optimizer_SE_w_mixed_effects.py\"\n",
    "        \n",
    "        input_file_tissue = b.read_input(\"gs://sqtl_gtex/exon_exon_counts_gtex/\"+tissue+'_perind_numers.counts.gz')\n",
    "        \n",
    "        input_file_to_filter_events = b.read_input(\"gs://sqtl_gtex/files/EF_inputs/skipped_exons_w_gene_names_and_assigned_abc_introns.csv.gz\")\n",
    "           \n",
    "        j.command(f'python3 {input_script} \\\n",
    "                                --tissue {tissue} \\\n",
    "                                    --filter_file {input_file_to_filter_events} \\\n",
    "                                    --tissue_file {input_file_tissue} \\\n",
    "                                    --output_file {j.output} \\\n",
    "                                    --num_jobs {num_jobs} \\\n",
    "                                    --job_index {job_index}')\n",
    "            \n",
    "        b.write_output(j.output, 'gs://sqtl_gtex/files/EF_outputs/mixture_model/SE/optimizer_results/' + tissue + '_SE_EF_5_FPR_5_' + str(job_index) +'_alphas_betas.csv')\n",
    "     \n",
    "b.run() \n",
    "    "
   ]
  },
  {
   "cell_type": "code",
   "execution_count": null,
   "id": "d55017c9-c591-43be-bd79-68b5e9b35979",
   "metadata": {},
   "outputs": [],
   "source": []
  },
  {
   "cell_type": "markdown",
   "id": "b2f54592-24e7-4cf7-b7de-9ea0a07c2746",
   "metadata": {},
   "source": [
    "merge the files into one\n",
    "--\n"
   ]
  },
  {
   "cell_type": "code",
   "execution_count": null,
   "id": "652c96cc-477b-47d7-8d95-b0a03f45ff29",
   "metadata": {},
   "outputs": [],
   "source": [
    "file_dir='gs://sqtl_gtex/files/EF_outputs/mixture_model/SE/optimizer_results/'\n",
    "+ tissue + '_SE_EF_5_FPR_5_' + str(job_index) +'alphas_betas.csv'\n",
    "tissue=tissue\n",
    "j.command(f'{file_dir}'+tissue+'_SE_EF_5_FPR_5_*alphas_betas'+)\n",
    "        \n"
   ]
  },
  {
   "cell_type": "markdown",
   "id": "0db1f8a8-8811-443a-b19f-82e40eca94d2",
   "metadata": {
    "jp-MarkdownHeadingCollapsed": true
   },
   "source": [
    "other code\n",
    "--"
   ]
  },
  {
   "cell_type": "code",
   "execution_count": 29,
   "id": "d48db808-988b-4569-a29c-ae67f0cade98",
   "metadata": {},
   "outputs": [
    {
     "data": {
      "text/html": [
       "<pre style=\"white-space:pre;overflow-x:auto;line-height:normal;font-family:Menlo,'DejaVu Sans Mono',consolas,'Courier New',monospace\"></pre>\n"
      ],
      "text/plain": [
       "\u001b[?25l"
      ]
     },
     "metadata": {},
     "output_type": "display_data"
    },
    {
     "data": {
      "application/vnd.jupyter.widget-view+json": {
       "model_id": "856459d931664068aba206cdf8352049",
       "version_major": 2,
       "version_minor": 0
      },
      "text/plain": [
       "Output()"
      ]
     },
     "metadata": {},
     "output_type": "display_data"
    },
    {
     "data": {
      "text/html": [
       "<pre style=\"white-space:pre;overflow-x:auto;line-height:normal;font-family:Menlo,'DejaVu Sans Mono',consolas,'Courier New',monospace\">\n",
       "</pre>\n"
      ],
      "text/plain": [
       "\n",
       "\u001b[?25h"
      ]
     },
     "metadata": {},
     "output_type": "display_data"
    },
    {
     "data": {
      "text/html": [
       "<pre style=\"white-space:pre;overflow-x:auto;line-height:normal;font-family:Menlo,'DejaVu Sans Mono',consolas,'Courier New',monospace\"></pre>\n"
      ],
      "text/plain": [
       "\u001b[?25l"
      ]
     },
     "metadata": {},
     "output_type": "display_data"
    },
    {
     "data": {
      "application/vnd.jupyter.widget-view+json": {
       "model_id": "88982e5c7d8c49d88b5670d5f47ea220",
       "version_major": 2,
       "version_minor": 0
      },
      "text/plain": [
       "Output()"
      ]
     },
     "metadata": {},
     "output_type": "display_data"
    },
    {
     "data": {
      "text/html": [
       "<pre style=\"white-space:pre;overflow-x:auto;line-height:normal;font-family:Menlo,'DejaVu Sans Mono',consolas,'Courier New',monospace\">\n",
       "</pre>\n"
      ],
      "text/plain": [
       "\n",
       "\u001b[?25h"
      ]
     },
     "metadata": {},
     "output_type": "display_data"
    },
    {
     "name": "stdout",
     "output_type": "stream",
     "text": [
      "batch 8236401 complete: failure\n"
     ]
    }
   ],
   "source": [
    "b = hb.Batch(backend=backend, name='emp_bayes')\n",
    "num_jobs = 500 \n",
    "\n",
    "j.memory('20Gi')\n",
    "\n",
    "tissue=['Esophagus_Mucosa']\n",
    "\n",
    "b = hb.Batch(backend=backend, name='emp_bayes')\n",
    "for tissue in ['Esophagus_Mucosa']:\n",
    "    \n",
    "    \n",
    "    for job_index in range(5):\n",
    "        j = b.new_job(name='run_emp_bayes_'+tissue)\n",
    "        j.memory('20Gi')\n",
    "       \n",
    "        #localizing the files\n",
    "        \n",
    "        j.image('us-central1-docker.pkg.dev/finucane-splicing-hj/testing/testing_beta_binom:v4')\n",
    "            \n",
    "        input_script = \"/home/run_optimizer_SE_w_mixed_effects.py\"\n",
    "    \n",
    "        input_file_tissue = b.read_input(\"gs://sqtl_gtex/exon_exon_counts_gtex/\"+tissue+'_perind_numers.counts.gz')\n",
    "    \n",
    "        input_file_to_filter_events = b.read_input(\"gs://sqtl_gtex/files/EF_inputs/skipped_exons_w_gene_names_and_assigned_abc_introns.csv.gz\")\n",
    "        \n",
    "        j.command(f'python3 {input_script} \\\n",
    "                            --tissue {tissue} \\\n",
    "                                --filter_file {input_file_to_filter_events} \\\n",
    "                                --tissue_file {input_file_tissue} \\\n",
    "                                --output_file {j.output} \\\n",
    "                                --num_jobs {num_jobs} \\\n",
    "                                --job_index {job_index}')\n",
    "    \n",
    "        b.write_output(j.output, 'gs://sqtl_gtex/files/EF_outputs/mixture_model/SE/optimizer_results/' + tissue + '_SE_EF_5_FPR_5_' + str(job_index) +'alphas_betas.csv')\n",
    "    b.run() "
   ]
  },
  {
   "cell_type": "code",
   "execution_count": 7,
   "id": "d7f320b5-69a3-4be0-8042-d3fdd4b25643",
   "metadata": {},
   "outputs": [],
   "source": [
    "output_directory='/Users/hannahjacobs/MIT Dropbox/Hannah Jacobs/GradSchool/Finucane/splicing_variation_in_humans_2022/scripts/01_analysis_pipeline/00_run_emprical_bayes/emp_bayes_in_hail_pipeline-testing/data/mixture_implementation_testing/'\n",
    "\n",
    "import pandas as pd"
   ]
  },
  {
   "cell_type": "code",
   "execution_count": null,
   "id": "9cc43524-d14d-40d8-bff4-b50d394785c6",
   "metadata": {},
   "outputs": [],
   "source": []
  },
  {
   "cell_type": "code",
   "execution_count": null,
   "id": "874d4732-dfe0-479f-a45d-6daba6ccb8d6",
   "metadata": {},
   "outputs": [],
   "source": []
  },
  {
   "cell_type": "code",
   "execution_count": null,
   "id": "211e2f8d-0dd6-4564-be30-38a2e4f33a8a",
   "metadata": {},
   "outputs": [],
   "source": []
  },
  {
   "cell_type": "code",
   "execution_count": 4,
   "id": "405fd9bd-a783-4ddb-906e-bdab5fb51b28",
   "metadata": {},
   "outputs": [],
   "source": [
    "import numpy as np"
   ]
  },
  {
   "cell_type": "code",
   "execution_count": 2,
   "id": "42e91d09-7626-4cda-8340-c00eddd9ad19",
   "metadata": {},
   "outputs": [],
   "source": [
    "\n",
    "\n",
    "whole_blood = pd.read_csv('/Users/hannahjacobs/MIT Dropbox/Hannah Jacobs/GradSchool/Finucane/splicing_variation_in_humans_2022/GTEX sQTLs/GTEx_Analysis_v8_sQTL_leafcutter_counts/Whole_Blood_perind_numers.counts.gz',\n",
    "                         low_memory=False,compression='gzip',\n",
    "                          sep=' ', index_col=0)\n",
    "\n"
   ]
  },
  {
   "cell_type": "code",
   "execution_count": 2,
   "id": "a563b427-9601-4e85-9578-861b03000824",
   "metadata": {
    "tags": []
   },
   "outputs": [],
   "source": []
  },
  {
   "cell_type": "code",
   "execution_count": 4,
   "id": "6789e691-0885-4fd8-9c67-1212dcd560d6",
   "metadata": {
    "tags": []
   },
   "outputs": [
    {
     "data": {
      "text/html": [
       "<pre style=\"white-space:pre;overflow-x:auto;line-height:normal;font-family:Menlo,'DejaVu Sans Mono',consolas,'Courier New',monospace\"></pre>\n"
      ],
      "text/plain": [
       "\u001b[?25l"
      ]
     },
     "metadata": {},
     "output_type": "display_data"
    },
    {
     "data": {
      "text/html": [
       "<pre style=\"white-space:pre;overflow-x:auto;line-height:normal;font-family:Menlo,'DejaVu Sans Mono',consolas,'Courier New',monospace\">/opt/anaconda3/envs/running_hail_env/lib/python3.11/site-packages/rich/live.py:229: UserWarning:\n",
       "\n",
       "install \"ipywidgets\" for Jupyter support\n",
       "\n",
       "</pre>\n"
      ],
      "text/plain": [
       "/opt/anaconda3/envs/running_hail_env/lib/python3.11/site-packages/rich/live.py:229: UserWarning:\n",
       "\n",
       "install \"ipywidgets\" for Jupyter support\n",
       "\n"
      ]
     },
     "metadata": {},
     "output_type": "display_data"
    },
    {
     "data": {
      "text/html": [
       "<pre style=\"white-space:pre;overflow-x:auto;line-height:normal;font-family:Menlo,'DejaVu Sans Mono',consolas,'Courier New',monospace\">\n",
       "</pre>\n"
      ],
      "text/plain": [
       "\n",
       "\u001b[?25h"
      ]
     },
     "metadata": {},
     "output_type": "display_data"
    },
    {
     "data": {
      "text/html": [
       "<pre style=\"white-space:pre;overflow-x:auto;line-height:normal;font-family:Menlo,'DejaVu Sans Mono',consolas,'Courier New',monospace\"></pre>\n"
      ],
      "text/plain": [
       "\u001b[?25l"
      ]
     },
     "metadata": {},
     "output_type": "display_data"
    },
    {
     "data": {
      "text/html": [
       "<pre style=\"white-space:pre;overflow-x:auto;line-height:normal;font-family:Menlo,'DejaVu Sans Mono',consolas,'Courier New',monospace\">\n",
       "</pre>\n"
      ],
      "text/plain": [
       "\n",
       "\u001b[?25h"
      ]
     },
     "metadata": {},
     "output_type": "display_data"
    },
    {
     "name": "stdout",
     "output_type": "stream",
     "text": [
      "batch 8225675 complete: success\n"
     ]
    },
    {
     "data": {
      "text/plain": [
       "<hailtop.batch_client.client.Batch at 0x1440c3210>"
      ]
     },
     "execution_count": 4,
     "metadata": {},
     "output_type": "execute_result"
    }
   ],
   "source": [
    "b = hb.Batch(backend=backend, name='emp_bayes_alt_ss')\n",
    "for tissue in gtex_tissue_list:\n",
    "    \n",
    "    \n",
    "    \n",
    "    j = b.new_job(name='run_emp_bayes_'+tissue)\n",
    "    j.memory('10Gi')\n",
    "   \n",
    "    #localizing the files\n",
    "    \n",
    "\n",
    "    \n",
    "    \n",
    "        \n",
    "    input_script = \"/home/run_optimizer_alt_ss.py\"\n",
    "\n",
    "    input_file_tissue = b.read_input(\"gs://sqtl_gtex/exon_exon_counts_gtex/\"+tissue+'_perind_numers.counts.gz')\n",
    "\n",
    "    input_file_to_filter_events = b.read_input(\"gs://sqtl_gtex/files/EF_inputs/alt_ss_for_EF_algorithm.csv.gz\")\n",
    "    \n",
    "    j.image('us-central1-docker.pkg.dev/finucane-splicing-hj/testing/testing_beta_binom:v1')\n",
    "\n",
    "    j.command(f'python3 {input_script} \\\n",
    "                --tissue {tissue} \\\n",
    "                --filter_file {input_file_to_filter_events} \\\n",
    "                --tissue_file {input_file_tissue} \\\n",
    "                --output_file {j.output}')\n",
    "\n",
    "    b.write_output(j.output, 'gs://sqtl_gtex/files/testing/EF_ouputs/alt_ss/optimizer_results/removed_prior/'+tissue+'_alt_ss_EF_5_FPR_5_alphas_betas.csv')\n",
    "\n",
    "b.run() "
   ]
  },
  {
   "cell_type": "code",
   "execution_count": 6,
   "id": "928d7a25-719b-4809-93c9-2363844ad672",
   "metadata": {},
   "outputs": [
    {
     "data": {
      "text/html": [
       "<pre style=\"white-space:pre;overflow-x:auto;line-height:normal;font-family:Menlo,'DejaVu Sans Mono',consolas,'Courier New',monospace\"></pre>\n"
      ],
      "text/plain": [
       "\u001b[?25l"
      ]
     },
     "metadata": {},
     "output_type": "display_data"
    },
    {
     "data": {
      "application/vnd.jupyter.widget-view+json": {
       "model_id": "e37c4c32411242a0b8d080077dd72987",
       "version_major": 2,
       "version_minor": 0
      },
      "text/plain": [
       "Output()"
      ]
     },
     "metadata": {},
     "output_type": "display_data"
    },
    {
     "data": {
      "text/html": [
       "<pre style=\"white-space:pre;overflow-x:auto;line-height:normal;font-family:Menlo,'DejaVu Sans Mono',consolas,'Courier New',monospace\">\n",
       "</pre>\n"
      ],
      "text/plain": [
       "\n",
       "\u001b[?25h"
      ]
     },
     "metadata": {},
     "output_type": "display_data"
    },
    {
     "name": "stdout",
     "output_type": "stream",
     "text": [
      "batch 7689646 complete: success\n"
     ]
    },
    {
     "data": {
      "text/plain": [
       "<hailtop.batch_client.client.Batch at 0x7f7bd92c8310>"
      ]
     },
     "execution_count": 6,
     "metadata": {},
     "output_type": "execute_result"
    }
   ],
   "source": [
    "b = hb.Batch(backend=backend, name='assign_EF_alt_ss')\n",
    "for tissue in gtex_tissue_list:\n",
    "    \n",
    "    j = b.new_job(name='assign_EF_'+tissue)\n",
    "    j.memory('7Gi')\n",
    "   \n",
    "    #localizing the files\n",
    "    \n",
    "    input_script = \"/home/assign_EF.py\"\n",
    "\n",
    "    input_file_tissue = b.read_input(\"gs://sqtl_gtex/files/EF_outputs/alt_ss/optimizer_results/\"+tissue+\"_alt_ss_alphas_betas.csv\")\n",
    "\n",
    "    j.image('gcr.io/finucane-splicing-hj/python-11-image-hj:v1')\n",
    "\n",
    "    j.command(f'python3 {input_script} \\\n",
    "                --tissue_file {input_file_tissue} \\\n",
    "                --output_file {j.output}')\n",
    "\n",
    "    b.write_output(j.output, 'gs://sqtl_gtex/files/EF_outputs/alt_ss/assigned_EFs/'+tissue+'_EFs_alt_ss.csv')\n",
    "\n",
    "b.run() "
   ]
  },
  {
   "cell_type": "code",
   "execution_count": null,
   "id": "db66be2b-97f5-4e4d-aac6-c26524aeb98c",
   "metadata": {},
   "outputs": [],
   "source": [
    "b = hb.Batch(backend=backend, name='concat_EFs')\n",
    "for tissue in gtex_tissue_list:\n",
    "    \n",
    "    j = b.new_job(name='concat_EFs'+tissue)\n",
    "    j.memory('7Gi')\n",
    "   \n",
    "    #localizing the files\n",
    "    \n",
    "\n",
    "    input_file_tissue = b.read_input(\"gs://sqtl_gtex/files/EF_outputs/alt_ss/assigned_EFs/\"+tissue+\"_EFs_alt_ss.csv\")\n",
    "\n",
    "    j.image('gcr.io/finucane-splicing-hj/python-11-image-hj:v1')\n",
    "\n",
    "    j.command(f'python3 dfs = list() \\\n",
    "            for i, f in enumerate{tissue}: \\\n",
    "                data = pd.read_csv({tissue_file}) \\\n",
    "                data=data.assign(tissue={tissue}) \\\n",
    "                dfs.append(data)\n",
    "\n",
    "                df = pd.concat(dfs, ignore_index=True)\n",
    "                \n",
    "                df.to_csv({j.output}')\n",
    "\n",
    "    b.write_output(j.output, 'gs://sqtl_gtex/files/EF_outputs/alt_ss/all_splicing_events.csv.gz')\n",
    "\n"
   ]
  },
  {
   "cell_type": "code",
   "execution_count": 37,
   "id": "3659f91c-2ff1-4f0c-83bb-2e7d172dd685",
   "metadata": {
    "tags": []
   },
   "outputs": [
    {
     "data": {
      "text/html": [
       "<pre style=\"white-space:pre;overflow-x:auto;line-height:normal;font-family:Menlo,'DejaVu Sans Mono',consolas,'Courier New',monospace\"></pre>\n"
      ],
      "text/plain": [
       "\u001b[?25l"
      ]
     },
     "metadata": {},
     "output_type": "display_data"
    },
    {
     "data": {
      "application/vnd.jupyter.widget-view+json": {
       "model_id": "324e9d0a81be4cf4b0cf4e794acee90d",
       "version_major": 2,
       "version_minor": 0
      },
      "text/plain": [
       "Output()"
      ]
     },
     "metadata": {},
     "output_type": "display_data"
    },
    {
     "data": {
      "text/html": [
       "<pre style=\"white-space:pre;overflow-x:auto;line-height:normal;font-family:Menlo,'DejaVu Sans Mono',consolas,'Courier New',monospace\">\n",
       "</pre>\n"
      ],
      "text/plain": [
       "\n",
       "\u001b[?25h"
      ]
     },
     "metadata": {},
     "output_type": "display_data"
    },
    {
     "name": "stdout",
     "output_type": "stream",
     "text": [
      "batch 8101537 complete: success\n"
     ]
    },
    {
     "data": {
      "text/plain": [
       "<hailtop.batch_client.client.Batch at 0x7ff57357d100>"
      ]
     },
     "execution_count": 37,
     "metadata": {},
     "output_type": "execute_result"
    }
   ],
   "source": [
    "b = hb.Batch(backend=backend, name='assign_EF_SE')\n",
    "for tissue in gtex_tissue_list:\n",
    "    \n",
    "    j = b.new_job(name='assign_EF_'+tissue)\n",
    "    j.memory('10Gi')\n",
    "   \n",
    "    #localizing the files\n",
    "    \n",
    "    input_script = \"/home/assign_EF.py\"\n",
    "\n",
    "    input_file_tissue = b.read_input(\"gs://sqtl_gtex/files/EF_outputs/skipped_exons/optimizer_results/\"+tissue+\"_SE_alphas_betas.csv\")\n",
    "\n",
    "    j.image('gcr.io/finucane-splicing-hj/python-11-image-hj:v1')\n",
    "\n",
    "    j.command(f'python3 {input_script} \\\n",
    "                --tissue_file {input_file_tissue} \\\n",
    "                --output_file {j.output}')\n",
    "\n",
    "    b.write_output(j.output, 'gs://sqtl_gtex/files/EF_outputs/skipped_exons/assigned_EFs/'+tissue+'_EFs_SE.csv')\n",
    "\n",
    "b.run() "
   ]
  },
  {
   "cell_type": "markdown",
   "id": "a0723154-bcc5-4178-a60d-d93a824ecf5f",
   "metadata": {
    "jp-MarkdownHeadingCollapsed": true,
    "tags": []
   },
   "source": [
    " 0. test/debug with a single tissue\n"
   ]
  },
  {
   "cell_type": "code",
   "execution_count": null,
   "id": "16575ca9-2d6e-434e-906c-32166e47233b",
   "metadata": {},
   "outputs": [],
   "source": []
  },
  {
   "cell_type": "code",
   "execution_count": 5,
   "id": "3b1e866d-3c83-4a90-919b-bd008149779f",
   "metadata": {
    "tags": []
   },
   "outputs": [
    {
     "data": {
      "text/html": [
       "<pre style=\"white-space:pre;overflow-x:auto;line-height:normal;font-family:Menlo,'DejaVu Sans Mono',consolas,'Courier New',monospace\"></pre>\n"
      ],
      "text/plain": [
       "\u001b[?25l"
      ]
     },
     "metadata": {},
     "output_type": "display_data"
    },
    {
     "data": {
      "application/vnd.jupyter.widget-view+json": {
       "model_id": "d5ad51d4b91042999419b580a4deac13",
       "version_major": 2,
       "version_minor": 0
      },
      "text/plain": [
       "Output()"
      ]
     },
     "metadata": {},
     "output_type": "display_data"
    },
    {
     "data": {
      "text/html": [
       "<pre style=\"white-space:pre;overflow-x:auto;line-height:normal;font-family:Menlo,'DejaVu Sans Mono',consolas,'Courier New',monospace\">\n",
       "</pre>\n"
      ],
      "text/plain": [
       "\n",
       "\u001b[?25h"
      ]
     },
     "metadata": {},
     "output_type": "display_data"
    },
    {
     "name": "stderr",
     "output_type": "stream",
     "text": [
      "\n",
      "KeyboardInterrupt\n",
      "\n"
     ]
    }
   ],
   "source": [
    "b = hb.Batch(backend=backend, name='emp_bayes')\n",
    "for tissue in ['Whole_Blood']:\n",
    "    \n",
    "    \n",
    "    \n",
    "    j = b.new_job(name='run_emp_bayes_'+tissue)\n",
    "    j.memory('7Gi')\n",
    "   \n",
    "    #localizing the files\n",
    "    \n",
    "\n",
    "    \n",
    "    \n",
    "    \n",
    "    \n",
    "    input_script = \"/home/run_EF.py\"\n",
    "\n",
    "    input_file_tissue = b.read_input(\"gs://sqtl_gtex/exon_exon_counts_gtex/\"+tissue+'_perind_numers.counts.gz')\n",
    "\n",
    "    input_file_to_filter_events = b.read_input(\"gs://sqtl_gtex/files/EF_inputs/alt_ss_for_EF_algorithm.csv.gz\")\n",
    "    \n",
    "    j.image('gcr.io/finucane-splicing-hj/python-11-image-hj:v1')\n",
    "\n",
    "    j.command(f'python3 {input_script} \\\n",
    "                --tissue {tissue} \\\n",
    "                --filter_file {input_file_to_filter_events} \\\n",
    "                --tissue_file {input_file_tissue} \\\n",
    "                --lower_bound {5} \\\n",
    "                --FPR {0.05} \\\n",
    "                --output_file {j.output}')\n",
    "\n",
    "    b.write_output(j.output, 'gs://sqtl_gtex/files/EF_outputs/alt_ss/EF_5_percent_FPR_5_percent/'+tissue+'_alt_ss_EF_5_FPR_5_values.csv')\n",
    "\n",
    "b.run() \n",
    "    "
   ]
  },
  {
   "cell_type": "markdown",
   "id": "6d991721-8984-4543-92f3-7156ca2151fc",
   "metadata": {
    "jp-MarkdownHeadingCollapsed": true
   },
   "source": [
    "1. Run across all tissues"
   ]
  },
  {
   "cell_type": "code",
   "execution_count": 7,
   "id": "7e5d6d52-cc47-43cb-8715-eea6c32125fb",
   "metadata": {},
   "outputs": [],
   "source": [
    "data_directory='/Users/hnjacobs/Dropbox (MIT)/GradSchool/Finuance/splicing_variation_in_humans_2022/data/00_data/emp_bayes_input/'\n",
    "\n",
    "\n",
    "alt_splice_sites=pd.read_csv(data_directory+'alt_splice_sites_filtered_for_popPSI.csv.gz', compression='gzip')\n",
    "\n",
    "\n",
    "\n",
    "\n",
    "\n",
    "gtex_tissue_list=list(set(alt_splice_sites.tissue))"
   ]
  },
  {
   "cell_type": "markdown",
   "id": "1c1528c3-806b-4477-8ee5-5e2fd94dfe86",
   "metadata": {},
   "source": [
    "gtex_tissue_list"
   ]
  },
  {
   "cell_type": "code",
   "execution_count": 17,
   "id": "700f1467-6975-4ef7-9443-d3e1776b303b",
   "metadata": {},
   "outputs": [],
   "source": [
    "#psi_directory='/Users/hnjacobs/Dropbox (MIT)/GradSchool/Finuance/GTEx sQTLs/GTEx_Analysis_v8_sQTL_leafcutter_counts/'\n"
   ]
  },
  {
   "cell_type": "code",
   "execution_count": null,
   "id": "a156d022-30ba-40f7-982e-328eda7da4b2",
   "metadata": {},
   "outputs": [],
   "source": []
  },
  {
   "cell_type": "markdown",
   "id": "ebe00824-557a-488c-875a-dc2d9fa38a81",
   "metadata": {},
   "source": [
    "run on all tissues EF 5%\n",
    "-"
   ]
  },
  {
   "cell_type": "code",
   "execution_count": 21,
   "id": "a3bc788a-99e3-4af8-b9db-574c2246ba0d",
   "metadata": {},
   "outputs": [
    {
     "data": {
      "text/html": [
       "<pre style=\"white-space:pre;overflow-x:auto;line-height:normal;font-family:Menlo,'DejaVu Sans Mono',consolas,'Courier New',monospace\">\n",
       "</pre>\n"
      ],
      "text/plain": [
       "\n"
      ]
     },
     "metadata": {},
     "output_type": "display_data"
    },
    {
     "data": {
      "text/html": [
       "<pre style=\"white-space:pre;overflow-x:auto;line-height:normal;font-family:Menlo,'DejaVu Sans Mono',consolas,'Courier New',monospace\">\n",
       "</pre>\n"
      ],
      "text/plain": [
       "\n"
      ]
     },
     "metadata": {},
     "output_type": "display_data"
    },
    {
     "data": {
      "text/html": [
       "<pre style=\"white-space:pre;overflow-x:auto;line-height:normal;font-family:Menlo,'DejaVu Sans Mono',consolas,'Courier New',monospace\">\n",
       "</pre>\n"
      ],
      "text/plain": [
       "\n"
      ]
     },
     "metadata": {},
     "output_type": "display_data"
    },
    {
     "data": {
      "application/vnd.jupyter.widget-view+json": {
       "model_id": "0de266d6025345e38942d72c1e0f8ec2",
       "version_major": 2,
       "version_minor": 0
      },
      "text/plain": [
       "Output()"
      ]
     },
     "metadata": {},
     "output_type": "display_data"
    },
    {
     "data": {
      "text/html": [
       "<pre style=\"white-space:pre;overflow-x:auto;line-height:normal;font-family:Menlo,'DejaVu Sans Mono',consolas,'Courier New',monospace\">A transient error occured. We will automatically retry. Do not be alarmed. We have thus far seen 2 transient errors\n",
       "(current delay: 0.2). The most recent error was &lt;class 'asyncio.exceptions.TimeoutError'&gt; . \n",
       "</pre>\n"
      ],
      "text/plain": [
       "A transient error occured. We will automatically retry. Do not be alarmed. We have thus far seen 2 transient errors\n",
       "(current delay: 0.2). The most recent error was <class 'asyncio.exceptions.TimeoutError'> . \n"
      ]
     },
     "metadata": {},
     "output_type": "display_data"
    },
    {
     "data": {
      "text/html": [
       "<pre style=\"white-space:pre;overflow-x:auto;line-height:normal;font-family:Menlo,'DejaVu Sans Mono',consolas,'Courier New',monospace\"></pre>\n"
      ],
      "text/plain": []
     },
     "metadata": {},
     "output_type": "display_data"
    },
    {
     "data": {
      "text/html": [
       "<pre style=\"white-space:pre;overflow-x:auto;line-height:normal;font-family:Menlo,'DejaVu Sans Mono',consolas,'Courier New',monospace\">\n",
       "</pre>\n"
      ],
      "text/plain": [
       "\n"
      ]
     },
     "metadata": {},
     "output_type": "display_data"
    },
    {
     "name": "stdout",
     "output_type": "stream",
     "text": [
      "batch 7597050 complete: cancelled\n"
     ]
    },
    {
     "data": {
      "text/plain": [
       "<hailtop.batch_client.client.Batch at 0x7fcc12763f40>"
      ]
     },
     "execution_count": 21,
     "metadata": {},
     "output_type": "execute_result"
    }
   ],
   "source": [
    "b = hb.Batch(backend=backend, name='emp_bayes')\n",
    "for tissue in gtex_tissue_list:\n",
    "    \n",
    "    \n",
    "    \n",
    "    j = b.new_job(name='run_emp_bayes_'+tissue)\n",
    "    j.memory('7Gi')\n",
    "   \n",
    "    #localizing the files\n",
    "    \n",
    "\n",
    "    \n",
    "    \n",
    "    \n",
    "    \n",
    "    input_script = \"/home/run_EF.py\"\n",
    "\n",
    "    input_file_tissue = b.read_input(\"gs://sqtl_gtex/exon_exon_counts_gtex/\"+tissue+'_perind_numers.counts.gz')\n",
    "\n",
    "    input_file_to_filter_events = b.read_input(\"gs://sqtl_gtex/files/EF_inputs/alt_ss_for_EF_algorithm.csv.gz\")\n",
    "    \n",
    "    j.image('gcr.io/finucane-splicing-hj/python-11-image-hj:v1')\n",
    "\n",
    "    j.command(f'python3 {input_script} \\\n",
    "                --tissue {tissue} \\\n",
    "                --filter_file {input_file_to_filter_events} \\\n",
    "                --tissue_file {input_file_tissue} \\\n",
    "                --lower_bound {0.05} \\\n",
    "                --FPR {0.05} \\\n",
    "                --output_file {j.output}')\n",
    "\n",
    "    b.write_output(j.output, 'gs://sqtl_gtex/files/EF_outputs/alt_ss/EF_5_percent_FPR_5_percent/'+tissue+'_alt_ss_EF_5_FPR_5_values.csv')\n",
    "\n",
    "b.run() \n",
    "    "
   ]
  },
  {
   "cell_type": "code",
   "execution_count": 8,
   "id": "c0165b5d-739c-47d6-84b3-9e55ec914b7d",
   "metadata": {},
   "outputs": [
    {
     "data": {
      "text/html": [
       "<pre style=\"white-space:pre;overflow-x:auto;line-height:normal;font-family:Menlo,'DejaVu Sans Mono',consolas,'Courier New',monospace\">\n",
       "</pre>\n"
      ],
      "text/plain": [
       "\n"
      ]
     },
     "metadata": {},
     "output_type": "display_data"
    },
    {
     "data": {
      "text/html": [
       "<pre style=\"white-space:pre;overflow-x:auto;line-height:normal;font-family:Menlo,'DejaVu Sans Mono',consolas,'Courier New',monospace\">\n",
       "</pre>\n"
      ],
      "text/plain": [
       "\n"
      ]
     },
     "metadata": {},
     "output_type": "display_data"
    },
    {
     "data": {
      "text/html": [
       "<pre style=\"white-space:pre;overflow-x:auto;line-height:normal;font-family:Menlo,'DejaVu Sans Mono',consolas,'Courier New',monospace\">\n",
       "</pre>\n"
      ],
      "text/plain": [
       "\n"
      ]
     },
     "metadata": {},
     "output_type": "display_data"
    },
    {
     "data": {
      "application/vnd.jupyter.widget-view+json": {
       "model_id": "e1130467ab924817a244e1a619a17a82",
       "version_major": 2,
       "version_minor": 0
      },
      "text/plain": [
       "Output()"
      ]
     },
     "metadata": {},
     "output_type": "display_data"
    },
    {
     "data": {
      "text/html": [
       "<pre style=\"white-space:pre;overflow-x:auto;line-height:normal;font-family:Menlo,'DejaVu Sans Mono',consolas,'Courier New',monospace\"></pre>\n"
      ],
      "text/plain": []
     },
     "metadata": {},
     "output_type": "display_data"
    },
    {
     "data": {
      "text/html": [
       "<pre style=\"white-space:pre;overflow-x:auto;line-height:normal;font-family:Menlo,'DejaVu Sans Mono',consolas,'Courier New',monospace\">\n",
       "</pre>\n"
      ],
      "text/plain": [
       "\n"
      ]
     },
     "metadata": {},
     "output_type": "display_data"
    },
    {
     "name": "stdout",
     "output_type": "stream",
     "text": [
      "batch 7624031 complete: cancelled\n"
     ]
    },
    {
     "data": {
      "text/plain": [
       "<hailtop.batch_client.client.Batch at 0x7fa42560bfd0>"
      ]
     },
     "execution_count": 8,
     "metadata": {},
     "output_type": "execute_result"
    }
   ],
   "source": [
    "b = hb.Batch(backend=backend, name='emp_bayes')\n",
    "for tissue in gtex_tissue_list:\n",
    "    \n",
    "    \n",
    "    \n",
    "    j = b.new_job(name='run_emp_bayes_'+tissue)\n",
    "    j.memory('7Gi')\n",
    "   \n",
    "    #localizing the files\n",
    "    \n",
    "\n",
    "    \n",
    "    \n",
    "    \n",
    "    \n",
    "    input_script = \"/home/run_EF.py\"\n",
    "\n",
    "    input_file_tissue = b.read_input(\"gs://sqtl_gtex/exon_exon_counts_gtex/\"+tissue+'_perind_numers.counts.gz')\n",
    "\n",
    "    input_file_to_filter_events = b.read_input(\"gs://sqtl_gtex/files/EF_inputs/alt_ss_for_EF_algorithm.csv.gz\")\n",
    "    \n",
    "    j.image('gcr.io/finucane-splicing-hj/python-11-image-hj:v1')\n",
    "\n",
    "    j.command(f'python3 {input_script} \\\n",
    "                --tissue {tissue} \\\n",
    "                --filter_file {input_file_to_filter_events} \\\n",
    "                --tissue_file {input_file_tissue} \\\n",
    "                --lower_bound {0.20} \\\n",
    "                --FPR {0.05} \\\n",
    "                --output_file {j.output}')\n",
    "\n",
    "    b.write_output(j.output, 'gs://sqtl_gtex/files/EF_outputs/alt_ss/EF_20_percent/'+tissue+'_alt_ss_EF_20_FPR_5_values.csv')\n",
    "\n",
    "b.run() \n",
    "    "
   ]
  },
  {
   "cell_type": "code",
   "execution_count": null,
   "id": "8680a32c-4298-490d-9cfb-df2114fde221",
   "metadata": {},
   "outputs": [],
   "source": [
    "python3 run_EF.py \\\n",
    "                --tissue 'Adipose_Subcutaneous' \\\n",
    "                --tissue_file '/Users/hnjacobs/Dropbox (MIT)/GradSchool/Finuance/GTEX sQTLs/GTEx_Analysis_v8_sQTL_leafcutter_counts/Adipose_Subcutaneous_perind_numers.counts.gz' \\\n",
    "                --filter_file '/Users/hnjacobs/Dropbox (MIT)//GradSchool/Finuance/splicing_variation_in_humans_2022/data/alt_splice_sites_filtered_for_popPSI.csv.gz' \\\n",
    "                --output_file Adipose_output.csv.gz\n",
    "    \n",
    "    "
   ]
  },
  {
   "cell_type": "code",
   "execution_count": 8,
   "id": "1e3b5935-8969-465e-a4ff-7546f414cbf0",
   "metadata": {},
   "outputs": [],
   "source": [
    "\n"
   ]
  },
  {
   "cell_type": "code",
   "execution_count": null,
   "id": "934d5610-396f-4e17-beee-2cf0f2d57689",
   "metadata": {},
   "outputs": [],
   "source": [
    "b = (backend=backend, name='emp_bayes')\n",
    "for tissue in ['Adipose_Subcutaneous']:\n",
    "    \n",
    "    \n",
    "    \n",
    "    j = b.new_job(name='run_emp_bayes_'+tissue)\n",
    "    j.memory('7Gi')\n",
    "   \n",
    "    #localizing the files\n",
    "    \n",
    "\n",
    "    \n",
    "    \n",
    "    \n",
    "    \n",
    "    input_script = \"/home/run_EF.py\"\n",
    "\n",
    "    input_file_tissue = b.read_input(\"gs://sqtl_gtex/exon_exon_counts_gtex/\"+tissue+'_perind_numers.counts.gz')\n",
    "\n",
    "    input_file_to_filter_events = b.read_input(\"gs://sqtl_gtex/files/EF_inputs/alt_splice_sites_filtered_for_popPSI.csv.gz\")\n",
    "\n",
    "    j.image('gcr.io/finucane-splicing-hj/python-11-image-hj:v1')\n",
    "\n",
    "    j.command(f'python3 {input_script} \\\n",
    "                --tissue {tissue} \\\n",
    "                --filter_file {input_file_to_filter_events} \\\n",
    "                --tissue_file {input_file_tissue} \\\n",
    "                --output_file {j.output}')\n",
    "\n",
    "    b.write_output(j.output, 'gs://sqtl_gtex/files/EF_outputs/'+tissue+'_EF_values.csv')\n",
    "\n",
    "b.run() \n",
    "    "
   ]
  },
  {
   "cell_type": "code",
   "execution_count": null,
   "id": "0cbebedd-d84a-4852-a5ba-190be8334697",
   "metadata": {},
   "outputs": [],
   "source": []
  },
  {
   "cell_type": "code",
   "execution_count": null,
   "id": "184ae801-1153-4289-a486-cb01a1c645ed",
   "metadata": {},
   "outputs": [],
   "source": []
  },
  {
   "cell_type": "code",
   "execution_count": null,
   "id": "2dafee02-2674-454e-b30c-c15e480a3f92",
   "metadata": {},
   "outputs": [],
   "source": []
  }
 ],
 "metadata": {
  "kernelspec": {
   "display_name": "Python 3 (ipykernel)",
   "language": "python",
   "name": "python3"
  },
  "language_info": {
   "codemirror_mode": {
    "name": "ipython",
    "version": 3
   },
   "file_extension": ".py",
   "mimetype": "text/x-python",
   "name": "python",
   "nbconvert_exporter": "python",
   "pygments_lexer": "ipython3",
   "version": "3.11.10"
  }
 },
 "nbformat": 4,
 "nbformat_minor": 5
}
