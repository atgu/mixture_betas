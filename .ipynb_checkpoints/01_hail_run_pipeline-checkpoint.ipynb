{
 "cells": [
  {
   "cell_type": "code",
   "execution_count": 24,
   "id": "498b8690-24c5-458b-b09d-bd5c70ad442b",
   "metadata": {
    "scrolled": true,
    "tags": []
   },
   "outputs": [],
   "source": [
    "import hail\n",
    "\n",
    "import hailtop.batch as hb\n",
    "\n",
    "backend = hb.ServiceBackend(billing_project = 'finucane-splicing-hj',\n",
    "                            remote_tmpdir = 'gs://sqtl_gtex')\n",
    "\n",
    "import pandas as pd"
   ]
  },
  {
   "cell_type": "code",
   "execution_count": null,
   "id": "a87e2f51-37b6-4ac7-945e-ee18d3545764",
   "metadata": {},
   "outputs": [],
   "source": []
  },
  {
   "cell_type": "markdown",
   "id": "1429ec03-17ae-41d4-99ae-a2317ea9498c",
   "metadata": {
    "tags": []
   },
   "source": [
    "Explaination of script last updates 2 17 2025\n",
    "--\n",
    "This script creates a hail batch object that is able to send a job to a hail cluster. \n",
    "\n",
    "The jobs that we will be sending is the empirical bayes pipeline. \n",
    "\n",
    "\n",
    "\n"
   ]
  },
  {
   "cell_type": "code",
   "execution_count": 25,
   "id": "0204836d-94a7-4737-bd25-6be03e41840d",
   "metadata": {
    "tags": []
   },
   "outputs": [],
   "source": [
    "data_directory='/Users/hannahjacobs/Dropbox (MIT)/GradSchool/Finucane/splicing_variation_in_humans_2022/data/00_data/emp_bayes_input/'\n",
    "\n",
    "\n",
    "alt_splice_sites=pd.read_csv(data_directory+'alt_splice_sites_filtered_for_popPSI.csv.gz', compression='gzip')\n",
    "\n",
    "\n",
    "\n",
    "\n",
    "\n",
    "gtex_tissue_list=list(set(alt_splice_sites.tissue))"
   ]
  },
  {
   "cell_type": "markdown",
   "id": "d79360ad-e3cb-4b97-acf6-63cd88a3e8ea",
   "metadata": {
    "jp-MarkdownHeadingCollapsed": true
   },
   "source": [
    "run on simulations\n",
    "--"
   ]
  },
  {
   "cell_type": "code",
   "execution_count": null,
   "id": "ffaaa806-2639-4e30-b5e9-b8bc64d4b97e",
   "metadata": {},
   "outputs": [],
   "source": []
  },
  {
   "cell_type": "code",
   "execution_count": 2,
   "id": "3645fa2f-d525-4a4e-8c22-f2540a1b2f99",
   "metadata": {
    "scrolled": true
   },
   "outputs": [
    {
     "data": {
      "text/html": [
       "<pre style=\"white-space:pre;overflow-x:auto;line-height:normal;font-family:Menlo,'DejaVu Sans Mono',consolas,'Courier New',monospace\"></pre>\n"
      ],
      "text/plain": [
       "\u001b[?25l"
      ]
     },
     "metadata": {},
     "output_type": "display_data"
    },
    {
     "data": {
      "application/vnd.jupyter.widget-view+json": {
       "model_id": "3f937ec93572477a83c1c3219066675c",
       "version_major": 2,
       "version_minor": 0
      },
      "text/plain": [
       "Output()"
      ]
     },
     "metadata": {},
     "output_type": "display_data"
    },
    {
     "data": {
      "text/html": [
       "<pre style=\"white-space:pre;overflow-x:auto;line-height:normal;font-family:Menlo,'DejaVu Sans Mono',consolas,'Courier New',monospace\">\n",
       "</pre>\n"
      ],
      "text/plain": [
       "\n",
       "\u001b[?25h"
      ]
     },
     "metadata": {},
     "output_type": "display_data"
    },
    {
     "data": {
      "text/html": [
       "<pre style=\"white-space:pre;overflow-x:auto;line-height:normal;font-family:Menlo,'DejaVu Sans Mono',consolas,'Courier New',monospace\"></pre>\n"
      ],
      "text/plain": [
       "\u001b[?25l"
      ]
     },
     "metadata": {},
     "output_type": "display_data"
    },
    {
     "data": {
      "application/vnd.jupyter.widget-view+json": {
       "model_id": "f5be8c39040c4f06a15862914d0061d2",
       "version_major": 2,
       "version_minor": 0
      },
      "text/plain": [
       "Output()"
      ]
     },
     "metadata": {},
     "output_type": "display_data"
    },
    {
     "data": {
      "text/html": [
       "<pre style=\"white-space:pre;overflow-x:auto;line-height:normal;font-family:Menlo,'DejaVu Sans Mono',consolas,'Courier New',monospace\">\r",
       "\u001b[2K\n",
       "KeyboardInterrupt\n",
       "<a href=\"https://batch.hail.is/batches/8241673\" target=\"_blank\">8241673</a> <span style=\"color: #729c1f; text-decoration-color: #729c1f\">━━━━━╸</span><span style=\"color: #3a3a3a; text-decoration-color: #3a3a3a\">━━━━━━━━━━━━━━━━━━━━━━━━━━━━━━━━━━</span> <span style=\"color: #800080; text-decoration-color: #800080\"> 15%</span> <span style=\"color: #008000; text-decoration-color: #008000\"> 68/468</span> <span style=\"color: #008080; text-decoration-color: #008080\">0:03:22</span> <span style=\"color: #808000; text-decoration-color: #808000\">0:05:11</span></pre>\n"
      ],
      "text/plain": [
       "\r",
       "\u001b[2K\n",
       "KeyboardInterrupt\n",
       "\u001b]8;id=306908;https://batch.hail.is/batches/8241673\u001b\\8241673\u001b]8;;\u001b\\ \u001b[38;2;114;156;31m━━━━━\u001b[0m\u001b[38;2;114;156;31m╸\u001b[0m\u001b[38;5;237m━━━━━━━━━━━━━━━━━━━━━━━━━━━━━━━━━━\u001b[0m \u001b[35m 15%\u001b[0m \u001b[32m 68/468\u001b[0m \u001b[36m0:03:22\u001b[0m \u001b[33m0:05:11\u001b[0m"
      ]
     },
     "metadata": {},
     "output_type": "display_data"
    },
    {
     "data": {
      "text/html": [
       "<pre style=\"white-space:pre;overflow-x:auto;line-height:normal;font-family:Menlo,'DejaVu Sans Mono',consolas,'Courier New',monospace\">\r",
       "\u001b[2K\n",
       "<a href=\"https://batch.hail.is/batches/8241673\" target=\"_blank\">8241673</a> <span style=\"color: #729c1f; text-decoration-color: #729c1f\">━━━━━╸</span><span style=\"color: #3a3a3a; text-decoration-color: #3a3a3a\">━━━━━━━━━━━━━━━━━━━━━━━━━━━━━━━━━━</span> <span style=\"color: #800080; text-decoration-color: #800080\"> 15%</span> <span style=\"color: #008000; text-decoration-color: #008000\"> 68/468</span> <span style=\"color: #008080; text-decoration-color: #008080\">0:03:22</span> <span style=\"color: #808000; text-decoration-color: #808000\">0:05:11</span></pre>\n"
      ],
      "text/plain": [
       "\r",
       "\u001b[2K\n",
       "\u001b]8;id=532779;https://batch.hail.is/batches/8241673\u001b\\8241673\u001b]8;;\u001b\\ \u001b[38;2;114;156;31m━━━━━\u001b[0m\u001b[38;2;114;156;31m╸\u001b[0m\u001b[38;5;237m━━━━━━━━━━━━━━━━━━━━━━━━━━━━━━━━━━\u001b[0m \u001b[35m 15%\u001b[0m \u001b[32m 68/468\u001b[0m \u001b[36m0:03:22\u001b[0m \u001b[33m0:05:11\u001b[0m"
      ]
     },
     "metadata": {},
     "output_type": "display_data"
    }
   ],
   "source": [
    "b = hb.Batch(backend=backend, name='emp_bayes')\n",
    "num_jobs = 25 #samples every 100 index\n",
    "\n",
    "\n",
    "\n",
    "#scale to all lists of simulations\n",
    "simulation_type=['single_1',\n",
    "                'single_2',\n",
    "                'double_1','double_2',\n",
    "                 'triple_1', 'triple_2']\n",
    "data_amt=['low', 'mid', 'high']\n",
    "i=0\n",
    "k=0\n",
    "for i in range(len(simulation_type)):\n",
    "\n",
    "    for k in range(len(data_amt)):\n",
    "        l = b.new_job(name='all_data_ammounts')\n",
    "        l.memory('20Gi')\n",
    "        l.image('us-central1-docker.pkg.dev/finucane-splicing-hj/testing/testing_beta_binom:v4')\n",
    "        tissue='test_tissue'\n",
    "    #localizing the files\n",
    "        input_script = \"/home/run_optimizer_alt_ss_w_mixed_effects.py\"    \n",
    "        \n",
    "        input_file_tissue = b.read_input(\"gs://sqtl_gtex/files/testing/mixture_testing/inputs_simulations/\"+data_amt[k]+\"_NVE_\"+simulation_type[i]+\"_counts.csv.gz\")\n",
    "        \n",
    "        input_file_to_filter_events = b.read_input(\"gs://sqtl_gtex/files/testing/mixture_testing/inputs_simulations/filtering_exons_in_test_sample.csv.gz\")\n",
    "            \n",
    "        \n",
    "        for job_index in range(num_jobs):\n",
    "            \n",
    "            j = b.new_job(name='run_emp_bayes_test_')\n",
    "            j.memory('20Gi')\n",
    "            j.image('us-central1-docker.pkg.dev/finucane-splicing-hj/testing/testing_beta_binom:v4')\n",
    "        \n",
    "            j.command(f'python3 {input_script} \\\n",
    "                            --tissue {tissue} \\\n",
    "                                --filter_file {input_file_to_filter_events} \\\n",
    "                                --tissue_file {input_file_tissue} \\\n",
    "                                --output_file {j.output} \\\n",
    "                                --num_jobs {num_jobs} \\\n",
    "                                --job_index {job_index}')\n",
    "        \n",
    "            b.write_output(j.output, f'gs://sqtl_gtex/files/testing/mixture_testing/outputs_simulations_new_pipeline/{data_amt[k]}_{simulation_type[i]}_EF_FPR_5_alphas_betas-{job_index}.csv')\n",
    "        \n",
    "            \n",
    "b.run()\n",
    "\n",
    "\n",
    "\n",
    "    "
   ]
  },
  {
   "cell_type": "code",
   "execution_count": 22,
   "id": "f112c53f-ea59-4b93-9c7d-8561be376091",
   "metadata": {},
   "outputs": [
    {
     "name": "stdout",
     "output_type": "stream",
     "text": [
      "[__RESOURCE_FILE__1345, __RESOURCE_FILE__1346, __RESOURCE_FILE__1347, __RESOURCE_FILE__1348, __RESOURCE_FILE__1349, __RESOURCE_FILE__1350, __RESOURCE_FILE__1351, __RESOURCE_FILE__1352, __RESOURCE_FILE__1353, __RESOURCE_FILE__1354]\n",
      "[__RESOURCE_FILE__1397, __RESOURCE_FILE__1398, __RESOURCE_FILE__1399, __RESOURCE_FILE__1400, __RESOURCE_FILE__1401, __RESOURCE_FILE__1402, __RESOURCE_FILE__1403, __RESOURCE_FILE__1404, __RESOURCE_FILE__1405, __RESOURCE_FILE__1406]\n",
      "[__RESOURCE_FILE__1449, __RESOURCE_FILE__1450, __RESOURCE_FILE__1451, __RESOURCE_FILE__1452, __RESOURCE_FILE__1453, __RESOURCE_FILE__1454, __RESOURCE_FILE__1455, __RESOURCE_FILE__1456, __RESOURCE_FILE__1457, __RESOURCE_FILE__1458]\n",
      "[__RESOURCE_FILE__1501, __RESOURCE_FILE__1502, __RESOURCE_FILE__1503, __RESOURCE_FILE__1504, __RESOURCE_FILE__1505, __RESOURCE_FILE__1506, __RESOURCE_FILE__1507, __RESOURCE_FILE__1508, __RESOURCE_FILE__1509, __RESOURCE_FILE__1510]\n",
      "[__RESOURCE_FILE__1553, __RESOURCE_FILE__1554, __RESOURCE_FILE__1555, __RESOURCE_FILE__1556, __RESOURCE_FILE__1557, __RESOURCE_FILE__1558, __RESOURCE_FILE__1559, __RESOURCE_FILE__1560, __RESOURCE_FILE__1561, __RESOURCE_FILE__1562]\n",
      "[__RESOURCE_FILE__1605, __RESOURCE_FILE__1606, __RESOURCE_FILE__1607, __RESOURCE_FILE__1608, __RESOURCE_FILE__1609, __RESOURCE_FILE__1610, __RESOURCE_FILE__1611, __RESOURCE_FILE__1612, __RESOURCE_FILE__1613, __RESOURCE_FILE__1614]\n",
      "[__RESOURCE_FILE__1657, __RESOURCE_FILE__1658, __RESOURCE_FILE__1659, __RESOURCE_FILE__1660, __RESOURCE_FILE__1661, __RESOURCE_FILE__1662, __RESOURCE_FILE__1663, __RESOURCE_FILE__1664, __RESOURCE_FILE__1665, __RESOURCE_FILE__1666]\n",
      "[__RESOURCE_FILE__1709, __RESOURCE_FILE__1710, __RESOURCE_FILE__1711, __RESOURCE_FILE__1712, __RESOURCE_FILE__1713, __RESOURCE_FILE__1714, __RESOURCE_FILE__1715, __RESOURCE_FILE__1716, __RESOURCE_FILE__1717, __RESOURCE_FILE__1718]\n",
      "[__RESOURCE_FILE__1761, __RESOURCE_FILE__1762, __RESOURCE_FILE__1763, __RESOURCE_FILE__1764, __RESOURCE_FILE__1765, __RESOURCE_FILE__1766, __RESOURCE_FILE__1767, __RESOURCE_FILE__1768, __RESOURCE_FILE__1769, __RESOURCE_FILE__1770]\n",
      "[__RESOURCE_FILE__1813, __RESOURCE_FILE__1814, __RESOURCE_FILE__1815, __RESOURCE_FILE__1816, __RESOURCE_FILE__1817, __RESOURCE_FILE__1818, __RESOURCE_FILE__1819, __RESOURCE_FILE__1820, __RESOURCE_FILE__1821, __RESOURCE_FILE__1822]\n",
      "[__RESOURCE_FILE__1865, __RESOURCE_FILE__1866, __RESOURCE_FILE__1867, __RESOURCE_FILE__1868, __RESOURCE_FILE__1869, __RESOURCE_FILE__1870, __RESOURCE_FILE__1871, __RESOURCE_FILE__1872, __RESOURCE_FILE__1873, __RESOURCE_FILE__1874]\n",
      "[__RESOURCE_FILE__1917, __RESOURCE_FILE__1918, __RESOURCE_FILE__1919, __RESOURCE_FILE__1920, __RESOURCE_FILE__1921, __RESOURCE_FILE__1922, __RESOURCE_FILE__1923, __RESOURCE_FILE__1924, __RESOURCE_FILE__1925, __RESOURCE_FILE__1926]\n",
      "[__RESOURCE_FILE__1969, __RESOURCE_FILE__1970, __RESOURCE_FILE__1971, __RESOURCE_FILE__1972, __RESOURCE_FILE__1973, __RESOURCE_FILE__1974, __RESOURCE_FILE__1975, __RESOURCE_FILE__1976, __RESOURCE_FILE__1977, __RESOURCE_FILE__1978]\n",
      "[__RESOURCE_FILE__2021, __RESOURCE_FILE__2022, __RESOURCE_FILE__2023, __RESOURCE_FILE__2024, __RESOURCE_FILE__2025, __RESOURCE_FILE__2026, __RESOURCE_FILE__2027, __RESOURCE_FILE__2028, __RESOURCE_FILE__2029, __RESOURCE_FILE__2030]\n",
      "[__RESOURCE_FILE__2073, __RESOURCE_FILE__2074, __RESOURCE_FILE__2075, __RESOURCE_FILE__2076, __RESOURCE_FILE__2077, __RESOURCE_FILE__2078, __RESOURCE_FILE__2079, __RESOURCE_FILE__2080, __RESOURCE_FILE__2081, __RESOURCE_FILE__2082]\n",
      "[__RESOURCE_FILE__2125, __RESOURCE_FILE__2126, __RESOURCE_FILE__2127, __RESOURCE_FILE__2128, __RESOURCE_FILE__2129, __RESOURCE_FILE__2130, __RESOURCE_FILE__2131, __RESOURCE_FILE__2132, __RESOURCE_FILE__2133, __RESOURCE_FILE__2134]\n",
      "[__RESOURCE_FILE__2177, __RESOURCE_FILE__2178, __RESOURCE_FILE__2179, __RESOURCE_FILE__2180, __RESOURCE_FILE__2181, __RESOURCE_FILE__2182, __RESOURCE_FILE__2183, __RESOURCE_FILE__2184, __RESOURCE_FILE__2185, __RESOURCE_FILE__2186]\n",
      "[__RESOURCE_FILE__2229, __RESOURCE_FILE__2230, __RESOURCE_FILE__2231, __RESOURCE_FILE__2232, __RESOURCE_FILE__2233, __RESOURCE_FILE__2234, __RESOURCE_FILE__2235, __RESOURCE_FILE__2236, __RESOURCE_FILE__2237, __RESOURCE_FILE__2238]\n"
     ]
    },
    {
     "data": {
      "text/html": [
       "<pre style=\"white-space:pre;overflow-x:auto;line-height:normal;font-family:Menlo,'DejaVu Sans Mono',consolas,'Courier New',monospace\"></pre>\n"
      ],
      "text/plain": [
       "\u001b[?25l"
      ]
     },
     "metadata": {},
     "output_type": "display_data"
    },
    {
     "data": {
      "application/vnd.jupyter.widget-view+json": {
       "model_id": "2ce804ed6c2141a9ba696b145a5e5191",
       "version_major": 2,
       "version_minor": 0
      },
      "text/plain": [
       "Output()"
      ]
     },
     "metadata": {},
     "output_type": "display_data"
    },
    {
     "data": {
      "text/html": [
       "<pre style=\"white-space:pre;overflow-x:auto;line-height:normal;font-family:Menlo,'DejaVu Sans Mono',consolas,'Courier New',monospace\">\n",
       "</pre>\n"
      ],
      "text/plain": [
       "\n",
       "\u001b[?25h"
      ]
     },
     "metadata": {},
     "output_type": "display_data"
    },
    {
     "data": {
      "text/html": [
       "<pre style=\"white-space:pre;overflow-x:auto;line-height:normal;font-family:Menlo,'DejaVu Sans Mono',consolas,'Courier New',monospace\"></pre>\n"
      ],
      "text/plain": [
       "\u001b[?25l"
      ]
     },
     "metadata": {},
     "output_type": "display_data"
    },
    {
     "data": {
      "application/vnd.jupyter.widget-view+json": {
       "model_id": "1bab0b00e3934205b1621bbd71940f5f",
       "version_major": 2,
       "version_minor": 0
      },
      "text/plain": [
       "Output()"
      ]
     },
     "metadata": {},
     "output_type": "display_data"
    },
    {
     "data": {
      "text/html": [
       "<pre style=\"white-space:pre;overflow-x:auto;line-height:normal;font-family:Menlo,'DejaVu Sans Mono',consolas,'Courier New',monospace\">\n",
       "</pre>\n"
      ],
      "text/plain": [
       "\n",
       "\u001b[?25h"
      ]
     },
     "metadata": {},
     "output_type": "display_data"
    },
    {
     "name": "stdout",
     "output_type": "stream",
     "text": [
      "batch 8241677 complete: success\n"
     ]
    },
    {
     "data": {
      "text/plain": [
       "<hailtop.batch_client.client.Batch at 0x1400f1d10>"
      ]
     },
     "execution_count": 22,
     "metadata": {},
     "output_type": "execute_result"
    }
   ],
   "source": [
    "b = hb.Batch(backend=backend, name='emp_bayes')\n",
    "directory='gs://sqtl_gtex/files/testing/mixture_testing/outputs_simulations_new_pipeline/'\n",
    "\n",
    "j = b.new_job(name='run_emp_bayes_test_')\n",
    "j.memory('20Gi')\n",
    "j.image('us-central1-docker.pkg.dev/finucane-splicing-hj/testing/testing_beta_binom:v4')\n",
    "for i in range(len(simulation_type)):\n",
    "    for k in range(len(data_amt)):\n",
    "        files_given_sim=[]\n",
    "        \n",
    "        for job_index in range(num_jobs):\n",
    "    \n",
    "            file=data_amt[k]+'_'+simulation_type[i]+'_EF_FPR_5_alphas_betas-'+str(job_index)+'.csv'\n",
    "            \n",
    "            o_file=b.read_input(directory+file)\n",
    "\n",
    "            files_given_sim.append(o_file)\n",
    "            new_file_name=data_amt[k]+'_'+simulation_type[i]+'_EF_FPR_5_alphas_betas.csv'\n",
    "        print(files_given_sim[0:10])\n",
    "        ofile = hb.concatenate(b, files_given_sim, branching_factor=2)\n",
    "        b.write_output(ofile, f'gs://sqtl_gtex/files/testing/mixture_testing/outputs_simulations_new_pipeline/all_{new_file_name}') \n",
    "b.run()"
   ]
  },
  {
   "cell_type": "code",
   "execution_count": null,
   "id": "0ac0826c-b418-4767-a40f-358486c107e1",
   "metadata": {},
   "outputs": [],
   "source": []
  },
  {
   "cell_type": "markdown",
   "id": "b53eaa38-bf13-445d-a179-6a3cfa74453d",
   "metadata": {},
   "source": [
    "# run new pipeline on all tissues\n",
    "\n",
    "\n"
   ]
  },
  {
   "cell_type": "markdown",
   "id": "4bac7a60-2a2f-4c7b-8b87-f20fe38013cb",
   "metadata": {
    "jp-MarkdownHeadingCollapsed": true
   },
   "source": [
    "alt ss\n",
    "--"
   ]
  },
  {
   "cell_type": "code",
   "execution_count": 4,
   "id": "fb61b8d4-ac5c-4825-987b-b0d3eaad38d5",
   "metadata": {},
   "outputs": [],
   "source": [
    "data_directory='/Users/hannahjacobs/Dropbox (MIT)/GradSchool/Finucane/splicing_variation_in_humans_2022/data/00_data/emp_bayes_input/'\n",
    "\n",
    "\n",
    "alt_splice_sites=pd.read_csv(data_directory+'alt_splice_sites_filtered_for_popPSI.csv.gz', compression='gzip')\n",
    "\n",
    "\n",
    "\n",
    "\n",
    "\n",
    "gtex_tissue_list=list(set(alt_splice_sites.tissue))"
   ]
  },
  {
   "cell_type": "code",
   "execution_count": null,
   "id": "93b2e5a1-4517-4180-b520-7fb67f4a570a",
   "metadata": {},
   "outputs": [
    {
     "data": {
      "text/html": [
       "<pre style=\"white-space:pre;overflow-x:auto;line-height:normal;font-family:Menlo,'DejaVu Sans Mono',consolas,'Courier New',monospace\"></pre>\n"
      ],
      "text/plain": [
       "\u001b[?25l"
      ]
     },
     "metadata": {},
     "output_type": "display_data"
    },
    {
     "data": {
      "application/vnd.jupyter.widget-view+json": {
       "model_id": "6fa36442dbb84359b10bfb9befb175b5",
       "version_major": 2,
       "version_minor": 0
      },
      "text/plain": [
       "Output()"
      ]
     },
     "metadata": {},
     "output_type": "display_data"
    },
    {
     "data": {
      "text/html": [
       "<pre style=\"white-space:pre;overflow-x:auto;line-height:normal;font-family:Menlo,'DejaVu Sans Mono',consolas,'Courier New',monospace\">\n",
       "</pre>\n"
      ],
      "text/plain": [
       "\n",
       "\u001b[?25h"
      ]
     },
     "metadata": {},
     "output_type": "display_data"
    },
    {
     "data": {
      "text/html": [
       "<pre style=\"white-space:pre;overflow-x:auto;line-height:normal;font-family:Menlo,'DejaVu Sans Mono',consolas,'Courier New',monospace\"></pre>\n"
      ],
      "text/plain": [
       "\u001b[?25l"
      ]
     },
     "metadata": {},
     "output_type": "display_data"
    },
    {
     "data": {
      "application/vnd.jupyter.widget-view+json": {
       "model_id": "84cfd7265f4e469ea3b5c1912808ac14",
       "version_major": 2,
       "version_minor": 0
      },
      "text/plain": [
       "Output()"
      ]
     },
     "metadata": {},
     "output_type": "display_data"
    },
    {
     "data": {
      "text/html": [
       "<pre style=\"white-space:pre;overflow-x:auto;line-height:normal;font-family:Menlo,'DejaVu Sans Mono',consolas,'Courier New',monospace\">\n",
       "</pre>\n"
      ],
      "text/plain": [
       "\n",
       "\u001b[?25h"
      ]
     },
     "metadata": {},
     "output_type": "display_data"
    },
    {
     "data": {
      "text/html": [
       "<pre style=\"white-space:pre;overflow-x:auto;line-height:normal;font-family:Menlo,'DejaVu Sans Mono',consolas,'Courier New',monospace\"></pre>\n"
      ],
      "text/plain": [
       "\u001b[?25l"
      ]
     },
     "metadata": {},
     "output_type": "display_data"
    },
    {
     "data": {
      "application/vnd.jupyter.widget-view+json": {
       "model_id": "e30e361c16414df690db936e297c38ad",
       "version_major": 2,
       "version_minor": 0
      },
      "text/plain": [
       "Output()"
      ]
     },
     "metadata": {},
     "output_type": "display_data"
    },
    {
     "data": {
      "text/html": [
       "<pre style=\"white-space:pre;overflow-x:auto;line-height:normal;font-family:Menlo,'DejaVu Sans Mono',consolas,'Courier New',monospace\">\n",
       "</pre>\n"
      ],
      "text/plain": [
       "\n",
       "\u001b[?25h"
      ]
     },
     "metadata": {},
     "output_type": "display_data"
    },
    {
     "data": {
      "text/html": [
       "<pre style=\"white-space:pre;overflow-x:auto;line-height:normal;font-family:Menlo,'DejaVu Sans Mono',consolas,'Courier New',monospace\"></pre>\n"
      ],
      "text/plain": [
       "\u001b[?25l"
      ]
     },
     "metadata": {},
     "output_type": "display_data"
    },
    {
     "data": {
      "application/vnd.jupyter.widget-view+json": {
       "model_id": "89a77d198c8f42f299f4099a0f712a2d",
       "version_major": 2,
       "version_minor": 0
      },
      "text/plain": [
       "Output()"
      ]
     },
     "metadata": {},
     "output_type": "display_data"
    }
   ],
   "source": [
    "b = hb.Batch(backend=backend, name='emp_bayes')\n",
    "num_jobs = 1000\n",
    "\n",
    "#list_of_tissues=['Whole_Blood','Adipose_Subcutaneous']\n",
    "\n",
    "list_of_tissues=gtex_tissue_list\n",
    "\n",
    "b = hb.Batch(backend=backend, name='emp_bayes')\n",
    "\n",
    "for tissue in list_of_tissues:\n",
    "    \n",
    "    \n",
    "  \n",
    "    for job_index in range(num_jobs):\n",
    "    \n",
    "        j = b.new_job(name='run_emp_bayes_'+tissue)\n",
    "        j.memory('20Gi')\n",
    "       \n",
    "        #localizing the files\n",
    "        \n",
    "        j.image('us-central1-docker.pkg.dev/finucane-splicing-hj/testing/testing_beta_binom:v4')\n",
    "            \n",
    "        input_script = \"/home/run_optimizer_alt_ss_w_mixed_effects.py\"\n",
    "\n",
    "        input_file_tissue = b.read_input(\"gs://sqtl_gtex/exon_exon_counts_gtex/\"+tissue+'_perind_numers.counts.gz')\n",
    "    \n",
    "        input_file_to_filter_events = b.read_input(\"gs://sqtl_gtex/files/EF_inputs/alt_ss_for_EF_algorithm.csv.gz\")\n",
    "        \n",
    "        j.command(f'python3 {input_script} \\\n",
    "                            --tissue {tissue} \\\n",
    "                                --filter_file {input_file_to_filter_events} \\\n",
    "                                --tissue_file {input_file_tissue} \\\n",
    "                                --output_file {j.output} \\\n",
    "                                --num_jobs {num_jobs} \\\n",
    "                                --job_index {job_index}')\n",
    "        \n",
    "        b.write_output(j.output, 'gs://sqtl_gtex/files/testing/mixture_testing/real_data_outputs/' + tissue + '_alt_ss_EF_5_FPR_5_' + str(job_index) + '_alphas_betas.csv')\n",
    "\n",
    "      \n",
    "b.run() \n",
    "    "
   ]
  },
  {
   "cell_type": "code",
   "execution_count": null,
   "id": "2ba9382f-9054-4aaf-a6dc-04f6919ebf97",
   "metadata": {},
   "outputs": [],
   "source": []
  },
  {
   "cell_type": "markdown",
   "id": "f2334595-e19f-4fab-90cc-d27cf4f326f9",
   "metadata": {
    "jp-MarkdownHeadingCollapsed": true
   },
   "source": [
    "all alt ss combine files - in prep\n",
    "--\n",
    "\n",
    "\n"
   ]
  },
  {
   "cell_type": "code",
   "execution_count": 56,
   "id": "37f5b4d5-3226-4f6c-9b2f-49871c3dbdc5",
   "metadata": {},
   "outputs": [
    {
     "data": {
      "text/html": [
       "<pre style=\"white-space:pre;overflow-x:auto;line-height:normal;font-family:Menlo,'DejaVu Sans Mono',consolas,'Courier New',monospace\"></pre>\n"
      ],
      "text/plain": [
       "\u001b[?25l"
      ]
     },
     "metadata": {},
     "output_type": "display_data"
    },
    {
     "data": {
      "application/vnd.jupyter.widget-view+json": {
       "model_id": "71dac0cf2f4d4d34b77c6490df0dff62",
       "version_major": 2,
       "version_minor": 0
      },
      "text/plain": [
       "Output()"
      ]
     },
     "metadata": {},
     "output_type": "display_data"
    },
    {
     "data": {
      "text/html": [
       "<pre style=\"white-space:pre;overflow-x:auto;line-height:normal;font-family:Menlo,'DejaVu Sans Mono',consolas,'Courier New',monospace\">\n",
       "</pre>\n"
      ],
      "text/plain": [
       "\n",
       "\u001b[?25h"
      ]
     },
     "metadata": {},
     "output_type": "display_data"
    },
    {
     "data": {
      "text/html": [
       "<pre style=\"white-space:pre;overflow-x:auto;line-height:normal;font-family:Menlo,'DejaVu Sans Mono',consolas,'Courier New',monospace\"></pre>\n"
      ],
      "text/plain": [
       "\u001b[?25l"
      ]
     },
     "metadata": {},
     "output_type": "display_data"
    },
    {
     "data": {
      "application/vnd.jupyter.widget-view+json": {
       "model_id": "71b0fe82cd934a3c83876a368e937794",
       "version_major": 2,
       "version_minor": 0
      },
      "text/plain": [
       "Output()"
      ]
     },
     "metadata": {},
     "output_type": "display_data"
    },
    {
     "data": {
      "text/html": [
       "<pre style=\"white-space:pre;overflow-x:auto;line-height:normal;font-family:Menlo,'DejaVu Sans Mono',consolas,'Courier New',monospace\">\n",
       "</pre>\n"
      ],
      "text/plain": [
       "\n",
       "\u001b[?25h"
      ]
     },
     "metadata": {},
     "output_type": "display_data"
    },
    {
     "name": "stdout",
     "output_type": "stream",
     "text": [
      "batch 8243993 complete: failure\n"
     ]
    },
    {
     "data": {
      "text/html": [
       "<pre style=\"white-space:pre;overflow-x:auto;line-height:normal;font-family:Menlo,'DejaVu Sans Mono',consolas,'Courier New',monospace\"></pre>\n"
      ],
      "text/plain": [
       "\u001b[?25l"
      ]
     },
     "metadata": {},
     "output_type": "display_data"
    },
    {
     "data": {
      "application/vnd.jupyter.widget-view+json": {
       "model_id": "b086f5c52dc74540803357040194b2f3",
       "version_major": 2,
       "version_minor": 0
      },
      "text/plain": [
       "Output()"
      ]
     },
     "metadata": {},
     "output_type": "display_data"
    },
    {
     "data": {
      "text/html": [
       "<pre style=\"white-space:pre;overflow-x:auto;line-height:normal;font-family:Menlo,'DejaVu Sans Mono',consolas,'Courier New',monospace\">\n",
       "</pre>\n"
      ],
      "text/plain": [
       "\n",
       "\u001b[?25h"
      ]
     },
     "metadata": {},
     "output_type": "display_data"
    },
    {
     "data": {
      "text/html": [
       "<pre style=\"white-space:pre;overflow-x:auto;line-height:normal;font-family:Menlo,'DejaVu Sans Mono',consolas,'Courier New',monospace\"></pre>\n"
      ],
      "text/plain": [
       "\u001b[?25l"
      ]
     },
     "metadata": {},
     "output_type": "display_data"
    },
    {
     "data": {
      "application/vnd.jupyter.widget-view+json": {
       "model_id": "df92a71e0f844cf197b42155dbc90acb",
       "version_major": 2,
       "version_minor": 0
      },
      "text/plain": [
       "Output()"
      ]
     },
     "metadata": {},
     "output_type": "display_data"
    },
    {
     "ename": "KeyboardInterrupt",
     "evalue": "",
     "output_type": "error",
     "traceback": [
      "\u001b[0;31m---------------------------------------------------------------------------\u001b[0m",
      "\u001b[0;31mKeyboardInterrupt\u001b[0m                         Traceback (most recent call last)",
      "Cell \u001b[0;32mIn[56], line 34\u001b[0m\n\u001b[1;32m     31\u001b[0m ofile \u001b[38;5;241m=\u001b[39m hb\u001b[38;5;241m.\u001b[39mconcatenate(b, files_given_sim, branching_factor\u001b[38;5;241m=\u001b[39m\u001b[38;5;241m2\u001b[39m,image\u001b[38;5;241m=\u001b[39m\u001b[38;5;124m'\u001b[39m\u001b[38;5;124mus-central1-docker.pkg.dev/finucane-splicing-hj/testing/testing_beta_binom:v4\u001b[39m\u001b[38;5;124m'\u001b[39m )\n\u001b[1;32m     33\u001b[0m b\u001b[38;5;241m.\u001b[39mwrite_output(ofile, \u001b[38;5;124mf\u001b[39m\u001b[38;5;124m'\u001b[39m\u001b[38;5;124mgs://sqtl_gtex/files/testing/mixture_testing/real_data_outputs/all_params_fitted/all_\u001b[39m\u001b[38;5;132;01m{\u001b[39;00mnew_file_name\u001b[38;5;132;01m}\u001b[39;00m\u001b[38;5;124m'\u001b[39m) \n\u001b[0;32m---> 34\u001b[0m \u001b[43mb\u001b[49m\u001b[38;5;241;43m.\u001b[39;49m\u001b[43mrun\u001b[49m\u001b[43m(\u001b[49m\u001b[43m)\u001b[49m\n",
      "File \u001b[0;32m/opt/anaconda3/envs/running_hail_env/lib/python3.11/site-packages/hailtop/batch/batch.py:716\u001b[0m, in \u001b[0;36mBatch.run\u001b[0;34m(self, dry_run, verbose, delete_scratch_on_exit, **backend_kwargs)\u001b[0m\n\u001b[1;32m    688\u001b[0m \u001b[38;5;28;01mdef\u001b[39;00m \u001b[38;5;21mrun\u001b[39m(\n\u001b[1;32m    689\u001b[0m     \u001b[38;5;28mself\u001b[39m, dry_run: \u001b[38;5;28mbool\u001b[39m \u001b[38;5;241m=\u001b[39m \u001b[38;5;28;01mFalse\u001b[39;00m, verbose: \u001b[38;5;28mbool\u001b[39m \u001b[38;5;241m=\u001b[39m \u001b[38;5;28;01mFalse\u001b[39;00m, delete_scratch_on_exit: \u001b[38;5;28mbool\u001b[39m \u001b[38;5;241m=\u001b[39m \u001b[38;5;28;01mTrue\u001b[39;00m, \u001b[38;5;241m*\u001b[39m\u001b[38;5;241m*\u001b[39mbackend_kwargs: Any\n\u001b[1;32m    690\u001b[0m ) \u001b[38;5;241m-\u001b[39m\u001b[38;5;241m>\u001b[39m Optional[_bc\u001b[38;5;241m.\u001b[39mBatch]:\n\u001b[1;32m    691\u001b[0m \u001b[38;5;250m    \u001b[39m\u001b[38;5;124;03m\"\"\"\u001b[39;00m\n\u001b[1;32m    692\u001b[0m \u001b[38;5;124;03m    Execute a batch.\u001b[39;00m\n\u001b[1;32m    693\u001b[0m \n\u001b[0;32m   (...)\u001b[0m\n\u001b[1;32m    714\u001b[0m \u001b[38;5;124;03m        See :meth:`.Backend._run` for backend-specific arguments.\u001b[39;00m\n\u001b[1;32m    715\u001b[0m \u001b[38;5;124;03m    \"\"\"\u001b[39;00m\n\u001b[0;32m--> 716\u001b[0m     \u001b[38;5;28;01mreturn\u001b[39;00m \u001b[43masync_to_blocking\u001b[49m\u001b[43m(\u001b[49m\u001b[38;5;28;43mself\u001b[39;49m\u001b[38;5;241;43m.\u001b[39;49m\u001b[43m_async_run\u001b[49m\u001b[43m(\u001b[49m\u001b[43mdry_run\u001b[49m\u001b[43m,\u001b[49m\u001b[43m \u001b[49m\u001b[43mverbose\u001b[49m\u001b[43m,\u001b[49m\u001b[43m \u001b[49m\u001b[43mdelete_scratch_on_exit\u001b[49m\u001b[43m,\u001b[49m\u001b[43m \u001b[49m\u001b[38;5;241;43m*\u001b[39;49m\u001b[38;5;241;43m*\u001b[39;49m\u001b[43mbackend_kwargs\u001b[49m\u001b[43m)\u001b[49m\u001b[43m)\u001b[49m\n",
      "File \u001b[0;32m/opt/anaconda3/envs/running_hail_env/lib/python3.11/site-packages/hailtop/utils/utils.py:181\u001b[0m, in \u001b[0;36masync_to_blocking\u001b[0;34m(coro)\u001b[0m\n\u001b[1;32m    179\u001b[0m task \u001b[38;5;241m=\u001b[39m asyncio\u001b[38;5;241m.\u001b[39mensure_future(coro)\n\u001b[1;32m    180\u001b[0m \u001b[38;5;28;01mtry\u001b[39;00m:\n\u001b[0;32m--> 181\u001b[0m     \u001b[38;5;28;01mreturn\u001b[39;00m \u001b[43mloop\u001b[49m\u001b[38;5;241;43m.\u001b[39;49m\u001b[43mrun_until_complete\u001b[49m\u001b[43m(\u001b[49m\u001b[43mtask\u001b[49m\u001b[43m)\u001b[49m\n\u001b[1;32m    182\u001b[0m \u001b[38;5;28;01mfinally\u001b[39;00m:\n\u001b[1;32m    183\u001b[0m     \u001b[38;5;28;01mif\u001b[39;00m task\u001b[38;5;241m.\u001b[39mdone() \u001b[38;5;129;01mand\u001b[39;00m \u001b[38;5;129;01mnot\u001b[39;00m task\u001b[38;5;241m.\u001b[39mcancelled():\n",
      "File \u001b[0;32m/opt/anaconda3/envs/running_hail_env/lib/python3.11/site-packages/nest_asyncio.py:92\u001b[0m, in \u001b[0;36m_patch_loop.<locals>.run_until_complete\u001b[0;34m(self, future)\u001b[0m\n\u001b[1;32m     90\u001b[0m     f\u001b[38;5;241m.\u001b[39m_log_destroy_pending \u001b[38;5;241m=\u001b[39m \u001b[38;5;28;01mFalse\u001b[39;00m\n\u001b[1;32m     91\u001b[0m \u001b[38;5;28;01mwhile\u001b[39;00m \u001b[38;5;129;01mnot\u001b[39;00m f\u001b[38;5;241m.\u001b[39mdone():\n\u001b[0;32m---> 92\u001b[0m     \u001b[38;5;28;43mself\u001b[39;49m\u001b[38;5;241;43m.\u001b[39;49m\u001b[43m_run_once\u001b[49m\u001b[43m(\u001b[49m\u001b[43m)\u001b[49m\n\u001b[1;32m     93\u001b[0m     \u001b[38;5;28;01mif\u001b[39;00m \u001b[38;5;28mself\u001b[39m\u001b[38;5;241m.\u001b[39m_stopping:\n\u001b[1;32m     94\u001b[0m         \u001b[38;5;28;01mbreak\u001b[39;00m\n",
      "File \u001b[0;32m/opt/anaconda3/envs/running_hail_env/lib/python3.11/site-packages/nest_asyncio.py:115\u001b[0m, in \u001b[0;36m_patch_loop.<locals>._run_once\u001b[0;34m(self)\u001b[0m\n\u001b[1;32m    108\u001b[0m     heappop(scheduled)\n\u001b[1;32m    110\u001b[0m timeout \u001b[38;5;241m=\u001b[39m (\n\u001b[1;32m    111\u001b[0m     \u001b[38;5;241m0\u001b[39m \u001b[38;5;28;01mif\u001b[39;00m ready \u001b[38;5;129;01mor\u001b[39;00m \u001b[38;5;28mself\u001b[39m\u001b[38;5;241m.\u001b[39m_stopping\n\u001b[1;32m    112\u001b[0m     \u001b[38;5;28;01melse\u001b[39;00m \u001b[38;5;28mmin\u001b[39m(\u001b[38;5;28mmax\u001b[39m(\n\u001b[1;32m    113\u001b[0m         scheduled[\u001b[38;5;241m0\u001b[39m]\u001b[38;5;241m.\u001b[39m_when \u001b[38;5;241m-\u001b[39m \u001b[38;5;28mself\u001b[39m\u001b[38;5;241m.\u001b[39mtime(), \u001b[38;5;241m0\u001b[39m), \u001b[38;5;241m86400\u001b[39m) \u001b[38;5;28;01mif\u001b[39;00m scheduled\n\u001b[1;32m    114\u001b[0m     \u001b[38;5;28;01melse\u001b[39;00m \u001b[38;5;28;01mNone\u001b[39;00m)\n\u001b[0;32m--> 115\u001b[0m event_list \u001b[38;5;241m=\u001b[39m \u001b[38;5;28;43mself\u001b[39;49m\u001b[38;5;241;43m.\u001b[39;49m\u001b[43m_selector\u001b[49m\u001b[38;5;241;43m.\u001b[39;49m\u001b[43mselect\u001b[49m\u001b[43m(\u001b[49m\u001b[43mtimeout\u001b[49m\u001b[43m)\u001b[49m\n\u001b[1;32m    116\u001b[0m \u001b[38;5;28mself\u001b[39m\u001b[38;5;241m.\u001b[39m_process_events(event_list)\n\u001b[1;32m    118\u001b[0m end_time \u001b[38;5;241m=\u001b[39m \u001b[38;5;28mself\u001b[39m\u001b[38;5;241m.\u001b[39mtime() \u001b[38;5;241m+\u001b[39m \u001b[38;5;28mself\u001b[39m\u001b[38;5;241m.\u001b[39m_clock_resolution\n",
      "File \u001b[0;32m/opt/anaconda3/envs/running_hail_env/lib/python3.11/selectors.py:566\u001b[0m, in \u001b[0;36mKqueueSelector.select\u001b[0;34m(self, timeout)\u001b[0m\n\u001b[1;32m    564\u001b[0m ready \u001b[38;5;241m=\u001b[39m []\n\u001b[1;32m    565\u001b[0m \u001b[38;5;28;01mtry\u001b[39;00m:\n\u001b[0;32m--> 566\u001b[0m     kev_list \u001b[38;5;241m=\u001b[39m \u001b[38;5;28mself\u001b[39m\u001b[38;5;241m.\u001b[39m_selector\u001b[38;5;241m.\u001b[39mcontrol(\u001b[38;5;28;01mNone\u001b[39;00m, max_ev, timeout)\n\u001b[1;32m    567\u001b[0m \u001b[38;5;28;01mexcept\u001b[39;00m \u001b[38;5;167;01mInterruptedError\u001b[39;00m:\n\u001b[1;32m    568\u001b[0m     \u001b[38;5;28;01mreturn\u001b[39;00m ready\n",
      "\u001b[0;31mKeyboardInterrupt\u001b[0m: "
     ]
    }
   ],
   "source": [
    "\n",
    "directory='gs://sqtl_gtex/files/testing/mixture_testing/real_data_outputs/'\n",
    "num_jobs=1000\n",
    "\n",
    "\n",
    "list_of_tissues=gtex_tissue_list\n",
    "directory='gs://sqtl_gtex/files/EF_outputs/mixture_model/SE/optimizer_results/'\n",
    "for tissue in gtex_tissue_list[0:2]:\n",
    "    b = hb.Batch(backend=backend, name='emp_bayes'+tissue)\n",
    "    \n",
    "    files_given_sim=[]\n",
    "    new_file_name = tissue+'_EF_FPR_5_alphas_betas.csv'\n",
    "    for job_index in range(10):\n",
    "        \n",
    "        \n",
    "        inner_j = b.new_job(name='run_emp_bayes_test_'+tissue+'load_tissues')\n",
    "        inner_j.memory('20Gi')\n",
    "        inner_j.image('us-central1-docker.pkg.dev/finucane-splicing-hj/testing/testing_beta_binom:v4')\n",
    "        \n",
    "        file=tissue + '_alt_ss_EF_5_FPR_5_' + str(job_index) + '_alphas_betas.csv'\n",
    "            \n",
    "        o_file=b.read_input(directory+file)\n",
    "        inner_j.output=o_file\n",
    "        files_given_sim.append(o_file)\n",
    "        \n",
    "        \n",
    "    #j = b.new_job(name='run_emp_bayes_test_'+tissue+'concat_files_w_params')\n",
    "    #j.memory('20Gi')\n",
    "    #j.image('us-central1-docker.pkg.dev/finucane-splicing-hj/testing/testing_beta_binom:v4')\n",
    "    #once done, run all files\n",
    "\n",
    "    ofile = hb.concatenate(b, files_given_sim, branching_factor=2,image='us-central1-docker.pkg.dev/finucane-splicing-hj/testing/testing_beta_binom:v4' )\n",
    "    \n",
    "    b.write_output(ofile, f'gs://sqtl_gtex/files/testing/mixture_testing/real_data_outputs/all_params_fitted/all_{new_file_name}') \n",
    "    b.run()"
   ]
  },
  {
   "cell_type": "code",
   "execution_count": 57,
   "id": "7ab5260e-6e78-4c6c-bbe6-a600afcf6521",
   "metadata": {},
   "outputs": [
    {
     "data": {
      "text/plain": [
       "[__RESOURCE_FILE__187222,\n",
       " __RESOURCE_FILE__187223,\n",
       " __RESOURCE_FILE__187224,\n",
       " __RESOURCE_FILE__187225,\n",
       " __RESOURCE_FILE__187226,\n",
       " __RESOURCE_FILE__187227,\n",
       " __RESOURCE_FILE__187228,\n",
       " __RESOURCE_FILE__187229,\n",
       " __RESOURCE_FILE__187230,\n",
       " __RESOURCE_FILE__187231]"
      ]
     },
     "execution_count": 57,
     "metadata": {},
     "output_type": "execute_result"
    }
   ],
   "source": [
    "files_given_sim"
   ]
  },
  {
   "cell_type": "code",
   "execution_count": 18,
   "id": "004362a0-d6be-4c2d-ba61-c9555a94fc43",
   "metadata": {},
   "outputs": [],
   "source": [
    "b = Batch()\n",
    "j1 = b.new_job()\n",
    "j1.command(f'touch {j1.ofile}')\n",
    "j2 = b.new_job()\n",
    "j2.command(f'touch {j2.ofile}')\n",
    "j3 = b.new_job()\n",
    "j3.command(f'touch {j3.ofile}')\n",
    "files = [j1.ofile, j2.ofile, j3.ofile]\n",
    "ofile = concatenate(b, files, branching_factor=2)\n",
    "b.run()"
   ]
  },
  {
   "cell_type": "code",
   "execution_count": null,
   "id": "d2f621f8-0305-4f9e-b477-6e2f17b12741",
   "metadata": {},
   "outputs": [],
   "source": []
  },
  {
   "cell_type": "markdown",
   "id": "072dcf82-5ae4-499b-bb85-fbf4b83dc7c6",
   "metadata": {
    "jp-MarkdownHeadingCollapsed": true
   },
   "source": [
    "test skipped exons\n",
    "--"
   ]
  },
  {
   "cell_type": "code",
   "execution_count": 4,
   "id": "68fe1cdc-1748-4ae2-8f69-4adf84721991",
   "metadata": {},
   "outputs": [],
   "source": [
    "data_dir='/Users/hannahjacobs/MIT Dropbox/Hannah Jacobs/GradSchool/Finucane/splicing_variation_in_humans_2022/data/'"
   ]
  },
  {
   "cell_type": "code",
   "execution_count": 4,
   "id": "d1d2c683-7b65-4cbe-b348-56f3550b14b3",
   "metadata": {},
   "outputs": [],
   "source": [
    "skipped_exons_w_gene_names_and_assigned_abc_introns=pd.read_csv(data_dir+'00_data/skipped_exons_w_gene_names_and_assigned_abc_introns.csv.gz', compression='gzip',low_memory=False)"
   ]
  },
  {
   "cell_type": "code",
   "execution_count": null,
   "id": "55032dfd-94bf-455b-8a1a-2dfe254a344a",
   "metadata": {},
   "outputs": [],
   "source": []
  },
  {
   "cell_type": "code",
   "execution_count": null,
   "id": "02e7aa8e-ef90-4e92-beea-d94bd34025ec",
   "metadata": {},
   "outputs": [],
   "source": []
  },
  {
   "cell_type": "code",
   "execution_count": null,
   "id": "8f1680a2-b352-482d-97a4-f3d4e6667554",
   "metadata": {},
   "outputs": [
    {
     "data": {
      "text/html": [
       "<pre style=\"white-space:pre;overflow-x:auto;line-height:normal;font-family:Menlo,'DejaVu Sans Mono',consolas,'Courier New',monospace\"></pre>\n"
      ],
      "text/plain": [
       "\u001b[?25l"
      ]
     },
     "metadata": {},
     "output_type": "display_data"
    },
    {
     "data": {
      "application/vnd.jupyter.widget-view+json": {
       "model_id": "5dc91bec8bf54a6692cb23c718b341a4",
       "version_major": 2,
       "version_minor": 0
      },
      "text/plain": [
       "Output()"
      ]
     },
     "metadata": {},
     "output_type": "display_data"
    },
    {
     "data": {
      "text/html": [
       "<pre style=\"white-space:pre;overflow-x:auto;line-height:normal;font-family:Menlo,'DejaVu Sans Mono',consolas,'Courier New',monospace\">\n",
       "</pre>\n"
      ],
      "text/plain": [
       "\n",
       "\u001b[?25h"
      ]
     },
     "metadata": {},
     "output_type": "display_data"
    },
    {
     "data": {
      "text/html": [
       "<pre style=\"white-space:pre;overflow-x:auto;line-height:normal;font-family:Menlo,'DejaVu Sans Mono',consolas,'Courier New',monospace\"></pre>\n"
      ],
      "text/plain": [
       "\u001b[?25l"
      ]
     },
     "metadata": {},
     "output_type": "display_data"
    },
    {
     "data": {
      "application/vnd.jupyter.widget-view+json": {
       "model_id": "1e94854eeff74002866ee0aaa91541d3",
       "version_major": 2,
       "version_minor": 0
      },
      "text/plain": [
       "Output()"
      ]
     },
     "metadata": {},
     "output_type": "display_data"
    }
   ],
   "source": [
    "b = hb.Batch(backend=backend, name='emp_bayes')\n",
    "num_jobs = 1000\n",
    "\n",
    "#list_of_tissues=['Whole_Blood','Adipose_Subcutaneous']\n",
    "\n",
    "list_of_tissues=['Whole_Blood','Esophagus_Gastroesophageal_Junction']\n",
    "\n",
    "b = hb.Batch(backend=backend, name='emp_bayes')\n",
    "\n",
    "for tissue in list_of_tissues:\n",
    "    #range(num_jobs)\n",
    "    for job_index in range(100):\n",
    "    \n",
    "        j = b.new_job(name='run_emp_bayes_'+tissue)\n",
    "        j.memory('20Gi')\n",
    "       \n",
    "        #localizing the files\n",
    "        \n",
    "        j.image('us-central1-docker.pkg.dev/finucane-splicing-hj/testing/testing_beta_binom:v4')\n",
    "            \n",
    "        input_script = \"/home/run_optimizer_SE_w_mixed_effects.py\"\n",
    "    \n",
    "        input_file_tissue = b.read_input(\"gs://sqtl_gtex/exon_exon_counts_gtex/\"+tissue+'_perind_numers.counts.gz')\n",
    "    \n",
    "        input_file_to_filter_events = b.read_input(\"gs://sqtl_gtex/files/EF_inputs/skipped_exons_w_gene_names_and_assigned_abc_introns.csv.gz\")\n",
    "       \n",
    "        j.command(f'python3 {input_script} \\\n",
    "                            --tissue {tissue} \\\n",
    "                                --filter_file {input_file_to_filter_events} \\\n",
    "                                --tissue_file {input_file_tissue} \\\n",
    "                                --output_file {j.output} \\\n",
    "                                --num_jobs {num_jobs} \\\n",
    "                                --job_index {job_index}')\n",
    "        #/sqtl_gtex/files/EF_outputs/mixture_model/SE/optimizer_results\n",
    "        b.write_output(j.output, 'gs://sqtl_gtex/files/EF_outputs/mixture_model/SE/optimizer_results/' + tissue + '_SE_EF_5_FPR_5_' + str(job_index) +'_alphas_betas.csv')\n",
    "    \n",
    "b.run()\n",
    "    "
   ]
  },
  {
   "cell_type": "markdown",
   "id": "ba5886cf-5d11-49b5-8abd-57e870e05239",
   "metadata": {},
   "source": [
    "run on all skipped exons\n",
    "--"
   ]
  },
  {
   "cell_type": "code",
   "execution_count": null,
   "id": "e29b6a68-9151-42c4-a0ad-7994abc15d82",
   "metadata": {},
   "outputs": [],
   "source": []
  },
  {
   "cell_type": "code",
   "execution_count": 21,
   "id": "7bf6fc42-29b3-4198-8d58-49f76f64fd53",
   "metadata": {},
   "outputs": [
    {
     "data": {
      "text/html": [
       "<pre style=\"white-space:pre;overflow-x:auto;line-height:normal;font-family:Menlo,'DejaVu Sans Mono',consolas,'Courier New',monospace\"></pre>\n"
      ],
      "text/plain": [
       "\u001b[?25l"
      ]
     },
     "metadata": {},
     "output_type": "display_data"
    },
    {
     "data": {
      "application/vnd.jupyter.widget-view+json": {
       "model_id": "f309130e7d5f471e8ef171b592a67ed8",
       "version_major": 2,
       "version_minor": 0
      },
      "text/plain": [
       "Output()"
      ]
     },
     "metadata": {},
     "output_type": "display_data"
    },
    {
     "data": {
      "text/html": [
       "<pre style=\"white-space:pre;overflow-x:auto;line-height:normal;font-family:Menlo,'DejaVu Sans Mono',consolas,'Courier New',monospace\">\n",
       "</pre>\n"
      ],
      "text/plain": [
       "\n",
       "\u001b[?25h"
      ]
     },
     "metadata": {},
     "output_type": "display_data"
    },
    {
     "data": {
      "text/html": [
       "<pre style=\"white-space:pre;overflow-x:auto;line-height:normal;font-family:Menlo,'DejaVu Sans Mono',consolas,'Courier New',monospace\"></pre>\n"
      ],
      "text/plain": [
       "\u001b[?25l"
      ]
     },
     "metadata": {},
     "output_type": "display_data"
    },
    {
     "data": {
      "application/vnd.jupyter.widget-view+json": {
       "model_id": "13bf422cd4134fcdb96a2383225ad1ec",
       "version_major": 2,
       "version_minor": 0
      },
      "text/plain": [
       "Output()"
      ]
     },
     "metadata": {},
     "output_type": "display_data"
    },
    {
     "data": {
      "text/html": [
       "<pre style=\"white-space:pre;overflow-x:auto;line-height:normal;font-family:Menlo,'DejaVu Sans Mono',consolas,'Courier New',monospace\">\n",
       "</pre>\n"
      ],
      "text/plain": [
       "\n",
       "\u001b[?25h"
      ]
     },
     "metadata": {},
     "output_type": "display_data"
    },
    {
     "name": "stdout",
     "output_type": "stream",
     "text": [
      "batch 8245648 complete: success\n"
     ]
    },
    {
     "data": {
      "text/plain": [
       "<hailtop.batch_client.client.Batch at 0x14f3103d0>"
      ]
     },
     "execution_count": 21,
     "metadata": {},
     "output_type": "execute_result"
    }
   ],
   "source": [
    "num_jobs = 1000\n",
    "\n",
    "b = hb.Batch(backend=backend, name='emp_bayes')\n",
    "\n",
    "for tissue in ['Esophagus_Mucosa']:\n",
    "    \n",
    "    \n",
    "    for job_index in range(num_jobs):\n",
    "        \n",
    "        j = b.new_job(name='run_emp_bayes_'+tissue)\n",
    "        j.memory('20Gi')\n",
    "           \n",
    "        #localizing the files\n",
    "            \n",
    "        j.image('us-central1-docker.pkg.dev/finucane-splicing-hj/testing/testing_beta_binom:v4')\n",
    "        #if job_index<500:\n",
    "        input_script = \"/home/run_optimizer_SE_w_mixed_effects_unskipped_1.py\"\n",
    "        #elif job_index>=500:\n",
    "            #input_script = \"/home/run_optimizer_SE_w_mixed_effects_unskipped_2.py\"\n",
    "            #break\n",
    "        input_file_tissue = b.read_input(\"gs://sqtl_gtex/exon_exon_counts_gtex/\"+tissue+'_perind_numers.counts.gz')\n",
    "        \n",
    "        input_file_to_filter_events = b.read_input(\"gs://sqtl_gtex/files/EF_inputs/skipped_exons_w_gene_names_and_assigned_abc_introns.csv.gz\")\n",
    "           \n",
    "        j.command(f'python3 {input_script} \\\n",
    "                                --tissue {tissue} \\\n",
    "                                    --filter_file {input_file_to_filter_events} \\\n",
    "                                    --tissue_file {input_file_tissue} \\\n",
    "                                    --output_file {j.output} \\\n",
    "                                    --num_jobs {num_jobs} \\\n",
    "                                    --job_index {job_index}')\n",
    "            \n",
    "        b.write_output(j.output, 'gs://sqtl_gtex/files/EF_outputs/mixture_model/SE/optimizer_results/new/' + tissue + '_SE_EF_5_FPR_5_' + str(job_index) +'_alphas_betas.csv')\n",
    "     \n",
    "b.run() \n",
    "    "
   ]
  },
  {
   "cell_type": "markdown",
   "id": "b0e49279-a343-4136-bf98-a97ddae01429",
   "metadata": {
    "jp-MarkdownHeadingCollapsed": true
   },
   "source": [
    "assign cluster names\n",
    "--"
   ]
  },
  {
   "cell_type": "code",
   "execution_count": 5,
   "id": "652c96cc-477b-47d7-8d95-b0a03f45ff29",
   "metadata": {},
   "outputs": [
    {
     "data": {
      "text/html": [
       "<pre style=\"white-space:pre;overflow-x:auto;line-height:normal;font-family:Menlo,'DejaVu Sans Mono',consolas,'Courier New',monospace\"></pre>\n"
      ],
      "text/plain": [
       "\u001b[?25l"
      ]
     },
     "metadata": {},
     "output_type": "display_data"
    },
    {
     "data": {
      "application/vnd.jupyter.widget-view+json": {
       "model_id": "a5fc3876a95d408d8a5eda02ee531548",
       "version_major": 2,
       "version_minor": 0
      },
      "text/plain": [
       "Output()"
      ]
     },
     "metadata": {},
     "output_type": "display_data"
    },
    {
     "data": {
      "text/html": [
       "<pre style=\"white-space:pre;overflow-x:auto;line-height:normal;font-family:Menlo,'DejaVu Sans Mono',consolas,'Courier New',monospace\">\n",
       "</pre>\n"
      ],
      "text/plain": [
       "\n",
       "\u001b[?25h"
      ]
     },
     "metadata": {},
     "output_type": "display_data"
    },
    {
     "data": {
      "text/html": [
       "<pre style=\"white-space:pre;overflow-x:auto;line-height:normal;font-family:Menlo,'DejaVu Sans Mono',consolas,'Courier New',monospace\"></pre>\n"
      ],
      "text/plain": [
       "\u001b[?25l"
      ]
     },
     "metadata": {},
     "output_type": "display_data"
    },
    {
     "data": {
      "application/vnd.jupyter.widget-view+json": {
       "model_id": "a67aba8a82804ee1b02feac6c779f507",
       "version_major": 2,
       "version_minor": 0
      },
      "text/plain": [
       "Output()"
      ]
     },
     "metadata": {},
     "output_type": "display_data"
    },
    {
     "data": {
      "text/html": [
       "<pre style=\"white-space:pre;overflow-x:auto;line-height:normal;font-family:Menlo,'DejaVu Sans Mono',consolas,'Courier New',monospace\">\n",
       "</pre>\n"
      ],
      "text/plain": [
       "\n",
       "\u001b[?25h"
      ]
     },
     "metadata": {},
     "output_type": "display_data"
    },
    {
     "name": "stdout",
     "output_type": "stream",
     "text": [
      "batch 8244703 complete: success\n"
     ]
    },
    {
     "data": {
      "text/plain": [
       "<hailtop.batch_client.client.Batch at 0x152be4910>"
      ]
     },
     "execution_count": 5,
     "metadata": {},
     "output_type": "execute_result"
    }
   ],
   "source": [
    "b = hb.Batch(backend=backend, name='assign_EF')\n",
    "\n",
    "\n",
    "    \n",
    "for tissue in ['Vagina','Whole_Blood']:    \n",
    "    j = b.new_job(name='run_assign_cluster_names_and_exclusion_type_SEs_'+tissue)\n",
    "       \n",
    "    j.memory('20Gi')\n",
    "           \n",
    "            #localizing the files\n",
    "            \n",
    "    j.image('us-central1-docker.pkg.dev/finucane-splicing-hj/testing/testing_beta_binom:v4')\n",
    "                \n",
    "    input_script = \"/home/assign_cluster_names.py\"\n",
    "        \n",
    "    input_file_tissue = b.read_input(\"gs://sqtl_gtex/exon_exon_counts_gtex/\"+tissue+'_perind_numers.counts.gz')\n",
    "        \n",
    "    input_file_to_filter_events = b.read_input(\"gs://sqtl_gtex/files/EF_inputs/skipped_exons_w_gene_names_and_assigned_abc_introns.csv.gz\")\n",
    "    j.image('us-central1-docker.pkg.dev/finucane-splicing-hj/testing/testing_beta_binom:v4')\n",
    "\n",
    "    j.command(f'python3 {input_script} \\\n",
    "                                --tissue {tissue} \\\n",
    "                                    --filter_file {input_file_to_filter_events} \\\n",
    "                                    --tissue_file {input_file_tissue} \\\n",
    "                                    --output_file {j.output} \\\n",
    "                                    --counts_used_file {j.f_1} \\\n",
    "                                     --skipped_1_file {j.f_2} \\\n",
    "                                     --skipped_2_file {j.f_3}')\n",
    "\n",
    "    b.write_output(j.output, 'gs://sqtl_gtex/files/EF_outputs/mixture_model/SE_info/'+tissue+'_SE_extra_info.csv')\n",
    "\n",
    "    b.write_output(j.f_1, 'gs://sqtl_gtex/files/EF_outputs/mixture_model/SE_info/'+tissue+'_counts_used_counts.csv')\n",
    "\n",
    "    b.write_output(j.f_2, 'gs://sqtl_gtex/files/EF_outputs/mixture_model/SE_info/'+tissue+'_skipped_1_coounts.csv')\n",
    "\n",
    "    b.write_output(j.f_3, 'gs://sqtl_gtex/files/EF_outputs/mixture_model/SE_info/'+tissue+'_skipped_2_counts.csv')\n",
    "\n",
    "b.run() \n",
    "    "
   ]
  },
  {
   "cell_type": "code",
   "execution_count": null,
   "id": "5e7716dd-6d59-46f7-bf77-cfb28ed8f1ea",
   "metadata": {},
   "outputs": [],
   "source": [
    "b = hb.Batch(backend=backend, name='assign_EF')\n",
    "\n",
    "\n",
    "    \n",
    "for tissue in gtex_tissue_list:    \n",
    "    j = b.new_job(name='run_assign_cluster_names_and_exclusion_type_SEs_'+tissue)\n",
    "       \n",
    "    j.memory('20Gi')\n",
    "           \n",
    "            #localizing the files\n",
    "            \n",
    "    j.image('us-central1-docker.pkg.dev/finucane-splicing-hj/testing/testing_beta_binom:v4')\n",
    "                \n",
    "    input_script = \"/home/assign_cluster_names.py\"\n",
    "        \n",
    "    input_file_tissue = b.read_input(\"gs://sqtl_gtex/exon_exon_counts_gtex/\"+tissue+'_perind_numers.counts.gz')\n",
    "        \n",
    "    input_file_to_filter_events = b.read_input(\"gs://sqtl_gtex/files/EF_inputs/skipped_exons_w_gene_names_and_assigned_abc_introns.csv.gz\")\n",
    "    j.image('us-central1-docker.pkg.dev/finucane-splicing-hj/testing/testing_beta_binom:v4')\n",
    "\n",
    "    j.command(f'python3 {input_script} \\\n",
    "                                --tissue {tissue} \\\n",
    "                                    --filter_file {input_file_to_filter_events} \\\n",
    "                                    --tissue_file {input_file_tissue} \\\n",
    "                                    --output_file {j.output} \\\n",
    "                                    --counts_used_file {j.f_1} \\\n",
    "                                     --skipped_1_file {j.f_2} \\\n",
    "                                     --skipped_2_file {j.f_3}')\n",
    "\n",
    "    b.write_output(j.output, 'gs://sqtl_gtex/files/EF_outputs/mixture_model/SE_info/'+tissue+'_SE_extra_info.csv')\n",
    "\n",
    "    b.write_output(j.f_1, 'gs://sqtl_gtex/files/EF_outputs/mixture_model/SE_info/'+tissue+'_counts_used_counts.csv')\n",
    "\n",
    "    b.write_output(j.f_2, 'gs://sqtl_gtex/files/EF_outputs/mixture_model/SE_info/'+tissue+'_skipped_1_coounts.csv')\n",
    "\n",
    "    b.write_output(j.f_3, 'gs://sqtl_gtex/files/EF_outputs/mixture_model/SE_info/'+tissue+'_skipped_2_counts.csv')\n",
    "\n",
    "b.run() \n",
    "    "
   ]
  },
  {
   "cell_type": "markdown",
   "id": "0db1f8a8-8811-443a-b19f-82e40eca94d2",
   "metadata": {},
   "source": [
    "# assign EF new SE script\n",
    "--"
   ]
  },
  {
   "cell_type": "code",
   "execution_count": 22,
   "id": "d48db808-988b-4569-a29c-ae67f0cade98",
   "metadata": {},
   "outputs": [
    {
     "data": {
      "text/html": [
       "<pre style=\"white-space:pre;overflow-x:auto;line-height:normal;font-family:Menlo,'DejaVu Sans Mono',consolas,'Courier New',monospace\"></pre>\n"
      ],
      "text/plain": [
       "\u001b[?25l"
      ]
     },
     "metadata": {},
     "output_type": "display_data"
    },
    {
     "data": {
      "application/vnd.jupyter.widget-view+json": {
       "model_id": "af734e1dc7134b9b9a816a1f3af34d9d",
       "version_major": 2,
       "version_minor": 0
      },
      "text/plain": [
       "Output()"
      ]
     },
     "metadata": {},
     "output_type": "display_data"
    },
    {
     "data": {
      "text/html": [
       "<pre style=\"white-space:pre;overflow-x:auto;line-height:normal;font-family:Menlo,'DejaVu Sans Mono',consolas,'Courier New',monospace\">\n",
       "</pre>\n"
      ],
      "text/plain": [
       "\n",
       "\u001b[?25h"
      ]
     },
     "metadata": {},
     "output_type": "display_data"
    },
    {
     "data": {
      "text/html": [
       "<pre style=\"white-space:pre;overflow-x:auto;line-height:normal;font-family:Menlo,'DejaVu Sans Mono',consolas,'Courier New',monospace\"></pre>\n"
      ],
      "text/plain": [
       "\u001b[?25l"
      ]
     },
     "metadata": {},
     "output_type": "display_data"
    },
    {
     "data": {
      "application/vnd.jupyter.widget-view+json": {
       "model_id": "c32a96dbf7544e378393486d20f5ef29",
       "version_major": 2,
       "version_minor": 0
      },
      "text/plain": [
       "Output()"
      ]
     },
     "metadata": {},
     "output_type": "display_data"
    },
    {
     "data": {
      "text/html": [
       "<pre style=\"white-space:pre;overflow-x:auto;line-height:normal;font-family:Menlo,'DejaVu Sans Mono',consolas,'Courier New',monospace\">\n",
       "</pre>\n"
      ],
      "text/plain": [
       "\n",
       "\u001b[?25h"
      ]
     },
     "metadata": {},
     "output_type": "display_data"
    },
    {
     "name": "stdout",
     "output_type": "stream",
     "text": [
      "batch 8245958 complete: success\n"
     ]
    },
    {
     "data": {
      "text/plain": [
       "<hailtop.batch_client.client.Batch at 0x14ef6d910>"
      ]
     },
     "execution_count": 22,
     "metadata": {},
     "output_type": "execute_result"
    }
   ],
   "source": [
    "b = hb.Batch(backend=backend, name='assign_EF')\n",
    "\n",
    "\n",
    "    \n",
    "for tissue in ['Esophagus_Mucosa']:    \n",
    "    j = b.new_job(name='run_assign_EF'+tissue)\n",
    "    j.memory('20Gi')\n",
    "    input_script = \"/home/assign_EF.py\"\n",
    "\n",
    "#gs://sqtl_gtex/files/testing/mixture_testing/real_data_outputs/\n",
    "   # input_directory=\"gs://sqtl_gtex/files/EF_outputs/mixture_model/all_params_fitted/param_values_final/\"\n",
    "    input_directory=\"gs://sqtl_gtex/files/testing/mixture_testing/real_data_outputs/all_params_fitted/\"\n",
    "    j.image('us-central1-docker.pkg.dev/finucane-splicing-hj/testing/testing_beta_binom:v4')\n",
    "\n",
    "    j.command(f'python3 {input_script} \\\n",
    "                --input_directory {input_directory} \\\n",
    "                --tissue_name {tissue} \\\n",
    "                --output_file {j.output}')\n",
    "\n",
    "    b.write_output(j.output, 'gs://sqtl_gtex/files/EF_outputs/mixture_model/EFs_assigned/all_SE_params_'+tissue+'.csv.gz')\n",
    "\n",
    "b.run() \n",
    "    "
   ]
  },
  {
   "cell_type": "markdown",
   "id": "f0837055-e4ff-4d33-bd65-59b51f9e3ff1",
   "metadata": {},
   "source": [
    "assign EF on test set with new SEs\n",
    "--"
   ]
  },
  {
   "cell_type": "code",
   "execution_count": 17,
   "id": "17f0d253-9636-42fe-ba6f-6d310b70b4ad",
   "metadata": {},
   "outputs": [
    {
     "data": {
      "text/html": [
       "<pre style=\"white-space:pre;overflow-x:auto;line-height:normal;font-family:Menlo,'DejaVu Sans Mono',consolas,'Courier New',monospace\"></pre>\n"
      ],
      "text/plain": [
       "\u001b[?25l"
      ]
     },
     "metadata": {},
     "output_type": "display_data"
    },
    {
     "data": {
      "application/vnd.jupyter.widget-view+json": {
       "model_id": "5aef37e02eef46c58a1a22e5c5250de4",
       "version_major": 2,
       "version_minor": 0
      },
      "text/plain": [
       "Output()"
      ]
     },
     "metadata": {},
     "output_type": "display_data"
    },
    {
     "data": {
      "text/html": [
       "<pre style=\"white-space:pre;overflow-x:auto;line-height:normal;font-family:Menlo,'DejaVu Sans Mono',consolas,'Courier New',monospace\">\n",
       "</pre>\n"
      ],
      "text/plain": [
       "\n",
       "\u001b[?25h"
      ]
     },
     "metadata": {},
     "output_type": "display_data"
    },
    {
     "data": {
      "text/html": [
       "<pre style=\"white-space:pre;overflow-x:auto;line-height:normal;font-family:Menlo,'DejaVu Sans Mono',consolas,'Courier New',monospace\"></pre>\n"
      ],
      "text/plain": [
       "\u001b[?25l"
      ]
     },
     "metadata": {},
     "output_type": "display_data"
    },
    {
     "data": {
      "application/vnd.jupyter.widget-view+json": {
       "model_id": "3d1bb039148e47589887a0d812531627",
       "version_major": 2,
       "version_minor": 0
      },
      "text/plain": [
       "Output()"
      ]
     },
     "metadata": {},
     "output_type": "display_data"
    },
    {
     "data": {
      "text/html": [
       "<pre style=\"white-space:pre;overflow-x:auto;line-height:normal;font-family:Menlo,'DejaVu Sans Mono',consolas,'Courier New',monospace\">\n",
       "</pre>\n"
      ],
      "text/plain": [
       "\n",
       "\u001b[?25h"
      ]
     },
     "metadata": {},
     "output_type": "display_data"
    },
    {
     "name": "stdout",
     "output_type": "stream",
     "text": [
      "batch 8245626 complete: success\n"
     ]
    },
    {
     "data": {
      "text/plain": [
       "<hailtop.batch_client.client.Batch at 0x14fd19e50>"
      ]
     },
     "execution_count": 17,
     "metadata": {},
     "output_type": "execute_result"
    }
   ],
   "source": [
    "b = hb.Batch(backend=backend, name='assign_EF')\n",
    "\n",
    "\n",
    "    \n",
    "for tissue in ['Esophagus_Mucosa']:    \n",
    "    j = b.new_job(name='run_assign_EF'+tissue)\n",
    "    j.memory('20Gi')\n",
    "    input_script = \"/home/assign_EF.py\"\n",
    "\n",
    "#gs://sqtl_gtex/files/testing/mixture_testing/real_data_outputs/\n",
    "   # input_directory=\"gs://sqtl_gtex/files/EF_outputs/mixture_model/all_params_fitted/param_values_final/\"\n",
    "    input_directory=\"gs://sqtl_gtex/files/testing/mixture_testing/real_data_outputs/all_params_fitted/\"\n",
    "    j.image('us-central1-docker.pkg.dev/finucane-splicing-hj/testing/testing_beta_binom:v4')\n",
    "\n",
    "    j.command(f'python3 {input_script} \\\n",
    "                --input_directory {input_directory} \\\n",
    "                --tissue_name {tissue} \\\n",
    "                --output_file {j.output}')\n",
    "\n",
    "    b.write_output(j.output, 'gs://sqtl_gtex/files/EF_outputs/mixture_model/EFs_assigned/all_SE_params_'+tissue+'.csv.gz')\n",
    "\n",
    "b.run() \n",
    "    "
   ]
  },
  {
   "cell_type": "markdown",
   "id": "ebe00824-557a-488c-875a-dc2d9fa38a81",
   "metadata": {},
   "source": [
    "run assign EF on all SEs and alt ss\n",
    "-"
   ]
  },
  {
   "cell_type": "code",
   "execution_count": 21,
   "id": "a3bc788a-99e3-4af8-b9db-574c2246ba0d",
   "metadata": {},
   "outputs": [
    {
     "data": {
      "text/html": [
       "<pre style=\"white-space:pre;overflow-x:auto;line-height:normal;font-family:Menlo,'DejaVu Sans Mono',consolas,'Courier New',monospace\"></pre>\n"
      ],
      "text/plain": [
       "\u001b[?25l"
      ]
     },
     "metadata": {},
     "output_type": "display_data"
    },
    {
     "data": {
      "application/vnd.jupyter.widget-view+json": {
       "model_id": "e079f3b284154e47b38487f3991225ba",
       "version_major": 2,
       "version_minor": 0
      },
      "text/plain": [
       "Output()"
      ]
     },
     "metadata": {},
     "output_type": "display_data"
    },
    {
     "data": {
      "text/html": [
       "<pre style=\"white-space:pre;overflow-x:auto;line-height:normal;font-family:Menlo,'DejaVu Sans Mono',consolas,'Courier New',monospace\">\n",
       "</pre>\n"
      ],
      "text/plain": [
       "\n",
       "\u001b[?25h"
      ]
     },
     "metadata": {},
     "output_type": "display_data"
    },
    {
     "data": {
      "text/html": [
       "<pre style=\"white-space:pre;overflow-x:auto;line-height:normal;font-family:Menlo,'DejaVu Sans Mono',consolas,'Courier New',monospace\"></pre>\n"
      ],
      "text/plain": [
       "\u001b[?25l"
      ]
     },
     "metadata": {},
     "output_type": "display_data"
    },
    {
     "data": {
      "application/vnd.jupyter.widget-view+json": {
       "model_id": "fc52ebb9acb2463f89fb8a6e5220b00d",
       "version_major": 2,
       "version_minor": 0
      },
      "text/plain": [
       "Output()"
      ]
     },
     "metadata": {},
     "output_type": "display_data"
    },
    {
     "data": {
      "text/html": [
       "<pre style=\"white-space:pre;overflow-x:auto;line-height:normal;font-family:Menlo,'DejaVu Sans Mono',consolas,'Courier New',monospace\">\n",
       "</pre>\n"
      ],
      "text/plain": [
       "\n",
       "\u001b[?25h"
      ]
     },
     "metadata": {},
     "output_type": "display_data"
    },
    {
     "name": "stdout",
     "output_type": "stream",
     "text": [
      "batch 8244300 complete: success\n"
     ]
    },
    {
     "data": {
      "text/plain": [
       "<hailtop.batch_client.client.Batch at 0x1650ea950>"
      ]
     },
     "execution_count": 21,
     "metadata": {},
     "output_type": "execute_result"
    }
   ],
   "source": [
    "b = hb.Batch(backend=backend, name='assign_EF')\n",
    "\n",
    "\n",
    "    \n",
    "for tissue in gtex_tissue_list:    \n",
    "    j = b.new_job(name='run_assign_EF'+tissue)\n",
    "    j.memory('20Gi')\n",
    "    input_script = \"/home/assign_EF.py\"\n",
    "\n",
    "#gs://sqtl_gtex/files/testing/mixture_testing/real_data_outputs/\n",
    "   # input_directory=\"gs://sqtl_gtex/files/EF_outputs/mixture_model/all_params_fitted/param_values_final/\"\n",
    "    input_directory=\"gs://sqtl_gtex/files/testing/mixture_testing/real_data_outputs/all_params_fitted/\"\n",
    "    j.image('us-central1-docker.pkg.dev/finucane-splicing-hj/testing/testing_beta_binom:v4')\n",
    "\n",
    "    j.command(f'python3 {input_script} \\\n",
    "                --input_directory {input_directory} \\\n",
    "                --tissue_name {tissue} \\\n",
    "                --output_file {j.output}')\n",
    "\n",
    "    b.write_output(j.output, 'gs://sqtl_gtex/files/EF_outputs/mixture_model/EFs_assigned/'+tissue+'_alt_ss_and_SEs_EF_5_FPR_5_values.csv.gz')\n",
    "\n",
    "b.run() \n",
    "    "
   ]
  },
  {
   "cell_type": "code",
   "execution_count": null,
   "id": "c582b970-4f5b-4162-9380-ad7060e8afbf",
   "metadata": {},
   "outputs": [],
   "source": [
    "b = hb.Batch(backend=backend, name='assign_EF')\n",
    "\n",
    "    #localizing the files\n",
    "    \n",
    "\n",
    "    \n",
    "for tissue in gtex_tissue_list:    \n",
    "    j = b.new_job(name='run_assign_EF'+tissue)\n",
    "    j.memory('20Gi')\n",
    "    input_script = \"/home/assign_EF.py\"\n",
    "\n",
    "#gs://sqtl_gtex/files/testing/mixture_testing/real_data_outputs/\n",
    "   # input_directory=\"gs://sqtl_gtex/files/EF_outputs/mixture_model/all_params_fitted/param_values_final/\"\n",
    "    input_directory=\"gs://sqtl_gtex/files/testing/mixture_testing/real_data_outputs/all_params_fitted/\"\n",
    "    j.image('us-central1-docker.pkg.dev/finucane-splicing-hj/testing/testing_beta_binom:v4')\n",
    "\n",
    "    j.command(f'python3 {input_script} \\\n",
    "                --input_directory {input_directory} \\\n",
    "                --tissue_name {tissue} \\\n",
    "                --output_file {j.output}')\n",
    "\n",
    "    b.write_output(j.output, 'gs://sqtl_gtex/files/EF_outputs/mixture_model/EFs_assigned/'+tissue+'_alt_ss_and_SEs_EF_5_FPR_5_values.csv.gz')\n",
    "\n",
    "b.run() \n",
    "    "
   ]
  },
  {
   "cell_type": "markdown",
   "id": "8dfd654c-46cc-48d0-a8ac-fa437987d480",
   "metadata": {},
   "source": [
    "check outputs\n",
    "--"
   ]
  },
  {
   "cell_type": "code",
   "execution_count": 145,
   "id": "5f101898-2ba7-47c0-8746-9b6abab49b4d",
   "metadata": {},
   "outputs": [
    {
     "name": "stderr",
     "output_type": "stream",
     "text": [
      "/var/folders/20/mx4zvjpx5_n_bftbxj9cyg0r0000gn/T/ipykernel_47895/3282013285.py:19: FutureWarning:\n",
      "\n",
      "DataFrame.applymap has been deprecated. Use DataFrame.map instead.\n",
      "\n"
     ]
    },
    {
     "data": {
      "image/png": "[encoded data removed]",
      "text/plain": [
       "<Figure size 640x480 with 1 Axes>"
      ]
     },
     "metadata": {},
     "output_type": "display_data"
    }
   ],
   "source": [
    "import seaborn as sns\n",
    "import matplotlib.pyplot as plt\n",
    "\n",
    "EF_vals_single_tissue=pd.read_csv('/Users/hannahjacobs/Dropbox (MIT)/GradSchool/Finucane/splicing_variation_in_humans_2022/data/results_post_reviews/EFs_assigned/'+'Small_Intestine_Terminal_Ileum_alt_ss_and_SEs_EF_5_FPR_5_values.csv.gz',\n",
    "                                  compression='gzip',low_memory=False)\n",
    "\n",
    "#EF_vals_single_tissue\n",
    "\n",
    "EF_vals_single_tissue_NVEs=EF_vals_single_tissue[(EF_vals_single_tissue.EF_5<0.99)&(EF_vals_single_tissue.EF_5>0.01)]\n",
    "\n",
    "import numpy as np\n",
    "\n",
    "sns.scatterplot(data=EF_vals_single_tissue_NVEs,\n",
    "                x='EF_1',\n",
    "                y='EF_20')\n",
    "\n",
    "cols_to_convert=['params_triple']\n",
    "\n",
    "params_triple=EF_vals_single_tissue_NVEs[cols_to_convert].applymap(lambda s: np.fromstring(s.strip(\"[]\"), sep=\" \") if isinstance(s, str) else np.nan)\n",
    "\n",
    "EF_vals_single_tissue_NVEs=EF_vals_single_tissue_NVEs.assign(params_triple_as_arr=params_triple)\n",
    "\n",
    "def mixture_calc_EF(EF_as_percent, params):\n",
    "    \"\"\"\n",
    "    Compute the exceedance fraction (EF) for a mixture of Beta distributions.\n",
    "    \n",
    "    The function supports the following parameter orderings:\n",
    "    \n",
    "    1. Only distribution parameters:\n",
    "         [a1, a2, ..., an,  b1, b2, ..., bn]\n",
    "       (Weights are assumed equal: w_i = 1/n.)\n",
    "       \n",
    "    2. Fully specified weights:\n",
    "         [a1, a2, ..., an,  b1, b2, ..., bn,  w1, w2, ..., wn]\n",
    "       \n",
    "    3. Partially specified weights (n>=2):\n",
    "         [a1, a2, ..., an,  b1, b2, ..., bn,  w1, w2, ..., w_{n-1}]\n",
    "       In this case, the last weight is computed as:\n",
    "         w_n = 1 - (w1 + ... + w_{n-1}).\n",
    "    \n",
    "    The function computes the mixture cumulative distribution function (CDF) \n",
    "    on a fixed grid psi in [0,1] with 1000 points, then calculates the density \n",
    "    as:\n",
    "    \n",
    "         density = 1 - (weighted sum of Beta CDFs)\n",
    "         \n",
    "    Finally, it returns the maximum density for psi values greater than or equal \n",
    "    to EF_percent.\n",
    "    \n",
    "    Parameters:\n",
    "        EF_percent (float): The psi threshold (between 0 and 1) at which to compute EF.\n",
    "        params (list or array): The parameter vector following one of the conventions above.\n",
    "    \n",
    "    Returns:\n",
    "        EF (float): The computed exceedance fraction.\n",
    "    \"\"\"\n",
    "    EF_percent=EF_as_percent/100\n",
    "    L = len(params)\n",
    "    \n",
    "    # --- Determine the parameter ordering and extract a's, b's, and weights ---\n",
    "    # Case 1: Only distribution parameters (2*n values)\n",
    "    if L % 2 == 0 and (L % 3 != 0 and (L + 1) % 3 != 0):\n",
    "        n_components = L // 2\n",
    "        a_params = params[0:n_components]\n",
    "        b_params = params[n_components:2*n_components]\n",
    "        w_params = [1.0 / n_components] * n_components  # equal weights\n",
    "    # Case 2: Fully specified weights (3*n values)\n",
    "    elif L % 3 == 0:\n",
    "        n_components = L // 3\n",
    "        a_params = params[0:n_components]\n",
    "        b_params = params[n_components:2*n_components]\n",
    "        w_params = params[2*n_components:3*n_components]\n",
    "    # Case 3: Partially specified weights (3*n - 1 values)\n",
    "    elif (L + 1) % 3 == 0:\n",
    "        n_components = (L + 1) // 3\n",
    "        a_params = params[0:n_components]\n",
    "        b_params = params[n_components:2*n_components]\n",
    "        w_params = list(params[2*n_components:])  # first n-1 weights\n",
    "        w_last = 1 - sum(w_params)\n",
    "        w_params.append(w_last)\n",
    "    else:\n",
    "        raise ValueError(\"Parameter list length not recognized. It should be either 2*n, 3*n, or 3*n-1 in length.\")\n",
    "    \n",
    "    # --- Evaluate the mixture CDF on a fixed grid ---\n",
    "    psi = np.linspace(0, 1, 1000)\n",
    "    mixture_cdf = np.zeros_like(psi, dtype=float)\n",
    "    \n",
    "    for i in range(n_components):\n",
    "        mixture_cdf += w_params[i] * beta.cdf(psi, a_params[i], b_params[i])\n",
    "    \n",
    "    # --- Compute density as 1 - (mixture CDF) ---\n",
    "    density = 1 - mixture_cdf\n",
    "    \n",
    "    # --- Find the maximum density for psi >= EF_percent ---\n",
    "    mask = psi >= EF_percent\n",
    "    if not np.any(mask):\n",
    "        raise ValueError(\"No psi values are greater than or equal to EF_percent.\")\n",
    "    EF = density[mask].max()\n",
    "    \n",
    "    return EF\n",
    "\n",
    "from scipy.stats import beta\n",
    "\n"
   ]
  },
  {
   "cell_type": "code",
   "execution_count": null,
   "id": "4534d3ae-85af-4fc5-b0e1-ff7892a1ebd0",
   "metadata": {},
   "outputs": [],
   "source": []
  },
  {
   "cell_type": "code",
   "execution_count": null,
   "id": "76015047-6c9e-4440-b52c-f56d6279d70e",
   "metadata": {},
   "outputs": [],
   "source": []
  },
  {
   "cell_type": "code",
   "execution_count": 147,
   "id": "323c80a1-bb85-4962-bb4f-1f88a0efd02b",
   "metadata": {},
   "outputs": [
    {
     "data": {
      "image/png": "[encoded data removed]",
      "text/plain": [
       "<Figure size 640x480 with 1 Axes>"
      ]
     },
     "metadata": {},
     "output_type": "display_data"
    },
    {
     "data": {
      "image/png": "[encoded data removed]",
      "text/plain": [
       "<Figure size 640x480 with 1 Axes>"
      ]
     },
     "metadata": {},
     "output_type": "display_data"
    },
    {
     "data": {
      "image/png": "[encoded data removed]",
      "text/plain": [
       "<Figure size 640x480 with 1 Axes>"
      ]
     },
     "metadata": {},
     "output_type": "display_data"
    },
    {
     "data": {
      "image/png": "[encoded data removed]",
      "text/plain": [
       "<Figure size 640x480 with 1 Axes>"
      ]
     },
     "metadata": {},
     "output_type": "display_data"
    }
   ],
   "source": [
    "#mixture_calc_EF(20, EF_vals_single_tissue_NVEs.params_triple_as_arr.iloc[0])\n",
    "ax=sns.histplot(data=EF_vals_single_tissue_NVEs,\n",
    "                x='EF_1', hue='splicing_event', bins=10)\n",
    "plt.show()\n",
    "ax1=sns.histplot(data=EF_vals_single_tissue_NVEs,\n",
    "                x='EF_5', hue='splicing_event', bins=10)\n",
    "plt.show()\n",
    "ax2=sns.histplot(data=EF_vals_single_tissue_NVEs,\n",
    "                x='EF_10', hue='splicing_event', bins=10)\n",
    "plt.show()\n",
    "ax3=sns.histplot(data=EF_vals_single_tissue_NVEs,\n",
    "                x='EF_20', hue='splicing_event', bins=10)"
   ]
  },
  {
   "cell_type": "code",
   "execution_count": null,
   "id": "ccabd7d6-57d6-4cf8-98e8-0418ae0af2dd",
   "metadata": {},
   "outputs": [],
   "source": []
  },
  {
   "cell_type": "markdown",
   "id": "2292673f-807b-4f6a-999a-952cf9917e01",
   "metadata": {},
   "source": [
    "old code\n",
    "--"
   ]
  },
  {
   "cell_type": "code",
   "execution_count": 33,
   "id": "c0165b5d-739c-47d6-84b3-9e55ec914b7d",
   "metadata": {},
   "outputs": [
    {
     "data": {
      "text/html": [
       "<pre style=\"white-space:pre;overflow-x:auto;line-height:normal;font-family:Menlo,'DejaVu Sans Mono',consolas,'Courier New',monospace\"></pre>\n"
      ],
      "text/plain": [
       "\u001b[?25l"
      ]
     },
     "metadata": {},
     "output_type": "display_data"
    },
    {
     "data": {
      "application/vnd.jupyter.widget-view+json": {
       "model_id": "238f5b3142134b06a9ce5f3567961040",
       "version_major": 2,
       "version_minor": 0
      },
      "text/plain": [
       "Output()"
      ]
     },
     "metadata": {},
     "output_type": "display_data"
    },
    {
     "data": {
      "text/html": [
       "<pre style=\"white-space:pre;overflow-x:auto;line-height:normal;font-family:Menlo,'DejaVu Sans Mono',consolas,'Courier New',monospace\">\n",
       "</pre>\n"
      ],
      "text/plain": [
       "\n",
       "\u001b[?25h"
      ]
     },
     "metadata": {},
     "output_type": "display_data"
    },
    {
     "data": {
      "text/html": [
       "<pre style=\"white-space:pre;overflow-x:auto;line-height:normal;font-family:Menlo,'DejaVu Sans Mono',consolas,'Courier New',monospace\"></pre>\n"
      ],
      "text/plain": [
       "\u001b[?25l"
      ]
     },
     "metadata": {},
     "output_type": "display_data"
    },
    {
     "data": {
      "application/vnd.jupyter.widget-view+json": {
       "model_id": "5ded016d709446f78ba3143b8609865d",
       "version_major": 2,
       "version_minor": 0
      },
      "text/plain": [
       "Output()"
      ]
     },
     "metadata": {},
     "output_type": "display_data"
    },
    {
     "data": {
      "text/html": [
       "<pre style=\"white-space:pre;overflow-x:auto;line-height:normal;font-family:Menlo,'DejaVu Sans Mono',consolas,'Courier New',monospace\">\n",
       "</pre>\n"
      ],
      "text/plain": [
       "\n",
       "\u001b[?25h"
      ]
     },
     "metadata": {},
     "output_type": "display_data"
    },
    {
     "name": "stdout",
     "output_type": "stream",
     "text": [
      "batch 8243912 complete: failure\n"
     ]
    },
    {
     "data": {
      "text/plain": [
       "<hailtop.batch_client.client.Batch at 0x146bab050>"
      ]
     },
     "execution_count": 33,
     "metadata": {},
     "output_type": "execute_result"
    }
   ],
   "source": [
    "b = hb.Batch(backend=backend, name='emp_bayes')\n",
    "for tissue in gtex_tissue_list:\n",
    "    \n",
    "    \n",
    "    \n",
    "    j = b.new_job(name='run_emp_bayes_'+tissue)\n",
    "    j.memory('7Gi')\n",
    "   \n",
    "    #localizing the files\n",
    "    \n",
    "\n",
    "    \n",
    "    \n",
    "    \n",
    "    \n",
    "    input_script = \"/home/run_EF.py\"\n",
    "\n",
    "    input_file_tissue = b.read_input(\"gs://sqtl_gtex/exon_exon_counts_gtex/\"+tissue+'_perind_numers.counts.gz')\n",
    "\n",
    "    input_file_to_filter_events = b.read_input(\"gs://sqtl_gtex/files/EF_inputs/alt_ss_for_EF_algorithm.csv.gz\")\n",
    "    \n",
    "    j.image('gcr.io/finucane-splicing-hj/python-11-image-hj:v1')\n",
    "\n",
    "    j.command(f'python3 {input_script} \\\n",
    "                --tissue {tissue} \\\n",
    "                --filter_file {input_file_to_filter_events} \\\n",
    "                --tissue_file {input_file_tissue} \\\n",
    "                --lower_bound {0.20} \\\n",
    "                --FPR {0.05} \\\n",
    "                --output_file {j.output}')\n",
    "\n",
    "    b.write_output(j.output, 'gs://sqtl_gtex/files/EF_outputs/alt_ss/EF_20_percent/'+tissue+'_alt_ss_EF_20_FPR_5_values.csv')\n",
    "\n",
    "b.run() \n",
    "    "
   ]
  },
  {
   "cell_type": "code",
   "execution_count": null,
   "id": "8680a32c-4298-490d-9cfb-df2114fde221",
   "metadata": {},
   "outputs": [],
   "source": [
    "python3 run_EF.py \\\n",
    "                --tissue 'Adipose_Subcutaneous' \\\n",
    "                --tissue_file '/Users/hnjacobs/Dropbox (MIT)/GradSchool/Finuance/GTEX sQTLs/GTEx_Analysis_v8_sQTL_leafcutter_counts/Adipose_Subcutaneous_perind_numers.counts.gz' \\\n",
    "                --filter_file '/Users/hnjacobs/Dropbox (MIT)//GradSchool/Finuance/splicing_variation_in_humans_2022/data/alt_splice_sites_filtered_for_popPSI.csv.gz' \\\n",
    "                --output_file Adipose_output.csv.gz\n",
    "    \n",
    "    "
   ]
  },
  {
   "cell_type": "code",
   "execution_count": 8,
   "id": "1e3b5935-8969-465e-a4ff-7546f414cbf0",
   "metadata": {},
   "outputs": [],
   "source": [
    "\n"
   ]
  },
  {
   "cell_type": "code",
   "execution_count": null,
   "id": "934d5610-396f-4e17-beee-2cf0f2d57689",
   "metadata": {},
   "outputs": [],
   "source": [
    "b = (backend=backend, name='emp_bayes')\n",
    "for tissue in ['Adipose_Subcutaneous']:\n",
    "    \n",
    "    \n",
    "    \n",
    "    j = b.new_job(name='run_emp_bayes_'+tissue)\n",
    "    j.memory('7Gi')\n",
    "   \n",
    "    #localizing the files\n",
    "    \n",
    "\n",
    "    \n",
    "    \n",
    "    \n",
    "    \n",
    "    input_script = \"/home/run_EF.py\"\n",
    "\n",
    "    input_file_tissue = b.read_input(\"gs://sqtl_gtex/exon_exon_counts_gtex/\"+tissue+'_perind_numers.counts.gz')\n",
    "\n",
    "    input_file_to_filter_events = b.read_input(\"gs://sqtl_gtex/files/EF_inputs/alt_splice_sites_filtered_for_popPSI.csv.gz\")\n",
    "\n",
    "    j.image('gcr.io/finucane-splicing-hj/python-11-image-hj:v1')\n",
    "\n",
    "    j.command(f'python3 {input_script} \\\n",
    "                --tissue {tissue} \\\n",
    "                --filter_file {input_file_to_filter_events} \\\n",
    "                --tissue_file {input_file_tissue} \\\n",
    "                --output_file {j.output}')\n",
    "\n",
    "    b.write_output(j.output, 'gs://sqtl_gtex/files/EF_outputs/'+tissue+'_EF_values.csv')\n",
    "\n",
    "b.run() \n",
    "    "
   ]
  },
  {
   "cell_type": "code",
   "execution_count": null,
   "id": "0cbebedd-d84a-4852-a5ba-190be8334697",
   "metadata": {},
   "outputs": [],
   "source": []
  },
  {
   "cell_type": "code",
   "execution_count": null,
   "id": "184ae801-1153-4289-a486-cb01a1c645ed",
   "metadata": {},
   "outputs": [],
   "source": []
  },
  {
   "cell_type": "code",
   "execution_count": null,
   "id": "2dafee02-2674-454e-b30c-c15e480a3f92",
   "metadata": {},
   "outputs": [],
   "source": []
  }
 ],
 "metadata": {
  "kernelspec": {
   "display_name": "Python 3 (ipykernel)",
   "language": "python",
   "name": "python3"
  },
  "language_info": {
   "codemirror_mode": {
    "name": "ipython",
    "version": 3
   },
   "file_extension": ".py",
   "mimetype": "text/x-python",
   "name": "python",
   "nbconvert_exporter": "python",
   "pygments_lexer": "ipython3",
   "version": "3.11.10"
  }
 },
 "nbformat": 4,
 "nbformat_minor": 5
}
